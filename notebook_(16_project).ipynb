{
  "cells": [
    {
      "cell_type": "markdown",
      "metadata": {
        "id": "iO9fuY-qcfQD"
      },
      "source": [
        "# Descripcipción del proyecto"
      ]
    },
    {
      "cell_type": "markdown",
      "metadata": {
        "id": "R1ahvlOwcfQF"
      },
      "source": [
        "Film Junky Union, una nueva comunidad vanguardista para los aficionados de las películas clásicas, está desarrollando un sistema para filtrar y categorizar reseñas de películas. Tu objetivo es entrenar un modelo para detectar las críticas negativas de forma automática. Para lograrlo, utilizarás un conjunto de datos de reseñas de películas de IMDB con leyendas de polaridad para construir un modelo para clasificar las reseñas positivas y negativas. Este deberá alcanzar un valor F1 de al menos 0.85."
      ]
    },
    {
      "cell_type": "markdown",
      "metadata": {
        "id": "AM37GBfKcfQG"
      },
      "source": [
        "## Inicialización"
      ]
    },
    {
      "cell_type": "code",
      "execution_count": 31,
      "metadata": {
        "id": "6mZWeUUicfQG"
      },
      "outputs": [],
      "source": [
        "import math\n",
        "from sklearn.model_selection import train_test_split\n",
        "from sklearn.feature_extraction.text import CountVectorizer, TfidfVectorizer\n",
        "from sklearn.linear_model import LogisticRegression\n",
        "import numpy as np\n",
        "import pandas as pd\n",
        "import sklearn.metrics as metrics\n",
        "import matplotlib\n",
        "import matplotlib.pyplot as plt\n",
        "import matplotlib.dates as mdates\n",
        "import seaborn as sns\n",
        "import nltk\n",
        "from nltk.corpus import stopwords\n",
        "from tqdm.auto import tqdm"
      ]
    },
    {
      "cell_type": "code",
      "execution_count": 2,
      "metadata": {
        "id": "5F6uMNZCcfQH"
      },
      "outputs": [],
      "source": [
        "%matplotlib inline\n",
        "%config InlineBackend.figure_format = 'png'\n",
        "# la siguiente línea proporciona gráficos de mejor calidad en pantallas HiDPI\n",
        "# %config InlineBackend.figure_format = 'retina'\n",
        "\n",
        "plt.style.use('seaborn-v0_8')"
      ]
    },
    {
      "cell_type": "code",
      "execution_count": 3,
      "metadata": {
        "id": "bZ2SAMLMcfQI"
      },
      "outputs": [],
      "source": [
        "# esto es para usar progress_apply, puedes leer más en https://pypi.org/project/tqdm/#pandas-integration\n",
        "tqdm.pandas()"
      ]
    },
    {
      "cell_type": "markdown",
      "metadata": {
        "id": "Tg3kq8x5cfQI"
      },
      "source": [
        "## Cargar datos"
      ]
    },
    {
      "cell_type": "code",
      "execution_count": 4,
      "metadata": {
        "id": "usmHLWsAcfQI"
      },
      "outputs": [
        {
          "data": {
            "application/vnd.microsoft.datawrangler.viewer.v0+json": {
              "columns": [
                {
                  "name": "index",
                  "rawType": "int64",
                  "type": "integer"
                },
                {
                  "name": "tconst",
                  "rawType": "object",
                  "type": "string"
                },
                {
                  "name": "title_type",
                  "rawType": "object",
                  "type": "string"
                },
                {
                  "name": "primary_title",
                  "rawType": "object",
                  "type": "string"
                },
                {
                  "name": "original_title",
                  "rawType": "object",
                  "type": "string"
                },
                {
                  "name": "start_year",
                  "rawType": "int64",
                  "type": "integer"
                },
                {
                  "name": "end_year",
                  "rawType": "object",
                  "type": "string"
                },
                {
                  "name": "runtime_minutes",
                  "rawType": "object",
                  "type": "string"
                },
                {
                  "name": "is_adult",
                  "rawType": "int64",
                  "type": "integer"
                },
                {
                  "name": "genres",
                  "rawType": "object",
                  "type": "string"
                },
                {
                  "name": "average_rating",
                  "rawType": "float64",
                  "type": "float"
                },
                {
                  "name": "votes",
                  "rawType": "Int64",
                  "type": "integer"
                },
                {
                  "name": "review",
                  "rawType": "object",
                  "type": "string"
                },
                {
                  "name": "rating",
                  "rawType": "int64",
                  "type": "integer"
                },
                {
                  "name": "sp",
                  "rawType": "object",
                  "type": "string"
                },
                {
                  "name": "pos",
                  "rawType": "int64",
                  "type": "integer"
                },
                {
                  "name": "ds_part",
                  "rawType": "object",
                  "type": "string"
                },
                {
                  "name": "idx",
                  "rawType": "int64",
                  "type": "integer"
                }
              ],
              "ref": "997838a3-3fc8-42eb-badc-2d496e1b79a4",
              "rows": [
                [
                  "0",
                  "tt0068152",
                  "movie",
                  "$",
                  "$",
                  "1971",
                  "\\N",
                  "121",
                  "0",
                  "Comedy,Crime,Drama",
                  "6.3",
                  "2218",
                  "The pakage implies that Warren Beatty and Goldie Hawn are pulling off a huge bank robbery, but that's not what I got out of it! I didn't get anything! In the first half there's a new character (without introduction) in every other scene. The first half-hour is completely incomprehensible, the rest is just one long, annoying, underlit chase scene. There's always an irritating sound in the background whether it's a loud watch ticking, a blaring siren, a train whistling, or even the horrible score by Quincy Jones. There are a lot of parts that are laughably bad, too. Like, the bad guys chasing Beatty on thin ice with a CAR! Or, the police arriving at the scene roughly fifteen times. I really hated this movie!",
                  "1",
                  "neg",
                  "0",
                  "train",
                  "8335"
                ],
                [
                  "1",
                  "tt0068152",
                  "movie",
                  "$",
                  "$",
                  "1971",
                  "\\N",
                  "121",
                  "0",
                  "Comedy,Crime,Drama",
                  "6.3",
                  "2218",
                  "How the hell did they get this made?! Presenting itself as a caper comedy, the misbegotten \"$\" is essentially two hours of people mumbling sentence fragments. The usually dependable Warren Beatty looks drunk, and the usually hilarious Goldie Hawn acts like she's on depressants. As for Gert Frobe, his most famous role - Goldfinger - was infinitely more admirable than his character here. Not even the guy with the champagne bottle of LSD can save this litany of worthlessness. Am I comparing this movie to \"Plan 9 from Outer Space\"? I wouldn't do such a thing even if someone paid me. \"P9FOS\" was idiotically made but ended up hilarious; this was idiotically made and causes you to feel like your brain just melted out of your ears. Warren Beatty and Goldie Hawn made up for this when they co-starred in \"Shampoo\", but then they co-starred in the dreadful \"Town & Country\". Maybe they just shouldn't co-star in movies. All in all, I would rather have my skin torn off than have to watch this again. Awful. Maybe they should remake it with Jackie Chan. Then I would pay to see it.",
                  "1",
                  "neg",
                  "0",
                  "train",
                  "8336"
                ],
                [
                  "2",
                  "tt0313150",
                  "short",
                  "'15'",
                  "'15'",
                  "2002",
                  "\\N",
                  "25",
                  "0",
                  "Comedy,Drama,Short",
                  "6.3",
                  "184",
                  "There is no real story the film seems more like a fly on the wall drama-documentary than a proper film so this piece may in itself be a spoiler. Teen drama about 3 young Singaporean kids (very similar to UK chavs) who play truant from school, run with gangs, get into fights, insult people on the street, get tattoos, hang about doing nothing, etc. etc, They generally imagine themselves to be hard and every so often shout challenging rap chants into the camera. Filmed in MTV style, fast cuts, crazy camera angles, tight close ups and animation interludes. The dialogue might have been crisper in the original languages of Mandarin and Hokkien than in the subtitles and I have no doubt that some of the contemporary Singapore references will slip over Western heads as well as the cultural and political context unless of course you are familiar with Singapore. This kind of teen film may be a first for Singapore but it has been done before and done better in other Western countries, La Haine (1995) for example.",
                  "3",
                  "neg",
                  "0",
                  "test",
                  "2489"
                ],
                [
                  "3",
                  "tt0313150",
                  "short",
                  "'15'",
                  "'15'",
                  "2002",
                  "\\N",
                  "25",
                  "0",
                  "Comedy,Drama,Short",
                  "6.3",
                  "184",
                  "Um .... a serious film about troubled teens in Singapore, a country I have not much knowledge on but have the previous wrong impression that all the kids there are highly disciplined and controlled by their family and government. Well, I guess I am wrong, just like other cities/ countries, they also have their troubled teens who also lead the not so surprising rebellious way of life of drugs, fights, bad language, and .... many other obvious signs of being a bad boy. The surprising part of this film isn't really about how these kids running around causing themselves and others trouble, but rather the subtle gayness hidden behind their so call loyalty between them. The bond between these \"brothers\" may very well originated from an unconscious gay tendency inside these boys. Though it isn't uncommon for str8 guys to have very close friendship with each other, but watch this film closely, it should be entering all sorts of gay film festivals and I would not be surprised that it may win itself a lot more awards toward this direction!",
                  "7",
                  "pos",
                  "1",
                  "test",
                  "9280"
                ],
                [
                  "4",
                  "tt0313150",
                  "short",
                  "'15'",
                  "'15'",
                  "2002",
                  "\\N",
                  "25",
                  "0",
                  "Comedy,Drama,Short",
                  "6.3",
                  "184",
                  "I'm totally agree with GarryJohal from Singapore's comments about this film. Quotation: 'Yes non-Singaporean's can't see what's the big deal about this film. Some of the references in this film fly right over the head of foreign viewers and mostly Singaporeans are the ones who would actually 'get' it.' It's still not quite the truth and as a Malaysian-Chinese, i do 'get it' although i don't speak Hokkien because we do have the similar 'problems' in Malaysia too. I know that it's really hard to understand and to accept this as a REALITY but it is definitely NOT a 'no real story'. I was pleased to see this film outside Malaysia because it will and definitely be banned in Malaysia too. Which means either you get it in 'illegal copied VCDs or DVDs' or hope that someone to be kind enough to 'share' it in the internet. This is not an 'another violent teen drama.......' because it portrays the reality which exists in Singapore (and in Malaysia too) in an interesting way (sad+humour). I was just a little sad to know that this film got about 20 cuts in censorship. What a waste!",
                  "9",
                  "pos",
                  "1",
                  "test",
                  "9281"
                ],
                [
                  "5",
                  "tt0313150",
                  "short",
                  "'15'",
                  "'15'",
                  "2002",
                  "\\N",
                  "25",
                  "0",
                  "Comedy,Drama,Short",
                  "6.3",
                  "184",
                  "This is the first movie I've seen from Singapore and it's great. If you don't know a lot about Asia, its languages and its culture, then this film may be a bit confusing for the non-informed people. As an Asian-American who's double majoring in two Asian languages (one of them being Mandarin) and has taken some Asian American Studies classes, this film was easier for me to understand, but even without that kind of knowledge, I believe this movie is still accessible to its foreign audiences as long as you keep in mind that it's a coming-of-age type of movie. The film is definitely worth seeing just so that you get the chance to see what kind of issues Singapore's young teenage boys are struggling and having to deal with. This is an awesome coming-of-age movie, but filmed and shown in a more artistic and original way. The actors are outstanding.",
                  "9",
                  "pos",
                  "1",
                  "test",
                  "9282"
                ],
                [
                  "6",
                  "tt0313150",
                  "short",
                  "'15'",
                  "'15'",
                  "2002",
                  "\\N",
                  "25",
                  "0",
                  "Comedy,Drama,Short",
                  "6.3",
                  "184",
                  "Yes non-Singaporean's can't see what's the big deal about this film. Some of the references in this film fly right over the head of foreign viewers and mostly Singaporeans are the ones who would actually 'get' it. But i plead with you, foreigner, look at the other crap that's been churned out from Singapore and compare it to this film. It's like comparing a mule's diarhhoea chunks to a little diamond. This film is the first to truly show some the singapore's seedy underbelly - something the forces that be, pretend does not exist. And there's a part in the film where a gangster(ah-beng in our unique colloquial 'ingris') curses in 4 languages, namely Tamil English Malay and Hokkien. Well the truth is most of us can and do do that all the time. The sad thing is that viewers from foreign contries will have an easier time getting their oily little claws on this gem, in its country of origin, it was banned initially, only to be given and R-rating, and that too with about 20 cuts to it. It's nice to know you that one of the best, creative, edgy and original films ever created would be easier for you to obtain unadulterated, uncensored; halfway across the world than in your own nation.",
                  "9",
                  "pos",
                  "1",
                  "test",
                  "9283"
                ],
                [
                  "7",
                  "tt0035958",
                  "movie",
                  "'Gung Ho!': The Story of Carlson's Makin Island Raiders",
                  "'Gung Ho!': The Story of Carlson's Makin Island Raiders",
                  "1943",
                  "\\N",
                  "88",
                  "0",
                  "Drama,History,War",
                  "6.1",
                  "1240",
                  "This true story of Carlson's Raiders is more of a Army training film than anything else.Obviously thrown together quickly on a miniscule budget about the only thing it has to recommend it is an early performance by Robert Mitchum,who's the only decent actor in the cast,and actual footage of the wreckage at Pearl Harbor which gets your blood boiling,as it was obviously intended to do.",
                  "2",
                  "neg",
                  "0",
                  "train",
                  "9903"
                ],
                [
                  "8",
                  "tt0035958",
                  "movie",
                  "'Gung Ho!': The Story of Carlson's Makin Island Raiders",
                  "'Gung Ho!': The Story of Carlson's Makin Island Raiders",
                  "1943",
                  "\\N",
                  "88",
                  "0",
                  "Drama,History,War",
                  "6.1",
                  "1240",
                  "Should have been titled 'Balderdash!' Little in the film is true except the name of the island and the fact submarines were involved. Little more than training film quality with poor camera work, muddy stock footage and perhaps the low point of stereotyping 'Japs' with laughing Japanese infantry, laughing Japanese fighter pilots and one-dimensional square-jawed Americans dying left and right. Sixty years later it is unintentionally funny as an odd artifact and as an opportunity to see what is possible when the war fever is upon you. The plot and the dialogue remind me of playing guns on a summer's afternoon in my childhood, peering through the neighbor's hedge to gain a fatal advantage on my best friend Steve and my little brother. In actual fact, the Makin Island raid was a near total failure with Carlson and his men wandering around in the dark exchanging gunfire with shadows until finally, thirsty and completely disoriented, looking for someone to surrender to, before they happened upon some equally confused Japanese soldiers who promptly surrendered to them! In the withdrawal several of Carlson's Marines ended up on another island and were abandoned! The film, of course, couldn't tell that story, not in 1943, so this bit of whimsy was fabricated and rushed into release to the beating of drums. With Randolph Scott, and his jaw, as Colonel Thorwald (Carlson) leading a unit comprised almost entirely of stock caricatures, the green recruit (Harry Landon, Robert Mitchum), the grizzled veteran (J. Carroll Naish, Milburn Stone, Sam Levene), the country-bumpkin (Rod Cameron), the all-American boy (Alan Curtis), and scores of sneering (when they weren't laughing) 'Japs'. And yet the cast nearly overcomes the material. Almost. Randolph Scott's narrow range is well suited to his role of earnest commander and he is supported by a solid group of professionals who do their best with thin gruel. But in the end, the one-note object of the exercise wins. Any pretense is totally abandoned at the close when Randy Scott simply looks directly into the camera and delivers a stirring (well sorta stirring) call to arms. The cast was better than this material. So was the audience. Should be viewed with Reefer Madness and a bottle of moderately priced Merlot.",
                  "2",
                  "neg",
                  "0",
                  "train",
                  "9905"
                ],
                [
                  "9",
                  "tt0035958",
                  "movie",
                  "'Gung Ho!': The Story of Carlson's Makin Island Raiders",
                  "'Gung Ho!': The Story of Carlson's Makin Island Raiders",
                  "1943",
                  "\\N",
                  "88",
                  "0",
                  "Drama,History,War",
                  "6.1",
                  "1240",
                  "The movie 'Gung Ho!': The Story of Carlson's Makin Island Raiders was made in 1943 with a view to go up the moral of American people at the duration of second world war. It shows with the better way that the cinema can constitute body of propaganda. The value of this film is only collection and no artistic. In a film of propaganda it is useless to judge direction and actors. Watch that movie if you are interested to learn how propaganda functions in the movies or if you are a big fun of Robert Mitchum who has a small role in the film. If you want to see a film for the second world war, they exist much better and objective. I rated it 4/10.",
                  "4",
                  "neg",
                  "0",
                  "train",
                  "9904"
                ],
                [
                  "10",
                  "tt0035958",
                  "movie",
                  "'Gung Ho!': The Story of Carlson's Makin Island Raiders",
                  "'Gung Ho!': The Story of Carlson's Makin Island Raiders",
                  "1943",
                  "\\N",
                  "88",
                  "0",
                  "Drama,History,War",
                  "6.1",
                  "1240",
                  "After reading the reviews, it became obvious that everyone intellectualized this work. How utterly boring. Oh how about the good ol' days and there was nothing like it. Of all the comments no one expressed any emotion to this work or any other. I grew up just after the end of the steam age and this cinematic gem along with Dan'l Boone graced the Saturday afternoon matinées. This was an annual movie that made the rounds and filled the seats with gabbing, yapping, farting, giggling, snot monsters like myself or was-self. And it was a movie theatre filler at the time. Almost as big as the Wizard of Oz. IMDb insists that every critique contains something about the plot. Problem is was that it was rather a template. Here goes. Randolph Scott (cowboy/hero)gathers friends and goes defeats those evil people. Hooray! All of us kids figured out that plot before we plunked our quarter down to watch it. That was just about the plot line of every Scott, John Wayne, Roy Rogers film ever made. If you take the time to go back and review each and every movie - just don't ask for surprises. One must remember the context of the times. There was no or little TV. None for kids. There was school. There was the great outdoors. There were toy guns. No Cyber time. And the steam age had just collapsed. But movies such as this provided the entertainment and filled the imaginations of young whippersnappers. Even the girls got into it. This movie was the entertainment. And it is just as mindless as anything produced today. It had a purpose originally of being propaganda. But quickly came to be kids movies. Our fathers had experienced the real thing. And it wouldn't be until Sam Peckinpah a decade later who finally lavished the red splashes of imitation blood in realistic and copious quantities. Not until his directorship did anyone die slowly, with great pain and miserably. Until Peckinpah war and gun fights were a rather bloodless affair. Thanks Sam. To see a movie had little or no blood, the adults didn't mind. They wouldn't have tolerated it I think. No guts spraying the shattering plant life. So this movie had all of the glory and none of the gory. Gung Ho was suitable for kids then. You will see that I assigned a four to this rating. Why would I do that? Well. It is a terrible movie. No matter how I love it. I do love this movie because it brought back one of the happier moments of my childhood. But it is not all that good of a movie in quality terms. Basically Gung Ho transitted to become a romance novel for children. Should people watch it. Of course. I am not saying to stay away. Realistically however. The plot is simple. The characters shallow? they are shoals. You can love a bad movie.",
                  "4",
                  "neg",
                  "0",
                  "train",
                  "9906"
                ],
                [
                  "11",
                  "tt0217978",
                  "movie",
                  "'R Xmas",
                  "'R Xmas",
                  "2001",
                  "\\N",
                  "85",
                  "0",
                  "Crime,Drama,Thriller",
                  "5.8",
                  "1275",
                  "The whole movie seemed to suffer from poor editing - every scene seemed to take forever to unfold and when they did, I felt like I had waited a long time for very little to happen. I guess I missed the whole point of the movie - either that or there wasn't one.",
                  "1",
                  "neg",
                  "0",
                  "test",
                  "3579"
                ],
                [
                  "12",
                  "tt0217978",
                  "movie",
                  "'R Xmas",
                  "'R Xmas",
                  "2001",
                  "\\N",
                  "85",
                  "0",
                  "Crime,Drama,Thriller",
                  "5.8",
                  "1275",
                  "I don't know what has happened to director Abel Ferrara. Ever since the \"Body Snatchers\" remake he seems to have lost it. \"King of New York\" and \"The Bad Lieutenant\" remain two of the best films of the '90s: searing indictments of a decade gone wrong. With films like \"'R Xmas\" (whatever that means) and \"New Rose Hotel\" he seems determined to disgust and bore his former supporters. This film has NO LIFE in it. While he gets excellent performances out of his actors in all of his projects the result of this mishmash of ideas just doesn't jell. Whatever the point is -- that the new breed of drug dealer is more or less the same as any other upper middle class New Yawkuh -- gets lost in the mind numbing script and boring direction. I saw this opening night at the 4-Plex in downtown L.A. In the lobby, while buying tickets, I was surprised and delighted to see it filled with a large, racially mixed group of men and women in their twenties and thirties. Then they started into the theater but it was the theater that was featuring \"8 Mile\" not \"'R Xmas\"! The theater showing \"'R Xmas\" (keep in mind, this was opening night!) had a total of 4 people watching it, myself, my wife and two others! Way to go, Abel! 2/10",
                  "2",
                  "neg",
                  "0",
                  "test",
                  "3581"
                ],
                [
                  "13",
                  "tt0217978",
                  "movie",
                  "'R Xmas",
                  "'R Xmas",
                  "2001",
                  "\\N",
                  "85",
                  "0",
                  "Crime,Drama,Thriller",
                  "5.8",
                  "1275",
                  "\"R Xmas\" peers into the lives of a middle class married-with-kid family of narco-distributors during the Christmas holiday season. There's no story here - just a disjointed collection of events. Ferrara seems to get off on the juxtaposition of the holidays and home life with narcotics peddling in NYC, jumping back and forth between each. The players appear to be improv'ing and adlibing now and then making for an unconvincing watch. Overall a poor effort not worth the time. (D)",
                  "3",
                  "neg",
                  "0",
                  "test",
                  "3577"
                ],
                [
                  "14",
                  "tt0217978",
                  "movie",
                  "'R Xmas",
                  "'R Xmas",
                  "2001",
                  "\\N",
                  "85",
                  "0",
                  "Crime,Drama,Thriller",
                  "5.8",
                  "1275",
                  "Good actors, good director, well acted, well directed but...Where's the movie? Did they have an script or just improvised it all? At least it is a short-length movie (only 80 minutes, including credits). Nothing seems to happen in this film, nothing at all. A couple of small time drug dealers caught in small time troubles, but you'll never get a clue of what's happening, nor even what are they talking about in some sequences of the movie. Tons of \"f***'s\" and \"motherf*****'s\", but nothing else... For the people who love Abel Ferrara's films such as The Funeral, 'R Xmas is going to be a big disappointment, as it's been for me. What was he thinking about? Did he really think that this was a good movie? And if he didn't, then why did he made it?",
                  "3",
                  "neg",
                  "0",
                  "test",
                  "3578"
                ],
                [
                  "15",
                  "tt0217978",
                  "movie",
                  "'R Xmas",
                  "'R Xmas",
                  "2001",
                  "\\N",
                  "85",
                  "0",
                  "Crime,Drama,Thriller",
                  "5.8",
                  "1275",
                  "I caught the North American premiere of this at the Chicago International Film Festival. I was beyond disappointed. From the mood in the audience, I wasn't the only one. The film takes a long time to get to the conflict, and then refuses to resolve it, opting instead to tell us the story is \"To Be Continued\". Is it a spoiler to reveal that a movie has no ending? I consider it more of a warning. This is, at best, only half a movie- and not the good half.",
                  "3",
                  "neg",
                  "0",
                  "test",
                  "3582"
                ],
                [
                  "16",
                  "tt0217978",
                  "movie",
                  "'R Xmas",
                  "'R Xmas",
                  "2001",
                  "\\N",
                  "85",
                  "0",
                  "Crime,Drama,Thriller",
                  "5.8",
                  "1275",
                  "The whole movie was done half-assed. It could have been a much better movie but, that would have required a re-write and different actors. Compared to \"Traffic\" this was a wreck. I am just glad I didn't have to pay for it. Spoiler: What was the point of having crooked cops getting arrested? To share the guilt of drug dealers and make them feel better? Pu-leaze! The parents were scum, driven by greed, and didn't even consider the harm they were doing; as pointed out by Ice-T. 2 out of 10",
                  "3",
                  "neg",
                  "0",
                  "test",
                  "3583"
                ],
                [
                  "17",
                  "tt0217978",
                  "movie",
                  "'R Xmas",
                  "'R Xmas",
                  "2001",
                  "\\N",
                  "85",
                  "0",
                  "Crime,Drama,Thriller",
                  "5.8",
                  "1275",
                  "In New York, in a morning close to Christmas, an upper class father and mother go in their BMW to a private school to see the play of their daughter. Then they go shopping and later they return to their fancy apartment in Manhattan. In the night, they move to a simple apartment in a dangerous neighborhood, where they prepare drugs for distribution. On the Christmas Eve, while buying the Christmas gift for their daughter, the father is kidnapped, and his wife desperately tries to raise a high amount of money to pay the requested ransom. \"R Xmas\" is a deceptive movie of Abel Ferrara. The lead characters do not have names, are anonymous, and maybe his intention is to tell that in the breast of a neighbor family in your building may have drug dealers; or that drug dealers may also have families and may be loving persons; or that there are many dirty cops, probably worse than the criminals; or is it a simple apology to crime? Whatever! However, this humanization of criminals is a horrible message, and I really did not like this movie. In Brazil, for example, many drug dealers and criminals help their communities, due to the absence of the State in poor areas and slums, but this procedure does not make them model citizen. In this movie, we see a loving upper class family in the day, providing drugs as means of living, but the destruction of the members of other families is not shown in the story, and it is impossible to feel sympathy for any characters. In the end, I wished all of them dead. My vote is four. Title (Brazil): \"Gangues do Gueto\" (\"Gangs of the Ghetto\")",
                  "4",
                  "neg",
                  "0",
                  "test",
                  "3576"
                ],
                [
                  "18",
                  "tt0217978",
                  "movie",
                  "'R Xmas",
                  "'R Xmas",
                  "2001",
                  "\\N",
                  "85",
                  "0",
                  "Crime,Drama,Thriller",
                  "5.8",
                  "1275",
                  "'R Xmas is one of the only films I've seen where I can almost say that simply nothing happens.I felt as though I watched a drug dealing middle- class couple,with child,walk around,eat,smoke,converse(excuse me,swear)through most of the film.And I don't believe I'm missing the point.I think this film was well directed,well acted(although the husband's performance was rather wooden),and the constant feeling of impending doom around every corner certainly kept the viewer involved.But when the dust clears,your left with zero(just a boat-load of fade outs).I didn't want car chases,gun violence,beatings,etc.In fact,I'm sick of violence.But my goodness,let's at least get a bit deeper into all these characters(let's get to know each of these corrupt officers a little better-not just show glancing shots of them as street thugs).Why was the dialogue so juvenile? Everyone spoke as if they were in junior high.I believe even this side of our human race can say something other than fu_ _,sh_ _,etc.The pacing and the storyline of 'R Xmas I found quite interesting,but the execution was plain and simple-empty.4/10",
                  "4",
                  "neg",
                  "0",
                  "test",
                  "3580"
                ],
                [
                  "19",
                  "tt0073697",
                  "movie",
                  "'Sheba, Baby'",
                  "'Sheba, Baby'",
                  "1975",
                  "\\N",
                  "90",
                  "0",
                  "Action,Crime,Drama",
                  "5.8",
                  "1204",
                  "I've seen Foxy Brown, Coffy, Friday Foster, Bucktown, and Black Mama/White Mama...of these this is Pam Grier's worst movie. Poor acting, bad script, boring action scenes...there's just nothing there. Avoid this and rent Friday Foster, Coffy or Foxy Brown instead.",
                  "2",
                  "neg",
                  "0",
                  "test",
                  "3354"
                ],
                [
                  "20",
                  "tt0073697",
                  "movie",
                  "'Sheba, Baby'",
                  "'Sheba, Baby'",
                  "1975",
                  "\\N",
                  "90",
                  "0",
                  "Action,Crime,Drama",
                  "5.8",
                  "1204",
                  "I really tried, but this movie just didn't work for me. The action scenes were dull, the acting was surprisingly poor, and some of these characters were TOO stereotypical to even be funny. Pam Grier tries, but when you have nothing to work with, even her considerable talent cannot prevent a disaster. Even by the standards of this weak genre, this film is pretty bad.",
                  "3",
                  "neg",
                  "0",
                  "test",
                  "3355"
                ],
                [
                  "21",
                  "tt0073697",
                  "movie",
                  "'Sheba, Baby'",
                  "'Sheba, Baby'",
                  "1975",
                  "\\N",
                  "90",
                  "0",
                  "Action,Crime,Drama",
                  "5.8",
                  "1204",
                  "When Pam Grier made COFFY in 1973, it was an exciting though flawed film. The plot was gritty and satisfying--even if the acting was often amateurish. It was so successful that American International Pictures decided to rehash the formula the following year with FOXY BROWN--not a bad film but certainly almost like \"COFFY II\". Now, only a year later, the studio had apparently given up on creating anything new for Ms. Grier, as SHEBA, BABY was essentially the same plot from COFFY and FOXY BROWN yet again. Because the idea was so recycled and because the acting and acting are so tired and low-energy, it's really scraping the bottom of the Blaxploitation barrel. Exactly like these other films, SHEBA, BABY begins with some local Black mobsters pressuring and eventually killing someone Pam Grier loves. In the past, it had been drug dealers and pimps, now it was mobsters trying to run all the loan companies and pawn shops out of town so they can corner the market. And, like the other films, Pam is a one-woman hit squad--dispensing justice and a good butt whoopin'. And, like the other films, there is a \"cat fight\" between Pam and a White lady right in front of \"Mr. Big\". And, like the other films, Mr. Big is a White guy pulling all the strings. And, like the other films, she is captured by Mr. Big. And, like the other films, he DOESN'T immediately kill her but gives her ample opportunity to escape (here, leaving a knife conveniently lying around). And, like the other films, she eventually gets free and kills his jive-@$$. While this formula did seem interesting in 1973, by this film it was frankly a predictable bore. Even if you hadn't seen the other films, it still was bad because the action was so slow--the punching and kicking seemed so slow and staged. The same could be said for the gun play. In one scene, four guys with machine guns, an AR-15 and shotguns attack. Pam responds by opening fire with a .357 revolver and killing 3 of the 4 and getting the other to surrender!!! Even if she's a good shot, she was rather slow and the guys just seemed to wait until she killed them!!! Plus, even a world champion shooter or Rambo couldn't have succeeded with such one-sided odds--after all, these guys had very impressive weapons and they were already pointed at her when she \"cleverly\" whipped out her pistol and easily dispatched these professional hit men!! In addition to slow and lame action scenes compared to any other Blaxpoitation film, the movie has many logical gaps that show the writing was terrible but the studio just didn't care. In one case, her boyfriend, \"Williams\", knew about the yacht and Nu-tronic at the end of the film but Pam never told him--how did he know about this? In another, the cops approach a boat filled with hoods and the hood immediately open fire. However, the cops had no evidence anything was happening and the crooks began firing with little provocation. And, the crooks had .30 caliber machine guns and other amazingly powerful weapons but in many cases were killed by cops wielding snub-nosed .38s! The bottom line is that this is a great example of \"Been there/done that....a WHOLE LOT BETTER\". I love Blaxploitation films, but this one is just too dopey and slow to merit watching except by very devoted fans of the genre.",
                  "3",
                  "neg",
                  "0",
                  "test",
                  "3356"
                ],
                [
                  "22",
                  "tt0073697",
                  "movie",
                  "'Sheba, Baby'",
                  "'Sheba, Baby'",
                  "1975",
                  "\\N",
                  "90",
                  "0",
                  "Action,Crime,Drama",
                  "5.8",
                  "1204",
                  "Sheba Shayne (Pam Grier) receives a telegram informing her that her father may be in trouble. Sheba, a private investigator and former cop, goes to her father's aid. But someone will stop at nothing to run her father out of business. An attempt to show their muscle goes awry and Sheba's father is gunned down in cold blood. These guys have messed with the wrong woman. If I had to describe Sheba Baby, the best I can come up with is Pam Grier Lite with some really bad acting. For a Pam Grier film, Sheba Baby is incredibly tame. It's nowhere near as violent as some of her earlier films. Gone are the over-the-top images of Pam placing a small revolver or razor blades in her afro. Pilot (D'Urville Martin) and his crew can't hold a candle to some of the real villains Pam faced in her previous movies. It's strictly by-the-numbers and almost has a made-for-TV feel. As for the bad acting, the baddies that Pam faces off with are as unnatural sounding in their delivery as I've seen. As a result, characters like Pilot don't come across as threatening as they should or need to for the movie to work. That's not to say there aren't moments or elements in Sheba Baby that I didn't enjoy (Pam in a wetsuit and Pam brandishing a spear gun), it's just that when compared with Pam's other films like Coffy, Foxy Brown, and even Friday Foster that the movie fails. One final observation - maybe I'm just more sensitive to these things post-9/11, but I don't remember a time, even in the security lax 70s, when you could take a suitcase full of guns on an airplane. When Sheba flies to her father's aid, she's got an arsenal packed in her luggage!",
                  "4",
                  "neg",
                  "0",
                  "test",
                  "3357"
                ],
                [
                  "23",
                  "tt0073697",
                  "movie",
                  "'Sheba, Baby'",
                  "'Sheba, Baby'",
                  "1975",
                  "\\N",
                  "90",
                  "0",
                  "Action,Crime,Drama",
                  "5.8",
                  "1204",
                  "Below average blaxpoitation action / melodrama in which the lovely Ms. Grier plays a private eye who comes to the aid of her father (Rudy Challenger) and his partner (Austin Stoker of the original \"Assault on Precinct 13\") whose loan business is being threatened. I'll be frank - I agree with the few other user comments for this movie. \"Sheba, Baby\" has a less than satisfying script, direction that isn't particularly distinguished, action scenes that are moderately entertaining at best, and one of Ms. Grier's more nondescript supporting casts (although there's an important supporting role for D'Urville Martin, also a familiar name in blaxpoitation). I get the feeling that this routine movie may have been put together quickly merely to cash in on her then enormous popularity. It sure was cool seeing Stoker again, although Ms. Grier doesn't have as good a role - or dialog - as she has had in other films, although she is doing what she does best, and that's playing a sassy, sexy sister on a mission of vengeance. Non-stop soul / funk soundtrack is enjoyable, at the very least. Mostly recommended to those who wish to see everything in the Pam Grier film repertoire. 4/10",
                  "4",
                  "neg",
                  "0",
                  "test",
                  "3358"
                ],
                [
                  "24",
                  "tt0073697",
                  "movie",
                  "'Sheba, Baby'",
                  "'Sheba, Baby'",
                  "1975",
                  "\\N",
                  "90",
                  "0",
                  "Action,Crime,Drama",
                  "5.8",
                  "1204",
                  "If anything, William Girdler was an opportunist who wanted a piece of the action in regards to whatever was popular during the time. I mean, a blaxploitation flick in Louisville, Kentucky..who would of thunk it?!?! I can just imagine the enthusiasm he must've had getting Pam Grier, quite a hot item, to star in his picture. If you are pretty familiar with the genre, Girdler's Sheba, Baby doesn't necessarily stray too far from formula. Despite a change of venue, the film still deals with a ruthless businessman nicknamed Shark who muscles in on loan companies, using stooges to threaten them in order to get their signatures. Grier is Sheba Shayne, a former Louisville cop working in Chicago who returns home at the request of her father's partner, Brick(Austin Stoker, Assault on Precinct 13). Sheba's father, despite Shark's bullying tactics(..his man in town is Pilot, a wannabe gangster, equipped with stooges who aren't that menacing, rather buffoonish in nature, so thin-skinned they hire hit men outside of town to shoot up the Shayne Loan building), won't give up his company, and this eventually costs him his life when a warning through the use of brute force, leads to his being killed. Sheba will get her revenge on all those responsible for his father's death. In other words, Shark's ass is grass..can you dig it? Seeing Grier with a magnum is enough to sell this particular film, the novelty of the setting being in Louisville is part of the package. You even get to see a speedboat chase, Grier in shootouts with gangsters(..not necessarily the most polished kind one might be accustomed to seeing in a Chicago or New York during this period in blaxploitation), lots of blood spurting from bullet-riddled bodies torn apart by gun-fire, and colorful characters(..such as a wimpy loan shark in pimp-dress named Walker and Pilot who is one of the least scary mobsters you are likely to see)who show up during the film, most having the misfortune of coming in contact with a very angry Sheba. The plot itself is nothing special, but Grier is always worth watching, and Girdler orchestrates plenty of action sequences to keep his target audience entertained. A modest success for Girdler, and one of his more accomplished films.",
                  "7",
                  "pos",
                  "1",
                  "test",
                  "12353"
                ],
                [
                  "25",
                  "tt0073697",
                  "movie",
                  "'Sheba, Baby'",
                  "'Sheba, Baby'",
                  "1975",
                  "\\N",
                  "90",
                  "0",
                  "Action,Crime,Drama",
                  "5.8",
                  "1204",
                  "Pistol-packing Pam Grier takes names and kicks butt as the heroine in \"Asylum of Satan\" director William Girdler's entertaining blaxploitation actioneer \"Sheba Baby,\" co-starring D'Urville Martin and Austin Stoker. \"Sheba Baby\" is one of several tough chick flicks that Grier appeared in during the 1970s, including \"Coffy,\" \"Foxy Brown,\" and \"Friday Foster.\" The short-lived Girdler co-wrote this thoroughly routine private eye potboiler with producer David Shelton in one night and it features a headstrong female shamus that refuses to rely on a man to help her take care of business. Unfortunately, \"Sheba Baby\" isn't nearly as good as the blaxploitation movies that Grier made under the supervision of director Jack Hill. Hill helmed the African-American North Carolina native in \"Coffy,\" \"Foxy Brown,\" \"The Big Bird Cage,\" and \"The Big Doll House.\" Anybody that analyzes images of African-American women in cinema should be familiar with these epics. The chief problem with \"Sheba Baby\" is that our heroine gets too many convenient breaks. Naturally, the secondary villains are trigger happy clowns that couldn't hit the side of a barn with a howitzer. As the main antagonist, Dick Merrifield qualifies as both an egotistical as well as smarmy villain with choice lines like: \"Anything worth having is worth stealing.\" Additionally, composer Monk Huggins does provide a strong, atmospheric orchestral soundtrack, and the best song, with Barbara Mason warbling it, is \"Good Man Is Gone.\" \"Sheba Baby\" casts Grier as stylist Chicago gumshoe Sheba Shayne. She leaves the Windy City to return to her hometown of Louisville, Kentucky, to help out her father. When she arrives in Louisville, Sheba learns that her father, Andy (Rudy Challenger of \"Detroit 9000\"), is having trouble with a local black gangster nicknamed Pilot (cigar-chomping D'Urville Martin of \"Hammer\") who demands that Andy sell out his loan company to Pilot or die. Initially, Pilot dispatches a goon squad to trash Andy's office, but our heroine's father catches them in the act. They turn Sheba's father into a punching bag. Interestingly, during the fight scene, Girdler rarely shows fists smashing flesh. Earlier, Andy's right-hand man, Brick Williams (Austin Stoker of \"Horror High\"), had sent Sheba a telegram requesting that she return to Louisville, but she didn't receive it immediately thanks to her lazy partner who didn't know where to find her. Brick and Sheba hook up, rekindle their romantic flames, and share a night in the sack. Brick spends most of his time urging Sheba to remain calm in the face of adversity. As a former Louisville, Kentucky, police woman, Sheba prefers to shoot first and ask questions second. After she arrives home, Sheba borrows her father's car and barely escapes being blown to bits. As she is walking out the door to get into her father's car, Andy receives another harassing call from Pilot. Previously, Andy had refused to discuss the prospect of selling his loan company to Pilot, but Andy changes his mind and agrees to talk with the hoodlum. A gratified Pilot warns Andy about the dynamite that has been attached to his ignition with a delayed action fuse. In other words, cranking up the car won't trigger the explosion; the explosion comes ten seconds later. Andy and Brick rescue Sheba before the car blows up. Earlier, Sheba had agreed to let her father handle his problems without her interference. \"Dad, I know you think I'm doing a man's job, but I'm not going to sit on the sidelines just because I'm a woman,\" Sheba tells him. After her near-death experience, Sheba vows to learn who sabotaged her father's car. She grilles an old contact from her days as a cop and threatens the guy with her gun to extract the information. Only after Sheba has ground the guy's face into a bucket of chlorine dust does he relent and tell her about a pay-off at the town's railroad museum. Brick accompanies Sheba and shooting ensues with a flustered Pilot getting away by the skin of his chin. Later, Pilot sends a quintet of out-of-town contract thugs armed-to-the-teeth to trash Andy's office. These gunsels ignore their no-kill orders. Not only do they shoot the loan company office to ribbons, but they also blast Sheba's dad with a shotgun. Sheba retaliates in short order. Wielding her nickel-plated revolver, she guns down three of the four assailants Dirty Harry style. The last hit-man discards his weapon and pleads for mercy. Sheba has her finger on the trigger when Homicide Detective Phil Jackson (Charles Kissinger of \"Abby\") and a uniform cop arrive on the scene. At the hospital, Andy Shayne dies holding his daughter's hand. Naturally, Pilot is furious at this revelation and his fury borders on apoplexy. Afterward, Sheba tracks down a loan shark, Walker (Christopher Joy of \"Cleopatra Jones\"), and pries information out of him about the Pilot while she holds him at gunpoint in a car wash. This is one of the better staged scenes with lots of ominous shots of the car wash equipment whirling and humming. Walker warns Pilot about Sheba. Pilot and his henchmen confront Sheba in a parking lot and swap lead. Sheba flees on foot to a nearby carnival. While the police corner one of Pilot's men, she deals with the others. Pilot shoots one of his own accidentally and Sheba runs him down. She pins Pilot to a roller-coaster track and threatens to hold him there until the roller-coaster cuts his head off. Pilot manages to escape after he has spilled his guts to Sheba about the identity and phone number of the big man, Shark (Dick Merrifield of \"The Hellcats\"), whose reputation is so immaculate that Detective Jackson describes him as \"the guy with all the right answers.\" \"Sheba Baby\" isn't top-notch Pam Grier. However, the idea that our heroine can handle everything by herself without help from guys makes it interesting as well as entertaining chick flick.",
                  "8",
                  "pos",
                  "1",
                  "test",
                  "12352"
                ],
                [
                  "26",
                  "tt0073697",
                  "movie",
                  "'Sheba, Baby'",
                  "'Sheba, Baby'",
                  "1975",
                  "\\N",
                  "90",
                  "0",
                  "Action,Crime,Drama",
                  "5.8",
                  "1204",
                  "Sheba Baby is always underrated most likely because it has a pg rating instead of the usual r rating that a Grier movie gets. all that the pg means is that Pam doesn't take her top off, she takes her top off in every other movie she's been in though so. it is more exciting than Coffy, more action. it takes off slow but by the time she's on screen the thrills have started. like Dolemite d'urville martin is the heavy trying to get Sheba's father, but she ain't having that. she wages a one woman war against martin and his gang of cronies. the best scene is with a stupid pimp in his car which i'm still laughing about. i thought it would be stupid because of the pg rating but i was wrong it replaces sex with violence and in a blaxplotation film that can only be good!",
                  "8",
                  "pos",
                  "1",
                  "test",
                  "12354"
                ],
                [
                  "27",
                  "tt0073697",
                  "movie",
                  "'Sheba, Baby'",
                  "'Sheba, Baby'",
                  "1975",
                  "\\N",
                  "90",
                  "0",
                  "Action,Crime,Drama",
                  "5.8",
                  "1204",
                  "Sheba Baby, is another Pam Grier Blaxploitation film. It was one of Pam's less visceral films of this genre. Pam plays Sheba Shane, who's a Chicago gumshoe. Sheba's father is the owner of a small loan company, in Missouri. When local mobsters try to run her father of of business, Sheba goes after the bad guys. Pam Grier had already made her mark in Blaxploitation films, by the time Sheba Baby came along. Fans of both Coffy and Foxy Brown, know that Pam is capable of an explosive intensity as an actress. In Sheba Baby, the fiery performance that viewers had come to expect from Pam, wasn't as evident in this film. Not that Pam doesn't kick-butt in Sheba Baby. She's just not as much of a runaway-train vigilante, as she was in her previous Blaxploitation films. The supporting cast in this film, are a distinct disappointment. So Sheba Baby is Pam's film, through and through. And though Pam's a bit more subdued than in her other films, she still gives a compelling performance in Sheba Baby. This film is definitely worth your time, if you're an ardent Pam Grier fan.",
                  "8",
                  "pos",
                  "1",
                  "test",
                  "12355"
                ],
                [
                  "28",
                  "tt0073697",
                  "movie",
                  "'Sheba, Baby'",
                  "'Sheba, Baby'",
                  "1975",
                  "\\N",
                  "90",
                  "0",
                  "Action,Crime,Drama",
                  "5.8",
                  "1204",
                  "Yeah, I guess this movie is kinda dull compared to some of Pam Grier's other films. The plot is overly familiar, the dialog stilted, and some of the acting isn't too good. But it's worth seeing for the lengthy stretch near the end of the film, where we see Ms Grier in a sexy blue wetsuit, with the zipper half unzipped. Yeah, it seems like a frivolous point when discussing an actress of Pam Grier's talent, but she also happens to be an extremely gorgeous woman, and back in the day, she had a body that wouldn't quit. It's nice to see it being showcased in a tight wetsuit. Rent the DVD, and then tell me I'm wrong. Can't, can you? That's because you know I'm right! :-) And yes, I really did give a 10 just for the wetsuit scenes! ;-)",
                  "10",
                  "pos",
                  "1",
                  "test",
                  "12356"
                ],
                [
                  "29",
                  "tt0118523",
                  "movie",
                  "'Til There Was You",
                  "'Til There Was You",
                  "1997",
                  "\\N",
                  "113",
                  "0",
                  "Comedy,Romance",
                  "4.8",
                  "2625",
                  "'Til There was You is one of the worst films we've ever seen. It fails in every respect. Jeanne Tripplehorn was better (as an actress...) in Waterworld. In comparison, this film is Dungworld. When a character stumbles once, or even twice, in the course of a film, one can understand it. But Jeanne's character falls, trips, stumbles so often that she might have a bit of Jerry Lewis in her. In her defence, each (prat?) fall was probably blocked, choreographed, and rehearsed. And rehearsed. Although this is bad enough for a film, the actors (Dylan McDermott and Jeanne Tripplehorn) seem to spend most of the plot going \"out for a smoke\" or trying to find a place to smoke. If the film was a diatribe on having no place to smoke- Ok - BUT, it isn't. However long this film runs, it is too long by 10 minutes past the running time. Oh, Jeanne Tripplehorn, ALMOST acts in a public forum meeting. You ALMOST see her break life into the character. Oh, it's ALMOST as convincing as her scene yelling at Michael Douglas in Basic Instinct--hmm, on second thought, not really. This is a film to avoid at all costs unless you need a cigarette and are trapped in nicotine addicts anonymous or forced to watch outtakes of HOOPER (Burt Reynolds). And even then, toss a coin or go to sleep.",
                  "1",
                  "neg",
                  "0",
                  "test",
                  "3715"
                ],
                [
                  "30",
                  "tt0118523",
                  "movie",
                  "'Til There Was You",
                  "'Til There Was You",
                  "1997",
                  "\\N",
                  "113",
                  "0",
                  "Comedy,Romance",
                  "4.8",
                  "2625",
                  "From the beginning, 'Til There Was You was on the right track, setting up for the big finish where it would all come together. But the thing is, it didn 't. I found the ending extremely disappointing, but maybe in someway it was the right ending; a little more realistic you could say. Judge for yourself.",
                  "1",
                  "neg",
                  "0",
                  "test",
                  "3716"
                ],
                [
                  "31",
                  "tt0118523",
                  "movie",
                  "'Til There Was You",
                  "'Til There Was You",
                  "1997",
                  "\\N",
                  "113",
                  "0",
                  "Comedy,Romance",
                  "4.8",
                  "2625",
                  "The film has weird annoying characters, strange unexplainable slapstick, and an insurmountable amount of dialogue about smoking. The movie has a contrived plot of a bitchy, empty-headed woman's (Jeanne Tripplehorn) search for love. Although who would ever like Jeanne's character, personality, or reading of the dialogue, I really cannot say. Except that she likes to smoke. Sarah Jessica Parker gives an interesting character performance (who likes to smoke). Dylan McDermott does his best to look pretty and soulful (as he smokes). And, hey, what is Jennifer Aniston doing there? Oh, she's not really in it enough for anyone to care about her. (But she likes to smoke). This is a waste of anyone's time. I don't even know how I was able to sit through as much of the movie as I did. I can't even believe I spent the time to write this, except to warn others of its banality. Anyone need a cigarette?",
                  "3",
                  "neg",
                  "0",
                  "test",
                  "3717"
                ],
                [
                  "32",
                  "tt0090556",
                  "movie",
                  "'night, Mother",
                  "'night, Mother",
                  "1986",
                  "\\N",
                  "96",
                  "0",
                  "Drama",
                  "7.6",
                  "2070",
                  "************* SPOILERS BELOW ************* \"'Night, Mother\" is the story of Jesse (Sissy Spacek), a divorced epileptic woman who calmly announces to her brash mother (Anne Bancroft) that she's going to commit suicide. This is a fascinating premise that is drained of all vitality and excitement. The brilliant hook turns out to be a cheat- the story that follows is lacking in substance, gravity and revelatory value. Where are the shocks and surprises as mother and daughter have what may be the last conversation of their lives? Where are the secrets revealed, the confessions and fantasies and regrets? They're here, but they've all been painted the same dull color that keeps emotion in the background and celebrates the 'genius' of playwright Marsha Norman at the expense of everything else. The result is not a film but an exhausting endurance test. Let me preface my comments by saying I find Sissy Spacek to be one of the greatest actresses in the history of motion pictures, a woman so magnetic, so natural that she continues to surprise and amaze me after twenty years of stardom. She brings a touch of class and magic to everything she does, and I've seen her rescue more than one film from the recycling bin with her angelic face and vulnerable eyes, her soft voice and sweet smile. It was because of the great Spacek that I watched this film in the first place, and for one of her movies to be terrible it has to fail in a significant way. This film fails in two. First and foremost the film is adapted so faithfully from the Pulitzer-winning stage play that it is claustrophobic and repetitive. The entire movie is a two-woman dialogue between Jesse and her Mother. What worked on stage- a middle-aged mother and daughter argue for two hours in small house- dies on film. A play, no matter how great, needs to be *adapted* for the screen it is self-indulgent and arrogant to believe that the dialogue is so perfect that not of a word of it can be altered. The screenplay for this film could have been shortened by thirty to forty pages, and a knowing screenwriter would have given the brilliant Spacek and competent Bancroft some *physical* sequences, some facial reactions, something to break up the wall-to-wall yak fest and prison-like single-set. It is no wonder that the screenplay was adapted by the original playwright Marsha Norman, who may know theater but reveals herself here to be clueless in film. I cannot over-emphasize the effect the stage-play script has on the film. Watching Jesse and her Mother argue about Jesse's impending suicide is redundant and dull. The women walk from the living room into the kitchen into the den and back into the living room, where they start all over again. A tiny Midwestern house is not the ideal location for a single-set film, and the director never tries anything clever or original, never tries to break up the monotony with an exterior shot or cutaway or a flashback or *anything*. There's no music, no other characters, no other stories... just two women covering the couch cushions and arguing their opinions. The reverence given to the play is sickening even Shakespeare's most solemn classics get shaken up for the screen. The commitment to the original play seems almost spiteful it's as if the film was made only to document the dramatic treasure that was the stage play, with the audience an afterthought. The other reason the film fails is Anne Bancroft. She may be a good stage actress but on film- where presence is 80% of performance- she rarely seems to fit. She certainly doesn't fit here, playing a Midwestern grandmother but looking more like Mrs. Robinson before her morning coffee. She chases Jesse around the house, looking more aggravated than astounded, and seems extraordinarily unsympathetic, even when her lines convey a loving- if flawed- woman. Sissy Spacek is great as she always is, honest and open and so good that you actually understand and agree with her character's choice. Sissy lets us see that Jesse is a flat tire, a wrong turn of a woman who has had every bad break and made too many wrong choices. She's never had control of her life, and her suicide will be her way of finally saying \"No more- this is where I get off.\" That's how she puts it anyway, and when Spacek speaks you listen. She proves in all her films that a good actress doesn't have to behave like a man, doesn't have to be all bluff and bravado and borrowed testosterone. In this and in films like \"Coal Miner's Daughter\" she quietly demonstrates a soft strength and quiet depth that is as impressive as it is hypnotic you can't help but fall in love. That's why it was so hard for me to watch \"'Night, Mother.\" Spacek is wasted in a stilted stunt of a film that never serves to engage or even distract. I would not recommend this movie to anyone except die-hard fans of Sissy like myself and even then you'll be disappointed. I do give the film an entire letter grade bonus for the ending, which is courageous enough to let the lead character do what's right for *her* and not pander to a hackneyed happy ending. GRADE: C",
                  "2",
                  "neg",
                  "0",
                  "test",
                  "6139"
                ],
                [
                  "33",
                  "tt0090556",
                  "movie",
                  "'night, Mother",
                  "'night, Mother",
                  "1986",
                  "\\N",
                  "96",
                  "0",
                  "Drama",
                  "7.6",
                  "2070",
                  "I had the privilege of seeing this powerful play on Broadway with Kathy Bates in the lead. I only saw one other play in the 1970's-1990's that had an emotional impact like this play did. I really looked forward to the play being made into a movie but was very disappointed when I learned that Kathy Bates wouldn't reprise her role in the film--she wasn't well known off Broadway at the time and the producers must have wanted star power I suppose and cast Sissy Spacek instead. Sissy did an adequate job in the lead role but did not measure up to Kathy Bates in any way. I love Anne Bancroft but she seemed too young for this role. The movie plot was true to the play. Anyone who ever contemplates suicide should have to watch this movie to realize the devastation on those who are left behind.",
                  "4",
                  "neg",
                  "0",
                  "test",
                  "6140"
                ],
                [
                  "34",
                  "tt0108999",
                  "movie",
                  "...And the Earth Did Not Swallow Him",
                  "...And the Earth Did Not Swallow Him",
                  "1994",
                  "\\N",
                  "99",
                  "0",
                  "Drama",
                  "6.4",
                  "126",
                  "I rented this movie from a local library without having any prior knowledge of the book it is based on or the movie itself, purely based on the chance that it's one of those rare, overlooked gems that one can discover from time to time and really enjoy. Unfortunately this is not one of those movies. I am not sure if this is a movie driven by sentimentality or worse, deliberate agenda, but certain elements of it made it impossible to immerse. It is supposed to portray a struggling immigrant worker community which tries to cope with the difficult realities of their life. That is a fine premise and it could have made for a gripping story, but the execution just made me alternate between getting annoyed and amused at the ridiculousness of it. Here we have a community of simple farm workers who migrated to the US in search of employment and who get used and abused repeatedly by evil white men. And when I say evil - I mean EVIL. All white people in this movie are sinful, racist, sadistic, abusive devils whose sole purpose in life is sexual depravity intertwined with exploiting the poor immigrants. It would be a sad story if it wasn't so unintentionally grotesque and therefore hilarious. The portrayal of the immigrants is also a poster-worthy example of exaggeration except that it goes in the opposite direction. The immigrants are saintly, clean and could serve as ointment for boo-boos and ouies the world over. I couldn't help but laugh when I saw these \"field workers\" presumably digging in the ditches all day with their notoriously clean clothes and chiseled hair cuts from a top notch hair salon. A little restraint and a more unbiased hand at the helm could have made this a much better movie evoking some intended emotion rather than sarcastic snickers.",
                  "3",
                  "neg",
                  "0",
                  "test",
                  "3142"
                ],
                [
                  "35",
                  "tt0108999",
                  "movie",
                  "...And the Earth Did Not Swallow Him",
                  "...And the Earth Did Not Swallow Him",
                  "1994",
                  "\\N",
                  "99",
                  "0",
                  "Drama",
                  "6.4",
                  "126",
                  "The movie \". . . And The Earth Did not Swallow Him,\" based on the book by Tomas Rivera, is an eye-opening movie for most people. It talks about the exploitation that migrant farmworkers go through in order to survive. Sergio Perez uses impressionistic techniques to depict Rivera's story. He uses sienna and gray-scale effects to depict some of the scenes, and he uses specific photographic techniques to make the scenes look like they took place in the 1950s. Perez also gives life to the film by using time-appropriate music, including balladeering and guitar playing. I feel that it is a good film to view because it shows in detail how migrant farmworkers live, what they do for entertainment, and their beliefs.",
                  "8",
                  "pos",
                  "1",
                  "test",
                  "11621"
                ],
                [
                  "36",
                  "tt0108999",
                  "movie",
                  "...And the Earth Did Not Swallow Him",
                  "...And the Earth Did Not Swallow Him",
                  "1994",
                  "\\N",
                  "99",
                  "0",
                  "Drama",
                  "6.4",
                  "126",
                  "I was very moved by the young life experiences of a man who rose so high in the academic world. A hard life surrounded by the love of a close family and extended family of companion workers created a person able to succeed in the world. For the most part the Hispanic culture is shown as I have always observed and admired - hardworking, optimistic, and truly family oriented. The points of religious superstition were quite authentic to the Catholic church. Without a doubt,the actress who played the mother deserves an Academy Award. Her prayers for her missing son moved me to tears. I will recommend this stunningly thoughtful film to my friends and family.",
                  "10",
                  "pos",
                  "1",
                  "test",
                  "11622"
                ],
                [
                  "37",
                  "tt0108999",
                  "movie",
                  "...And the Earth Did Not Swallow Him",
                  "...And the Earth Did Not Swallow Him",
                  "1994",
                  "\\N",
                  "99",
                  "0",
                  "Drama",
                  "6.4",
                  "126",
                  "Recently finally available in DVD (11/11/08), Severo Pérez' film...and the Earth Did Not Swallow Him (1994) is based on one of the most highly regarded and discussed novels in Chicano literature. Tomás Rivera's ...y no se lo tragó la tierra/ ...and the Earth Did Not Devour Him (1972) is still generally acknowledged by many critics and serious readers as the classic Chicano novel. Originally written in the Spanish characteristic of South Texas and also translated into English, Rivera's novel continues as an indispensable presence within the Chicano literary landscape. Perez' film, originally made as a highly-rated American Playhouse PBS production has taken some time to be released in DVD. One can only wonder about this matter because its high quality is not an issue. The film, and now DVD, however, remains, so far as I know, the only cinematic adaptation of any Chicano novel and clearly is a tribute to Earth's incredible staying power. This cinematic version also strikes an exceptionally deep-rooted nerve that is, I maintain, both specifically ethnic, yet also generally universal. Doubts about Earth perhaps might have arisen because it is too \"ethnic,\" too alien from a basic American mainstream, too much a \"foreign\" art indie, too limited in economic resources. Yet, Perez in his version of art, in my opinion connects very effectively, artistically, and creates a sharply-etched portrayal of a Chicano migrant collectivity that focuses on daily family life. As far as a production done with relatively limited economic resources, its lovely cinematographic work and haunting music go much beyond its available funding. Simply viewing the film makes manifest this film's (or DVD) artistic value. Briefly, .and the Earth did not Swallow Him portrays in a neo-naturalistic way the plight, the suffering, and the despair of Chicano migrant laborers as they follow the crops northward from South Texas to Minnesota in 1952. The local priests bless the beat-up, overstuffed vehicles of these Chicano laborers who can no longer find work in the area and must follow the agricultural trail of the migrant worker northward. This Chicano collectivity, like the depression-era Joads in Steinbeck's The Grapes of Wrath, forms an epic tide, driven by economic need, a survival instinct, and anguished despair, and ultimately a barely flickering faith. A tribute to these people of the earth, a collective hero, the DVD is centered on a focal family, and most especially emblematic is a young protagonist within the family, a boy, perhaps twelve or so. This work then, also, functions as a bildungsroman. Ultimately, the viewer's sense of identification is generated through the experiences, subjectivity, and the struggles of the protagonist. Poverty, alienation, child labor, illness (sunstroke and a pregnancy death), discrimination, school absenteeism (the boy's escapism from the bullies of discrimination is spent lying down in a lovely, peaceful cemetery) are laid bare as matter of factyet, also symbolically. Worse still, the problematic conflict between the youngster and his mother goes beyond socio-economics and political conflict, into deeper realms of psychology and metaphysics. In a desperate but artistically rendered struggle, the youth battles his mother, an archetypical Mexican-American traditionalist, a representative of god's will, content with prayer, resignation, consolation, and acceptance. The rebellious youth cannot believe in a god that would permit such evil and suffering to be visited upon them. How can God be so cruel, he asks, since his little sister is certainly purely innocent, as to come down with serious illness in the fields? At this point, the boy must overcome obstacles even more daunting than poverty and discrimination. The issues now include death, doubt, and despair, and lack of meaning. And he has few resources available to himstrength of character, his own will power, his intelligence, and a powerful survival instinct. In this desperate, but artistically rendered struggle, the unnamed youngster, the central figure, feels the necessity of his enduring, of his achieving a heightened sense of meaning, and, the viewer hopes, a renewed and strengthened Life Force that can serve as an inspiration to Chicanos and others. This stark battle makes use of a plot device just touched on by the original work to tie the episodic work together: missing immigrant laborers from Mexico who leave no trace upon their death, although this DVD deals not with Mexican but Mexican-American migrant laborers A highly existential work: anguish and despair; a quest; a focus on a Project; and redemptionall under the auspices of free will in spite of the deterministic socio-economic and religious circumstances. Perez has a long list of credits basically as a documentary filmmaker. His many awards are confirmatory. The producer Paul Espinosa is also well-known and has been likewise honored for his work. The 1994 film, in fact, won and deserved a number of awards: first place, audience favorite at the Santa Barbara Film Festival in 1995; first place at the Cairo Film Festival; and a number of other well-deserved awards. In my opinion this film and DVD, Earth, by Perez is the best Chicano film that has been made.",
                  "10",
                  "pos",
                  "1",
                  "test",
                  "11623"
                ],
                [
                  "38",
                  "tt0636268",
                  "tvEpisode",
                  "...In Translation",
                  "...In Translation",
                  "2005",
                  "\\N",
                  "43",
                  "0",
                  "Adventure,Drama,Fantasy",
                  "8.5",
                  "4247",
                  "I know that in this episode there's other stuff apart from what I am going to discuss, and in fact I think it has some virtues; for example, the fact, after we had been given a very negative opinion of Jin from seeing Sun's flashbacks in \"House of the Rising Sun\", we get to see Jin's side of things and get a new, more balanced understanding of his life. But there is an element in this story that made me so deeply uncomfortable that it greatly dampened my enjoyment of the whole episode. Before now, in the scene where Jin appeared with blood on his hands and shirt, it had been hinted that Sun's father was someone who was getting rich through shady, illegal methods. I thought maybe he was a mob boss, even; mobs operate in Korea, just like in almost every other country in the world, so it was a reasonable possibility. However, in this episode we learn that Sun's father is in fact the boss (or a top executive) of a Korean automotive company, and that what Jin had been doing was physically attacking a government official (who was actually going to be murdered) on his behalf. I may be especially touchy about this because I happen to work in the automotive industry, but I would say it is SPECTACULARLY offensive and racist to even suggest that this kind of thing goes on in Korea; that huge, serious companies like Hyundai or Kia (which must be the model for this fictitious car company, as they are the only ones that actually exist in reality) operate with these mafia-like methods, instead of like any normal automotive company of the West. it is just unbelievable to me that the writers would have the gall to write something like that into the story, and that there hasn't been an uproar in Korea over it. It feels like extraneous \"Buy American!\" propaganda, portraying foreign car companies as criminal, untrustworthy, third-world outfits.",
                  "4",
                  "neg",
                  "0",
                  "train",
                  "8630"
                ],
                [
                  "39",
                  "tt0109000",
                  "movie",
                  "00 Schneider - Jagd auf Nihil Baxter",
                  "00 Schneider - Jagd auf Nihil Baxter",
                  "1994",
                  "\\N",
                  "90",
                  "0",
                  "Comedy",
                  "7.1",
                  "2431",
                  "I'm sorry but I cannot even partly agree with some comments on this awful piece of sh... English is not my native language, because I'm a German citizen, so please do not blame me for inappropriate grammar structures or something *gg I cannot understand why this movie got such a high rating? 6.3??? Are you kidding me? This movie has completely no sense, not even a seem of good acting... When I looked at the comments on The Da Vinci Code, which has - I think - nearly the same rating, I had to bang my head on the table , because I watched 00 Schneider directly after Sakrileg, and oh my god , there are worlds between them. The majority of the posters in this board tears every hyped movie to pieces while rating this crime of movie making with a 6.3 and denominates Helge as a genius. Of course , he knows how to make money, but I think the main aspect of your opinions is the fact, that German isn't your native language and you just ignore - or rather don't notice the bunch of crap which is said in the sentences. OK , I must confess that some scenes ARE funny, but all in all , a 6.3 is just too much for my compatriot ;)",
                  "4",
                  "neg",
                  "0",
                  "test",
                  "1357"
                ],
                [
                  "40",
                  "tt0109000",
                  "movie",
                  "00 Schneider - Jagd auf Nihil Baxter",
                  "00 Schneider - Jagd auf Nihil Baxter",
                  "1994",
                  "\\N",
                  "90",
                  "0",
                  "Comedy",
                  "7.1",
                  "2431",
                  "i consider this movie as one of the most interesting and funny movies of all time. It has so much highly intelligent thoughts in it, that anybody who thinks the movie is awful did not get it and is not able to recognize really deep philosophical themes, which are in it (in all the 3 Schneider movies) without a doubt. Several universities in germany and throughout europe have made studies on Schneider's way of seeing things. By the way, Helge Schneider is a very intelligent and sensitive person and on of the Jazz-musicions in germany (maybe europe). He is mostly inspired by the great M.Davis and T.Monk. So if you do not like him, it is ok, but please do not try to convince others that he might be stupid, cheap, boring or not funny. Because if you had to face this opinion in a discussion and if you are willing to really look into the art of H.Schneider you would have to \"surrender\".",
                  "10",
                  "pos",
                  "1",
                  "test",
                  "5270"
                ],
                [
                  "41",
                  "tt0109000",
                  "movie",
                  "00 Schneider - Jagd auf Nihil Baxter",
                  "00 Schneider - Jagd auf Nihil Baxter",
                  "1994",
                  "\\N",
                  "90",
                  "0",
                  "Comedy",
                  "7.1",
                  "2431",
                  "Helges best movie by far. Very funny, very surrealistic. If Bunuel made a movie starring Buster Keaton as Krusty the Clown it would look like this. Brilliant performances by the cast we already know from other Schneider movies, especially Helmut Körschgen as the sidekick of 00Schneider. (Andreas Kunze who once more plays the wife in this one is a bit annoying though). And of course Helge himself as Nihil Baxter is absolutely incredible. P.S: if this movie had a proper merchandising i would really like to buy a replica of that \"Holz ist\" painting.",
                  "10",
                  "pos",
                  "1",
                  "test",
                  "5271"
                ],
                [
                  "42",
                  "tt0109000",
                  "movie",
                  "00 Schneider - Jagd auf Nihil Baxter",
                  "00 Schneider - Jagd auf Nihil Baxter",
                  "1994",
                  "\\N",
                  "90",
                  "0",
                  "Comedy",
                  "7.1",
                  "2431",
                  "The phenomenon Helge Schneider defies easy description or quick categorization. Yet, for the international audience not acquainted to him, one could say he's something like a crude mix of Weird Al Yankovich and Andy Kaufman, adding a foible for Jazz music and 70s outfits. While his stage performances already are eccentric, his movie works are simply hilariously outrageous. \"00 Schneider\" is, in my opinion, Helge's best movie. He stars in the two leading roles - police detective \"Kommissar 00 Schneider\" and murderer-villain \"Nihil Baxter\", and also in a precious smaller role as physician \"Dr. Hasenbein\". In the opening scene, we see how modern-art-loving Baxter accidentally kills the circus clown Bratislav Metulskie, from whom he has bought a malfunctioning used Jaguar, when a beloved sculpture slips out of Baxter's hands, fatally hitting Metulskie. Upon reading about the incident in the newspaper, 00 comes back from retirement to investigate the case with the support of his loyal sidekick, Lt. Koerschgen, who is played by an elderly actor bearing the same name. They pick up Baxter's track quickly, and interrogate him at his weirdly decorated mansion (one of the movie's best scenes!), but initially fail to gather any proof. The story winds through many turns, with several scenes that don't always really contribute to the progress of the plot but are hilariously funny, such as a daydream by 00 (including the most unusual view on a running man's brief-clad crotch in movie history), a police-department party during which Koerschgen gets into a row with the chief and has to be hospitalized, and a visit at the already mentioned Dr. Hasenbein's. Baxter, then, is finally caught attempting to escape to Rio de Janeiro on a plane. Always worth special mention is Andreas Kunze who in this case plays 00's wife, as he's usually appearing in drag performing women's roles in Helge's Movies. So all you folks out there looking for new laughs, I strongly recommend this movie. The catch? You have to understand German (as I doubt there's an English version around)...",
                  "10",
                  "pos",
                  "1",
                  "test",
                  "5272"
                ],
                [
                  "43",
                  "tt0499603",
                  "movie",
                  "10 Items or Less",
                  "10 Items or Less",
                  "2006",
                  "\\N",
                  "82",
                  "0",
                  "Comedy,Drama",
                  "6.6",
                  "14062",
                  "While watching this movie, I came up with a script for a movie, called \"The Making of 10 Items or Less\": Producer: I've got good news and bad news. The good news is, we can get Morgan Freeman! Writer: That's great! But what's the bad news? Producer: We can only afford to hire him for one day. I guess we'll have to get someone else. Writer: So we hire him for one day. A movie is an hour and a half long. A work day is eight hours long. I fail to see a problem. Producer: But... he'll have to spend time getting into character. Writer: So we have him play a character who is essentially himself. Producer: But he'll still need to understand his motivation and all that. You're not saying we have him play a big-name actor that's doing a low-budget movie, are you? Writer: Why not? Producer: That's ridiculous! But fine, at least we'll have Morgan Freeman in our movie. And I guess we have to set the movie in Los Angeles too. Writer: Of course. Producer: This script is a load of crap. We'd better make money on this. Just in case, have Morgan Freeman's character plug Wal-Mart or Target or one of those stores, so at least someone will want to sell the DVDs. Writer: Sure thing! Producer: Wait a second... what's this about a tiny bodega with a \"ten items or less\" express lane? Writer: Oh, I guess that is pretty weird. But we can't change the title now! I doubt my script actually bears much resemblance to reality, but then neither did \"10 Items or Less\". This is a case of good acting, but bad writing, and I hate to see it happen. When watching an independent movie, you expect it to try to convey some sort of message. I think they might have been trying for the tired old \"don't let anything hold you back\" message that has been done to death in much better films. In any case, with \"10 Items or Less\", the only message I got was \"Look! Look at Morgan Freeman!\"",
                  "2",
                  "neg",
                  "0",
                  "train",
                  "1412"
                ],
                [
                  "44",
                  "tt0499603",
                  "movie",
                  "10 Items or Less",
                  "10 Items or Less",
                  "2006",
                  "\\N",
                  "82",
                  "0",
                  "Comedy,Drama",
                  "6.6",
                  "14062",
                  "I love Morgan Freeman. Paz Vega is an attractive, appealing and talented actress. I'm sure that this would have been a good movie had anything happened in it. Nothing does. It's short (less than 90 minutes). It was 75 minutes too long. After an hour of frustration, I scanned through the remaining 20-odd minutes. Excruciating. Freeman plays an actor - who hasn't worked in a while - researching a part that he might play, as a checkout clerk in a supermarket. He visits the supermarket where she works. Nothing happens. She decides to give him a ride home and they go to an Arby's, a Target, a car wash. Nothing happens. They converse about their lives. Nothing happens. Ever. I don't get it. But I also don't get the Bill Murray flicks \"Lost In Translation\" and \"Broken Flowers\". If you like those movies, maybe you'll like this. Lots of people find movies like this whimsical, charming, or - for reasons that escape me - find the dialog fascinating. A common device in movies of this ilk is to have a LONG take of stillness/silence after an actor delivers a line that's supposed to be meaningful. We know it's meaningful because it's followed by two minutes of nothing on the screen. Sorry, I must be a philistine. I don't get it. To me, these kinds of movies aren't funny, or charming, or thought-provoking. They're just boring. Why? Because there's no comedy. No drama. No tension. No laughs. No suspense. No action. Nothing to watch. In short, none of the things I go to the movies for. I can be bored for free. I see oddball/quirky characters in real life. I go to Target, and fast-food restaurants, and car-washes. These elements do not a movie make, even if stars are doing this stuff. I pay to be entertained. If you're crazy about Morgan Freeman and just like to hear him ramble on about nothing, have fun. If you wanna drool over Paz Vega, you can look and listen to her. But nothing happens, I promise. A total snoozefest.",
                  "2",
                  "neg",
                  "0",
                  "train",
                  "1413"
                ],
                [
                  "45",
                  "tt0499603",
                  "movie",
                  "10 Items or Less",
                  "10 Items or Less",
                  "2006",
                  "\\N",
                  "82",
                  "0",
                  "Comedy,Drama",
                  "6.6",
                  "14062",
                  "After I watched this movie, I came to IMDb and read some of the reviews, which compared it to Lost In Translation LITE. When I read that I immediately could see the reviewers point. This movie was a poor attempt at a similar theme. Interestingly, the format of the movie is nearly identical, but the PACING is incredibly different. \"10 Items\" rushes the viewer through the 1-day time line of the movie, whereas the better-planned \"Lost In...\" seems to stretch out over a few long days. I'm sure some people will see this because it has Morgan Freeman, and will be disappointed. It seems his better roles now-a-days are supporting roles in big blockbusters, rather than leading roles in sub-$10mil limited release movies and indie films.",
                  "3",
                  "neg",
                  "0",
                  "train",
                  "1414"
                ],
                [
                  "46",
                  "tt0499603",
                  "movie",
                  "10 Items or Less",
                  "10 Items or Less",
                  "2006",
                  "\\N",
                  "82",
                  "0",
                  "Comedy,Drama",
                  "6.6",
                  "14062",
                  "Not really spoilers in my opinion, but I wanted to cover myself, nevertheless. As the executive producer, Morgan Freeman wants the audience to ignore the numerous absurdities of his character in 10 Items Or Less, a movie with an intentional indie-feel, and just be absorbed in the mentor/be-all-that-you-can-be theme. He plays a alternate universe, semi-washed up version of the real Morgan Freeman, who is chauffeured in an old Econovan by a kid all the way into Carson, CA from Brentwood to research his next movie role. Why Carson, is a mystery to So. Cal residents. He could have saved the trip and gone anywhere in the San Fernando Valley and found the same elements. Paz Vega is pretty to watch, a cross between Salma Hayek and Penelope Cruz, playing a disgruntled grocery checker at a large but slow local market that apparently is the ultimate source for Moragn Freeman's research. His character is only known as \"Him\" to allude to how actors are regarded when encountered in real life by average people-\"Psst, that's 'him,' etc. Unfortunately, I was too distracted that Him had all kinds of worldly wisdom and advice but had no reliable return back to his home in Brentwood, carried no cash or debit card, or had the wisdom to keep a cell phone with him. If one has such a high opinion of their self that they believe they possess an answer to everything like Him does, then I gotta see cash and a Blackberry which displays intelligence and good survival instincts to preserve that big ego which Him definitely has. Nothing really happens in this movie. I don't believe that either of the main character's were substantially changed by their encounter with each other. It flirts with the idea of adultery, but then that thought fizzles. This to me was similar to Steve Martin's Shopgirl, without the sexual affair. It was self-indulgent for Freeman and unconvincing to the audience.",
                  "4",
                  "neg",
                  "0",
                  "train",
                  "1409"
                ],
                [
                  "47",
                  "tt0499603",
                  "movie",
                  "10 Items or Less",
                  "10 Items or Less",
                  "2006",
                  "\\N",
                  "82",
                  "0",
                  "Comedy,Drama",
                  "6.6",
                  "14062",
                  "A still famous but decadent actor (Morgan Freeman) has not filmed for four years. When he is invited to participate in a new project, he asks the clumsy cousin of the director to drop him in a poor Latin neighborhood in Carlson to research the work of the manager of a small supermarket. He sees the gorgeous Spanish cashier Scarlet (Paz Vega) and he becomes attracted with her ability. His driver never returns to catch him and Scarlet gives a ride to the actor. But first she has a job interview for the position of secretary in a construction company and the actor helps her to be prepared; then they spend the afternoon together having a pleasant time. I am a big fan of Morgan Freeman and Paz Vega. However, the pointless \"10 Items or Less\" is absolutely disappointing. This low-budget movie does not seem to have a storyline, and is supported by the chemistry and improvisations of Morgan Freeman and Paz Vega and actually nothing happens along 82 minutes. The ambiguous open conclusion is simply ridiculous, with the character of Morgan Freeman returning to his silver spoon world and telling the simple worker that they would never see each other again. Was he afraid to have a love affair with her and destroy his perfect world with his family? Or was a clash of classes, and he realizes that his fancy neighborhood would not be adequate to a simple worker from the lower classes? My vote is four. Title (Brazil): \"Um Astro em Minha Vida\" (\"A Star in My Life\")",
                  "4",
                  "neg",
                  "0",
                  "train",
                  "1410"
                ],
                [
                  "48",
                  "tt0499603",
                  "movie",
                  "10 Items or Less",
                  "10 Items or Less",
                  "2006",
                  "\\N",
                  "82",
                  "0",
                  "Comedy,Drama",
                  "6.6",
                  "14062",
                  "This movie was great the first time I saw it, when it was called \"Lost in Translation.\" But somehow Bill Murray turned into an eccentric black man played by Morgan Freeman, Scarlett Johansson turned into a cranky Latino woman played by Paz Vega, and Tokyo, Japan turned into Carson, California. Instead of meaningful conversations and silence we enjoyed in Translation, we get meaningless blabbering in 10 Items that verges on annoying. Instead of characters that were pensive and introspective as in Translation, we get characters that spew pointless advice on topics they have no clue about. How can a character that wears hundred dollar T-shirts and has never been inside a Target department store expect to give advice to a working-class woman on how to prepare for a job interview as an administrative assistant? Don't think that stops him. If he isn't giving her clothing advice, he's telling her what she should eat. The most annoying part of the movie for me was how supposedly they were in a hurry to make an appointment, and yet the characters keep finding time to run another errand, be it washing the car, stopping at Arby's, or just laying around to list off their 10 Items or Less lists of things they love and hate. I kept wanting to yell at them saying, \"Didn't you say you had somewhere to be? What the heck are doing? A minute ago you were practically late, now you're eating roast beef and pondering your lives!\" Until I saw this movie, I never truly understood how something could \"insist upon itself,\" but I think this movie does exactly that, and undeservedly so. The dialogue makes the characters cheesy and unsympatheticwith the exception that I felt sorry for both of the actors for having signed onto this project.",
                  "4",
                  "neg",
                  "0",
                  "train",
                  "1411"
                ],
                [
                  "49",
                  "tt0499603",
                  "movie",
                  "10 Items or Less",
                  "10 Items or Less",
                  "2006",
                  "\\N",
                  "82",
                  "0",
                  "Comedy,Drama",
                  "6.6",
                  "14062",
                  "I had high expectations for this indie having perused the many thumbs up reviews. Then.... Here's my additional 'two cents' to the already posted, excellent 'lost in translation' review. Premise: Morgan is 'stuck' in a dusty small town where he meets lovely Scarlet who is working in the local supermarket. Can Morgan help elevate the lovely Scarlet from her trailer trash life? Realistic dialog? NOT. How about that shopping in Target. First, Freeman looks at the Target interior as if he's walked into Harrods. Then, he's bowled over at a T-shirt rack confirming he has NEVER been in any store visited by lovely Scarlet. Morgan is detached from any and all aspects of Scarlet's reality and is portrayed as gleeful in his ignorance of everyone and everything in Scarlet's life. One reviewer enjoyed the Scarlet and ex-hubby fight scene where her survival, a car in this instance, requires she physically attack her ex hubbie. Does Freeman run to her defense....naw...he's cowering in disbelief and totally incapable of dealing with such a blunt aspect of her very real, sorry lot in life. Freeman's character believes a car wash and new very revealing, tight fitting blouse is the key to Scarlet's job interview. Another sign that Freeman is CLUELESS. Freeman's endless 'stage talk' where all aspects of Scarlet's reality are reduced to one or another stage related Freeman experience was irritating. Freeman is right to emphasize that Scarlet is young with her future ahead of her and then conveniently ignores the brick walls she faces vis a vis: uneducated, no white collar skills or experience, VERY POOR, no family support and a lifetime of low self esteem. Scarlet learns such life lessons from Freeman as: some people pay $100 for a T-shirt and a revealing blouse may open doors in lieu of her lack of education and white collar job skills. In the end Freeman offers Scarlet little more than strange diversion with a 'star',not even paying for gas for Scarlet's dead of night return to her unchanged life in a town the name of which Freeman cares not to know.",
                  "4",
                  "neg",
                  "0",
                  "train",
                  "1415"
                ]
              ],
              "shape": {
                "columns": 17,
                "rows": 47331
              }
            },
            "text/html": [
              "<div>\n",
              "<style scoped>\n",
              "    .dataframe tbody tr th:only-of-type {\n",
              "        vertical-align: middle;\n",
              "    }\n",
              "\n",
              "    .dataframe tbody tr th {\n",
              "        vertical-align: top;\n",
              "    }\n",
              "\n",
              "    .dataframe thead th {\n",
              "        text-align: right;\n",
              "    }\n",
              "</style>\n",
              "<table border=\"1\" class=\"dataframe\">\n",
              "  <thead>\n",
              "    <tr style=\"text-align: right;\">\n",
              "      <th></th>\n",
              "      <th>tconst</th>\n",
              "      <th>title_type</th>\n",
              "      <th>primary_title</th>\n",
              "      <th>original_title</th>\n",
              "      <th>start_year</th>\n",
              "      <th>end_year</th>\n",
              "      <th>runtime_minutes</th>\n",
              "      <th>is_adult</th>\n",
              "      <th>genres</th>\n",
              "      <th>average_rating</th>\n",
              "      <th>votes</th>\n",
              "      <th>review</th>\n",
              "      <th>rating</th>\n",
              "      <th>sp</th>\n",
              "      <th>pos</th>\n",
              "      <th>ds_part</th>\n",
              "      <th>idx</th>\n",
              "    </tr>\n",
              "  </thead>\n",
              "  <tbody>\n",
              "    <tr>\n",
              "      <th>0</th>\n",
              "      <td>tt0068152</td>\n",
              "      <td>movie</td>\n",
              "      <td>$</td>\n",
              "      <td>$</td>\n",
              "      <td>1971</td>\n",
              "      <td>\\N</td>\n",
              "      <td>121</td>\n",
              "      <td>0</td>\n",
              "      <td>Comedy,Crime,Drama</td>\n",
              "      <td>6.3</td>\n",
              "      <td>2218</td>\n",
              "      <td>The pakage implies that Warren Beatty and Gold...</td>\n",
              "      <td>1</td>\n",
              "      <td>neg</td>\n",
              "      <td>0</td>\n",
              "      <td>train</td>\n",
              "      <td>8335</td>\n",
              "    </tr>\n",
              "    <tr>\n",
              "      <th>1</th>\n",
              "      <td>tt0068152</td>\n",
              "      <td>movie</td>\n",
              "      <td>$</td>\n",
              "      <td>$</td>\n",
              "      <td>1971</td>\n",
              "      <td>\\N</td>\n",
              "      <td>121</td>\n",
              "      <td>0</td>\n",
              "      <td>Comedy,Crime,Drama</td>\n",
              "      <td>6.3</td>\n",
              "      <td>2218</td>\n",
              "      <td>How the hell did they get this made?! Presenti...</td>\n",
              "      <td>1</td>\n",
              "      <td>neg</td>\n",
              "      <td>0</td>\n",
              "      <td>train</td>\n",
              "      <td>8336</td>\n",
              "    </tr>\n",
              "    <tr>\n",
              "      <th>2</th>\n",
              "      <td>tt0313150</td>\n",
              "      <td>short</td>\n",
              "      <td>'15'</td>\n",
              "      <td>'15'</td>\n",
              "      <td>2002</td>\n",
              "      <td>\\N</td>\n",
              "      <td>25</td>\n",
              "      <td>0</td>\n",
              "      <td>Comedy,Drama,Short</td>\n",
              "      <td>6.3</td>\n",
              "      <td>184</td>\n",
              "      <td>There is no real story the film seems more lik...</td>\n",
              "      <td>3</td>\n",
              "      <td>neg</td>\n",
              "      <td>0</td>\n",
              "      <td>test</td>\n",
              "      <td>2489</td>\n",
              "    </tr>\n",
              "    <tr>\n",
              "      <th>3</th>\n",
              "      <td>tt0313150</td>\n",
              "      <td>short</td>\n",
              "      <td>'15'</td>\n",
              "      <td>'15'</td>\n",
              "      <td>2002</td>\n",
              "      <td>\\N</td>\n",
              "      <td>25</td>\n",
              "      <td>0</td>\n",
              "      <td>Comedy,Drama,Short</td>\n",
              "      <td>6.3</td>\n",
              "      <td>184</td>\n",
              "      <td>Um .... a serious film about troubled teens in...</td>\n",
              "      <td>7</td>\n",
              "      <td>pos</td>\n",
              "      <td>1</td>\n",
              "      <td>test</td>\n",
              "      <td>9280</td>\n",
              "    </tr>\n",
              "    <tr>\n",
              "      <th>4</th>\n",
              "      <td>tt0313150</td>\n",
              "      <td>short</td>\n",
              "      <td>'15'</td>\n",
              "      <td>'15'</td>\n",
              "      <td>2002</td>\n",
              "      <td>\\N</td>\n",
              "      <td>25</td>\n",
              "      <td>0</td>\n",
              "      <td>Comedy,Drama,Short</td>\n",
              "      <td>6.3</td>\n",
              "      <td>184</td>\n",
              "      <td>I'm totally agree with GarryJohal from Singapo...</td>\n",
              "      <td>9</td>\n",
              "      <td>pos</td>\n",
              "      <td>1</td>\n",
              "      <td>test</td>\n",
              "      <td>9281</td>\n",
              "    </tr>\n",
              "    <tr>\n",
              "      <th>...</th>\n",
              "      <td>...</td>\n",
              "      <td>...</td>\n",
              "      <td>...</td>\n",
              "      <td>...</td>\n",
              "      <td>...</td>\n",
              "      <td>...</td>\n",
              "      <td>...</td>\n",
              "      <td>...</td>\n",
              "      <td>...</td>\n",
              "      <td>...</td>\n",
              "      <td>...</td>\n",
              "      <td>...</td>\n",
              "      <td>...</td>\n",
              "      <td>...</td>\n",
              "      <td>...</td>\n",
              "      <td>...</td>\n",
              "      <td>...</td>\n",
              "    </tr>\n",
              "    <tr>\n",
              "      <th>47326</th>\n",
              "      <td>tt0068398</td>\n",
              "      <td>tvEpisode</td>\n",
              "      <td>Étude in Black</td>\n",
              "      <td>Étude in Black</td>\n",
              "      <td>1972</td>\n",
              "      <td>\\N</td>\n",
              "      <td>97</td>\n",
              "      <td>0</td>\n",
              "      <td>Crime,Drama,Mystery</td>\n",
              "      <td>7.7</td>\n",
              "      <td>2254</td>\n",
              "      <td>This is another of my favorite Columbos. It sp...</td>\n",
              "      <td>10</td>\n",
              "      <td>pos</td>\n",
              "      <td>1</td>\n",
              "      <td>test</td>\n",
              "      <td>6038</td>\n",
              "    </tr>\n",
              "    <tr>\n",
              "      <th>47327</th>\n",
              "      <td>tt0223503</td>\n",
              "      <td>tvMovie</td>\n",
              "      <td>Îhatôbu gensô: KENjI no haru</td>\n",
              "      <td>Îhatôbu gensô: KENjI no haru</td>\n",
              "      <td>1996</td>\n",
              "      <td>\\N</td>\n",
              "      <td>55</td>\n",
              "      <td>0</td>\n",
              "      <td>Animation,Biography,Drama</td>\n",
              "      <td>7.3</td>\n",
              "      <td>278</td>\n",
              "      <td>Talk about being boring! I got this expecting ...</td>\n",
              "      <td>4</td>\n",
              "      <td>neg</td>\n",
              "      <td>0</td>\n",
              "      <td>test</td>\n",
              "      <td>989</td>\n",
              "    </tr>\n",
              "    <tr>\n",
              "      <th>47328</th>\n",
              "      <td>tt0223503</td>\n",
              "      <td>tvMovie</td>\n",
              "      <td>Îhatôbu gensô: KENjI no haru</td>\n",
              "      <td>Îhatôbu gensô: KENjI no haru</td>\n",
              "      <td>1996</td>\n",
              "      <td>\\N</td>\n",
              "      <td>55</td>\n",
              "      <td>0</td>\n",
              "      <td>Animation,Biography,Drama</td>\n",
              "      <td>7.3</td>\n",
              "      <td>278</td>\n",
              "      <td>I never thought I'd say this about a biopic, b...</td>\n",
              "      <td>8</td>\n",
              "      <td>pos</td>\n",
              "      <td>1</td>\n",
              "      <td>test</td>\n",
              "      <td>4163</td>\n",
              "    </tr>\n",
              "    <tr>\n",
              "      <th>47329</th>\n",
              "      <td>tt0223503</td>\n",
              "      <td>tvMovie</td>\n",
              "      <td>Îhatôbu gensô: KENjI no haru</td>\n",
              "      <td>Îhatôbu gensô: KENjI no haru</td>\n",
              "      <td>1996</td>\n",
              "      <td>\\N</td>\n",
              "      <td>55</td>\n",
              "      <td>0</td>\n",
              "      <td>Animation,Biography,Drama</td>\n",
              "      <td>7.3</td>\n",
              "      <td>278</td>\n",
              "      <td>Spirit and Chaos is an artistic biopic of Miya...</td>\n",
              "      <td>9</td>\n",
              "      <td>pos</td>\n",
              "      <td>1</td>\n",
              "      <td>test</td>\n",
              "      <td>4164</td>\n",
              "    </tr>\n",
              "    <tr>\n",
              "      <th>47330</th>\n",
              "      <td>tt0223503</td>\n",
              "      <td>tvMovie</td>\n",
              "      <td>Îhatôbu gensô: KENjI no haru</td>\n",
              "      <td>Îhatôbu gensô: KENjI no haru</td>\n",
              "      <td>1996</td>\n",
              "      <td>\\N</td>\n",
              "      <td>55</td>\n",
              "      <td>0</td>\n",
              "      <td>Animation,Biography,Drama</td>\n",
              "      <td>7.3</td>\n",
              "      <td>278</td>\n",
              "      <td>I'll make this brief. This was a joy to watch....</td>\n",
              "      <td>10</td>\n",
              "      <td>pos</td>\n",
              "      <td>1</td>\n",
              "      <td>test</td>\n",
              "      <td>4165</td>\n",
              "    </tr>\n",
              "  </tbody>\n",
              "</table>\n",
              "<p>47331 rows × 17 columns</p>\n",
              "</div>"
            ],
            "text/plain": [
              "          tconst title_type                 primary_title  \\\n",
              "0      tt0068152      movie                             $   \n",
              "1      tt0068152      movie                             $   \n",
              "2      tt0313150      short                          '15'   \n",
              "3      tt0313150      short                          '15'   \n",
              "4      tt0313150      short                          '15'   \n",
              "...          ...        ...                           ...   \n",
              "47326  tt0068398  tvEpisode                Étude in Black   \n",
              "47327  tt0223503    tvMovie  Îhatôbu gensô: KENjI no haru   \n",
              "47328  tt0223503    tvMovie  Îhatôbu gensô: KENjI no haru   \n",
              "47329  tt0223503    tvMovie  Îhatôbu gensô: KENjI no haru   \n",
              "47330  tt0223503    tvMovie  Îhatôbu gensô: KENjI no haru   \n",
              "\n",
              "                     original_title  start_year end_year runtime_minutes  \\\n",
              "0                                 $        1971       \\N             121   \n",
              "1                                 $        1971       \\N             121   \n",
              "2                              '15'        2002       \\N              25   \n",
              "3                              '15'        2002       \\N              25   \n",
              "4                              '15'        2002       \\N              25   \n",
              "...                             ...         ...      ...             ...   \n",
              "47326                Étude in Black        1972       \\N              97   \n",
              "47327  Îhatôbu gensô: KENjI no haru        1996       \\N              55   \n",
              "47328  Îhatôbu gensô: KENjI no haru        1996       \\N              55   \n",
              "47329  Îhatôbu gensô: KENjI no haru        1996       \\N              55   \n",
              "47330  Îhatôbu gensô: KENjI no haru        1996       \\N              55   \n",
              "\n",
              "       is_adult                     genres  average_rating  votes  \\\n",
              "0             0         Comedy,Crime,Drama             6.3   2218   \n",
              "1             0         Comedy,Crime,Drama             6.3   2218   \n",
              "2             0         Comedy,Drama,Short             6.3    184   \n",
              "3             0         Comedy,Drama,Short             6.3    184   \n",
              "4             0         Comedy,Drama,Short             6.3    184   \n",
              "...         ...                        ...             ...    ...   \n",
              "47326         0        Crime,Drama,Mystery             7.7   2254   \n",
              "47327         0  Animation,Biography,Drama             7.3    278   \n",
              "47328         0  Animation,Biography,Drama             7.3    278   \n",
              "47329         0  Animation,Biography,Drama             7.3    278   \n",
              "47330         0  Animation,Biography,Drama             7.3    278   \n",
              "\n",
              "                                                  review  rating   sp  pos  \\\n",
              "0      The pakage implies that Warren Beatty and Gold...       1  neg    0   \n",
              "1      How the hell did they get this made?! Presenti...       1  neg    0   \n",
              "2      There is no real story the film seems more lik...       3  neg    0   \n",
              "3      Um .... a serious film about troubled teens in...       7  pos    1   \n",
              "4      I'm totally agree with GarryJohal from Singapo...       9  pos    1   \n",
              "...                                                  ...     ...  ...  ...   \n",
              "47326  This is another of my favorite Columbos. It sp...      10  pos    1   \n",
              "47327  Talk about being boring! I got this expecting ...       4  neg    0   \n",
              "47328  I never thought I'd say this about a biopic, b...       8  pos    1   \n",
              "47329  Spirit and Chaos is an artistic biopic of Miya...       9  pos    1   \n",
              "47330  I'll make this brief. This was a joy to watch....      10  pos    1   \n",
              "\n",
              "      ds_part   idx  \n",
              "0       train  8335  \n",
              "1       train  8336  \n",
              "2        test  2489  \n",
              "3        test  9280  \n",
              "4        test  9281  \n",
              "...       ...   ...  \n",
              "47326    test  6038  \n",
              "47327    test   989  \n",
              "47328    test  4163  \n",
              "47329    test  4164  \n",
              "47330    test  4165  \n",
              "\n",
              "[47331 rows x 17 columns]"
            ]
          },
          "execution_count": 4,
          "metadata": {},
          "output_type": "execute_result"
        }
      ],
      "source": [
        "df_reviews = pd.read_csv('imdb_reviews.tsv', sep='\\t', dtype={'votes': 'Int64'})\n",
        "df_reviews"
      ]
    },
    {
      "cell_type": "code",
      "execution_count": 5,
      "metadata": {
        "id": "9kSyldQYcfQI"
      },
      "outputs": [
        {
          "name": "stdout",
          "output_type": "stream",
          "text": [
            "<class 'pandas.core.frame.DataFrame'>\n",
            "RangeIndex: 47331 entries, 0 to 47330\n",
            "Data columns (total 17 columns):\n",
            " #   Column           Non-Null Count  Dtype  \n",
            "---  ------           --------------  -----  \n",
            " 0   tconst           47331 non-null  object \n",
            " 1   title_type       47331 non-null  object \n",
            " 2   primary_title    47331 non-null  object \n",
            " 3   original_title   47331 non-null  object \n",
            " 4   start_year       47331 non-null  int64  \n",
            " 5   end_year         47331 non-null  object \n",
            " 6   runtime_minutes  47331 non-null  object \n",
            " 7   is_adult         47331 non-null  int64  \n",
            " 8   genres           47331 non-null  object \n",
            " 9   average_rating   47329 non-null  float64\n",
            " 10  votes            47329 non-null  Int64  \n",
            " 11  review           47331 non-null  object \n",
            " 12  rating           47331 non-null  int64  \n",
            " 13  sp               47331 non-null  object \n",
            " 14  pos              47331 non-null  int64  \n",
            " 15  ds_part          47331 non-null  object \n",
            " 16  idx              47331 non-null  int64  \n",
            "dtypes: Int64(1), float64(1), int64(5), object(10)\n",
            "memory usage: 6.2+ MB\n"
          ]
        }
      ],
      "source": [
        "df_reviews.info()"
      ]
    },
    {
      "cell_type": "code",
      "execution_count": 6,
      "metadata": {},
      "outputs": [],
      "source": [
        "# Las siguientes líneas son para convertir las columnas a los tipos de datos adecuados en caso de ser necesarias debido a que inducirian datos faltantes y podria llegar a tener que dropearlos\n",
        "#df_reviews['end_year'] = df_reviews['end_year'].replace('\\\\N', pd.NA).astype('Int64')\n",
        "#df_reviews['runtime_minutes'] = df_reviews['runtime_minutes'].replace('\\\\N', pd.NA).astype('Int64')\n"
      ]
    },
    {
      "cell_type": "code",
      "execution_count": 7,
      "metadata": {
        "id": "R1mr76qYcfQJ"
      },
      "outputs": [
        {
          "data": {
            "application/vnd.microsoft.datawrangler.viewer.v0+json": {
              "columns": [
                {
                  "name": "index",
                  "rawType": "object",
                  "type": "string"
                },
                {
                  "name": "start_year",
                  "rawType": "float64",
                  "type": "float"
                },
                {
                  "name": "is_adult",
                  "rawType": "float64",
                  "type": "float"
                },
                {
                  "name": "average_rating",
                  "rawType": "float64",
                  "type": "float"
                },
                {
                  "name": "votes",
                  "rawType": "Float64",
                  "type": "float"
                },
                {
                  "name": "rating",
                  "rawType": "float64",
                  "type": "float"
                },
                {
                  "name": "pos",
                  "rawType": "float64",
                  "type": "float"
                },
                {
                  "name": "idx",
                  "rawType": "float64",
                  "type": "float"
                }
              ],
              "ref": "aa16b78e-0e0a-413e-9db4-cca9ae9fa963",
              "rows": [
                [
                  "count",
                  "47331.0",
                  "47331.0",
                  "47329.0",
                  "47329.0",
                  "47331.0",
                  "47331.0",
                  "47331.0"
                ],
                [
                  "mean",
                  "1989.6312353425874",
                  "0.0017324797701295134",
                  "5.998278011367238",
                  "25562.917323416932",
                  "5.484608396188545",
                  "0.4989541737972999",
                  "6279.697999197144"
                ],
                [
                  "std",
                  "19.600363694451573",
                  "0.041587435901032775",
                  "1.4942889763477758",
                  "83670.0391634244",
                  "3.4731092095076384",
                  "0.50000418826902",
                  "3605.702544604732"
                ],
                [
                  "min",
                  "1894.0",
                  "0.0",
                  "1.4",
                  "9.0",
                  "1.0",
                  "0.0",
                  "0.0"
                ],
                [
                  "25%",
                  "1982.0",
                  "0.0",
                  "5.1",
                  "827.0",
                  "2.0",
                  "0.0",
                  "3162.0"
                ],
                [
                  "50%",
                  "1998.0",
                  "0.0",
                  "6.3",
                  "3197.0",
                  "4.0",
                  "0.0",
                  "6299.0"
                ],
                [
                  "75%",
                  "2004.0",
                  "0.0",
                  "7.1",
                  "13974.0",
                  "9.0",
                  "1.0",
                  "9412.0"
                ],
                [
                  "max",
                  "2010.0",
                  "1.0",
                  "9.7",
                  "1739448.0",
                  "10.0",
                  "1.0",
                  "12499.0"
                ]
              ],
              "shape": {
                "columns": 7,
                "rows": 8
              }
            },
            "text/html": [
              "<div>\n",
              "<style scoped>\n",
              "    .dataframe tbody tr th:only-of-type {\n",
              "        vertical-align: middle;\n",
              "    }\n",
              "\n",
              "    .dataframe tbody tr th {\n",
              "        vertical-align: top;\n",
              "    }\n",
              "\n",
              "    .dataframe thead th {\n",
              "        text-align: right;\n",
              "    }\n",
              "</style>\n",
              "<table border=\"1\" class=\"dataframe\">\n",
              "  <thead>\n",
              "    <tr style=\"text-align: right;\">\n",
              "      <th></th>\n",
              "      <th>start_year</th>\n",
              "      <th>is_adult</th>\n",
              "      <th>average_rating</th>\n",
              "      <th>votes</th>\n",
              "      <th>rating</th>\n",
              "      <th>pos</th>\n",
              "      <th>idx</th>\n",
              "    </tr>\n",
              "  </thead>\n",
              "  <tbody>\n",
              "    <tr>\n",
              "      <th>count</th>\n",
              "      <td>47331.000000</td>\n",
              "      <td>47331.000000</td>\n",
              "      <td>47329.000000</td>\n",
              "      <td>47329.0</td>\n",
              "      <td>47331.000000</td>\n",
              "      <td>47331.000000</td>\n",
              "      <td>47331.000000</td>\n",
              "    </tr>\n",
              "    <tr>\n",
              "      <th>mean</th>\n",
              "      <td>1989.631235</td>\n",
              "      <td>0.001732</td>\n",
              "      <td>5.998278</td>\n",
              "      <td>25562.917323</td>\n",
              "      <td>5.484608</td>\n",
              "      <td>0.498954</td>\n",
              "      <td>6279.697999</td>\n",
              "    </tr>\n",
              "    <tr>\n",
              "      <th>std</th>\n",
              "      <td>19.600364</td>\n",
              "      <td>0.041587</td>\n",
              "      <td>1.494289</td>\n",
              "      <td>83670.039163</td>\n",
              "      <td>3.473109</td>\n",
              "      <td>0.500004</td>\n",
              "      <td>3605.702545</td>\n",
              "    </tr>\n",
              "    <tr>\n",
              "      <th>min</th>\n",
              "      <td>1894.000000</td>\n",
              "      <td>0.000000</td>\n",
              "      <td>1.400000</td>\n",
              "      <td>9.0</td>\n",
              "      <td>1.000000</td>\n",
              "      <td>0.000000</td>\n",
              "      <td>0.000000</td>\n",
              "    </tr>\n",
              "    <tr>\n",
              "      <th>25%</th>\n",
              "      <td>1982.000000</td>\n",
              "      <td>0.000000</td>\n",
              "      <td>5.100000</td>\n",
              "      <td>827.0</td>\n",
              "      <td>2.000000</td>\n",
              "      <td>0.000000</td>\n",
              "      <td>3162.000000</td>\n",
              "    </tr>\n",
              "    <tr>\n",
              "      <th>50%</th>\n",
              "      <td>1998.000000</td>\n",
              "      <td>0.000000</td>\n",
              "      <td>6.300000</td>\n",
              "      <td>3197.0</td>\n",
              "      <td>4.000000</td>\n",
              "      <td>0.000000</td>\n",
              "      <td>6299.000000</td>\n",
              "    </tr>\n",
              "    <tr>\n",
              "      <th>75%</th>\n",
              "      <td>2004.000000</td>\n",
              "      <td>0.000000</td>\n",
              "      <td>7.100000</td>\n",
              "      <td>13974.0</td>\n",
              "      <td>9.000000</td>\n",
              "      <td>1.000000</td>\n",
              "      <td>9412.000000</td>\n",
              "    </tr>\n",
              "    <tr>\n",
              "      <th>max</th>\n",
              "      <td>2010.000000</td>\n",
              "      <td>1.000000</td>\n",
              "      <td>9.700000</td>\n",
              "      <td>1739448.0</td>\n",
              "      <td>10.000000</td>\n",
              "      <td>1.000000</td>\n",
              "      <td>12499.000000</td>\n",
              "    </tr>\n",
              "  </tbody>\n",
              "</table>\n",
              "</div>"
            ],
            "text/plain": [
              "         start_year      is_adult  average_rating         votes        rating  \\\n",
              "count  47331.000000  47331.000000    47329.000000       47329.0  47331.000000   \n",
              "mean    1989.631235      0.001732        5.998278  25562.917323      5.484608   \n",
              "std       19.600364      0.041587        1.494289  83670.039163      3.473109   \n",
              "min     1894.000000      0.000000        1.400000           9.0      1.000000   \n",
              "25%     1982.000000      0.000000        5.100000         827.0      2.000000   \n",
              "50%     1998.000000      0.000000        6.300000        3197.0      4.000000   \n",
              "75%     2004.000000      0.000000        7.100000       13974.0      9.000000   \n",
              "max     2010.000000      1.000000        9.700000     1739448.0     10.000000   \n",
              "\n",
              "                pos           idx  \n",
              "count  47331.000000  47331.000000  \n",
              "mean       0.498954   6279.697999  \n",
              "std        0.500004   3605.702545  \n",
              "min        0.000000      0.000000  \n",
              "25%        0.000000   3162.000000  \n",
              "50%        0.000000   6299.000000  \n",
              "75%        1.000000   9412.000000  \n",
              "max        1.000000  12499.000000  "
            ]
          },
          "execution_count": 7,
          "metadata": {},
          "output_type": "execute_result"
        }
      ],
      "source": [
        "df_reviews.describe()"
      ]
    },
    {
      "cell_type": "code",
      "execution_count": 8,
      "metadata": {
        "id": "Pj5RiIeacfQJ"
      },
      "outputs": [
        {
          "data": {
            "text/plain": [
              "np.int64(0)"
            ]
          },
          "execution_count": 8,
          "metadata": {},
          "output_type": "execute_result"
        }
      ],
      "source": [
        "df_reviews.duplicated().sum()"
      ]
    },
    {
      "cell_type": "code",
      "execution_count": 15,
      "metadata": {},
      "outputs": [
        {
          "data": {
            "application/vnd.microsoft.datawrangler.viewer.v0+json": {
              "columns": [
                {
                  "name": "index",
                  "rawType": "object",
                  "type": "string"
                },
                {
                  "name": "0",
                  "rawType": "int64",
                  "type": "integer"
                }
              ],
              "ref": "fc5eb23b-5654-4b0d-9d12-00846cf8befa",
              "rows": [
                [
                  "tconst",
                  "0"
                ],
                [
                  "title_type",
                  "0"
                ],
                [
                  "primary_title",
                  "0"
                ],
                [
                  "original_title",
                  "0"
                ],
                [
                  "start_year",
                  "0"
                ],
                [
                  "end_year",
                  "0"
                ],
                [
                  "runtime_minutes",
                  "0"
                ],
                [
                  "is_adult",
                  "0"
                ],
                [
                  "genres",
                  "0"
                ],
                [
                  "average_rating",
                  "2"
                ],
                [
                  "votes",
                  "2"
                ],
                [
                  "review",
                  "0"
                ],
                [
                  "rating",
                  "0"
                ],
                [
                  "sp",
                  "0"
                ],
                [
                  "pos",
                  "0"
                ],
                [
                  "ds_part",
                  "0"
                ],
                [
                  "idx",
                  "0"
                ]
              ],
              "shape": {
                "columns": 1,
                "rows": 17
              }
            },
            "text/plain": [
              "tconst             0\n",
              "title_type         0\n",
              "primary_title      0\n",
              "original_title     0\n",
              "start_year         0\n",
              "end_year           0\n",
              "runtime_minutes    0\n",
              "is_adult           0\n",
              "genres             0\n",
              "average_rating     2\n",
              "votes              2\n",
              "review             0\n",
              "rating             0\n",
              "sp                 0\n",
              "pos                0\n",
              "ds_part            0\n",
              "idx                0\n",
              "dtype: int64"
            ]
          },
          "execution_count": 15,
          "metadata": {},
          "output_type": "execute_result"
        }
      ],
      "source": [
        "df_reviews.isna().sum()"
      ]
    },
    {
      "cell_type": "code",
      "execution_count": null,
      "metadata": {},
      "outputs": [
        {
          "name": "stdout",
          "output_type": "stream",
          "text": [
            "2\n"
          ]
        }
      ],
      "source": [
        "# Reemplaza los valores NaN por 8 y cuenta cuántos valores fueron reemplazados debido a que lei las reseñas y eran buenas\n",
        "num_replaced = df_reviews['average_rating'].isna().sum()\n",
        "df_reviews['average_rating'] = df_reviews['average_rating'].fillna(8)\n",
        "print(num_replaced)"
      ]
    },
    {
      "cell_type": "markdown",
      "metadata": {},
      "source": [
        "### Exploracion inicial de datos \n",
        "- Sin datos nulos, ni duplicados, eso si con tipos de datos incorrectos en la longitud de la pelicula y año de finalizacion, aunque los considero inaportantes a la hora de concebir el modelo asi que muy probablemente las voy a apartar de los datos de entrenamiento."
      ]
    },
    {
      "cell_type": "markdown",
      "metadata": {
        "id": "q9lnR-SFcfQJ"
      },
      "source": [
        "## EDA"
      ]
    },
    {
      "cell_type": "markdown",
      "metadata": {
        "id": "GN3s-pfGcfQJ"
      },
      "source": [
        "Veamos el número de películas y reseñas a lo largo de los años."
      ]
    },
    {
      "cell_type": "code",
      "execution_count": 21,
      "metadata": {
        "id": "wFlfkDwicfQJ",
        "outputId": "5e03f6d1-24fe-422b-89c6-ddb140c0e9e2"
      },
      "outputs": [
        {
          "data": {
            "image/png": "[encoded data removed]",
            "text/plain": [
              "<Figure size 1600x800 with 3 Axes>"
            ]
          },
          "metadata": {},
          "output_type": "display_data"
        }
      ],
      "source": [
        "fig, axs = plt.subplots(2, 1, figsize=(16, 8))\n",
        "\n",
        "ax = axs[0]\n",
        "\n",
        "dft1 = df_reviews[['tconst', 'start_year']].drop_duplicates() \\\n",
        "    ['start_year'].value_counts().sort_index()\n",
        "dft1 = dft1.reindex(index=np.arange(dft1.index.min(), max(dft1.index.max(), 2021))).fillna(0)\n",
        "dft1.plot(kind='bar', ax=ax)\n",
        "ax.set_title('Número de películas a lo largo de los años')\n",
        "\n",
        "ax = axs[1]\n",
        "\n",
        "dft2 = df_reviews.groupby(['start_year', 'pos'])['pos'].count().unstack()\n",
        "dft2 = dft2.reindex(index=np.arange(dft2.index.min(), max(dft2.index.max(), 2021))).fillna(0)\n",
        "\n",
        "dft2.plot(kind='bar', stacked=True, label='#reviews (neg, pos)', ax=ax)\n",
        "\n",
        "dft2 = df_reviews['start_year'].value_counts().sort_index()\n",
        "dft2 = dft2.reindex(index=np.arange(dft2.index.min(), max(dft2.index.max(), 2021))).fillna(0)\n",
        "dft3 = (dft2/dft1).fillna(0)\n",
        "axt = ax.twinx()\n",
        "dft3.reset_index(drop=True).rolling(5).mean().plot(color='orange', label='reviews per movie (avg over 5 years)', ax=axt)\n",
        "\n",
        "lines, labels = axt.get_legend_handles_labels()\n",
        "ax.legend(lines, labels, loc='upper left')\n",
        "\n",
        "ax.set_title('Número de reseñas a lo largo de los años')\n",
        "\n",
        "fig.tight_layout()"
      ]
    },
    {
      "cell_type": "markdown",
      "metadata": {
        "id": "Spw-miGycfQK"
      },
      "source": [
        "Veamos la distribución del número de reseñas por película con el conteo exacto y KDE (solo para saber cómo puede diferir del conteo exacto)"
      ]
    },
    {
      "cell_type": "code",
      "execution_count": 10,
      "metadata": {
        "id": "favsoXXccfQK",
        "outputId": "928574e9-d932-4d47-c3d9-285384542570"
      },
      "outputs": [
        {
          "data": {
            "image/png": "[encoded data removed]",
            "text/plain": [
              "<Figure size 1600x500 with 2 Axes>"
            ]
          },
          "metadata": {},
          "output_type": "display_data"
        }
      ],
      "source": [
        "fig, axs = plt.subplots(1, 2, figsize=(16, 5))\n",
        "\n",
        "ax = axs[0]\n",
        "dft = df_reviews.groupby('tconst')['review'].count() \\\n",
        "    .value_counts() \\\n",
        "    .sort_index()\n",
        "dft.plot.bar(ax=ax)\n",
        "ax.set_title('Gráfico de barras de #Reseñas por película')\n",
        "\n",
        "ax = axs[1]\n",
        "dft = df_reviews.groupby('tconst')['review'].count()\n",
        "sns.kdeplot(dft, ax=ax)\n",
        "ax.set_title('Gráfico KDE de #Reseñas por película')\n",
        "\n",
        "fig.tight_layout()"
      ]
    },
    {
      "cell_type": "code",
      "execution_count": null,
      "metadata": {
        "id": "tMhE0gjvcfQL"
      },
      "outputs": [],
      "source": []
    },
    {
      "cell_type": "code",
      "execution_count": 11,
      "metadata": {
        "id": "tr85g2MVcfQL",
        "outputId": "238dcebc-c9cb-4849-a638-e5d6eab31cc1"
      },
      "outputs": [
        {
          "data": {
            "application/vnd.microsoft.datawrangler.viewer.v0+json": {
              "columns": [
                {
                  "name": "pos",
                  "rawType": "int64",
                  "type": "integer"
                },
                {
                  "name": "count",
                  "rawType": "int64",
                  "type": "integer"
                }
              ],
              "ref": "6cbf8a59-334e-4c08-a6ac-503020c65ab5",
              "rows": [
                [
                  "0",
                  "23715"
                ],
                [
                  "1",
                  "23616"
                ]
              ],
              "shape": {
                "columns": 1,
                "rows": 2
              }
            },
            "text/plain": [
              "pos\n",
              "0    23715\n",
              "1    23616\n",
              "Name: count, dtype: int64"
            ]
          },
          "execution_count": 11,
          "metadata": {},
          "output_type": "execute_result"
        }
      ],
      "source": [
        "df_reviews['pos'].value_counts()"
      ]
    },
    {
      "cell_type": "code",
      "execution_count": 12,
      "metadata": {
        "id": "2RkqoFx_cfQL",
        "outputId": "1c07ac81-cac4-409d-c32f-c7dfaaa07f6a"
      },
      "outputs": [
        {
          "data": {
            "image/png": "[encoded data removed]",
            "text/plain": [
              "<Figure size 1200x400 with 2 Axes>"
            ]
          },
          "metadata": {},
          "output_type": "display_data"
        }
      ],
      "source": [
        "fig, axs = plt.subplots(1, 2, figsize=(12, 4))\n",
        "\n",
        "ax = axs[0]\n",
        "dft = df_reviews.query('ds_part == \"train\"')['rating'].value_counts().sort_index()\n",
        "dft = dft.reindex(index=np.arange(min(dft.index.min(), 1), max(dft.index.max(), 11))).fillna(0)\n",
        "dft.plot.bar(ax=ax)\n",
        "ax.set_ylim([0, 5000])\n",
        "ax.set_title('El conjunto de entrenamiento: distribución de puntuaciones')\n",
        "\n",
        "ax = axs[1]\n",
        "dft = df_reviews.query('ds_part == \"test\"')['rating'].value_counts().sort_index()\n",
        "dft = dft.reindex(index=np.arange(min(dft.index.min(), 1), max(dft.index.max(), 11))).fillna(0)\n",
        "dft.plot.bar(ax=ax)\n",
        "ax.set_ylim([0, 5000])\n",
        "ax.set_title('El conjunto de prueba: distribución de puntuaciones')\n",
        "\n",
        "fig.tight_layout()"
      ]
    },
    {
      "cell_type": "code",
      "execution_count": null,
      "metadata": {
        "id": "EG2qy7zDcfQL"
      },
      "outputs": [],
      "source": []
    },
    {
      "cell_type": "markdown",
      "metadata": {
        "id": "K-NDbAxNcfQL"
      },
      "source": [
        "Distribución de reseñas negativas y positivas a lo largo de los años para dos partes del conjunto de datos"
      ]
    },
    {
      "cell_type": "code",
      "execution_count": 13,
      "metadata": {
        "id": "yBeyt8qzcfQL",
        "outputId": "4e898688-bc01-43cb-faf3-ad1b90f08216"
      },
      "outputs": [
        {
          "name": "stderr",
          "output_type": "stream",
          "text": [
            "C:\\Users\\roman\\AppData\\Local\\Temp\\ipykernel_9304\\1324160450.py:14: UserWarning: \n",
            "\n",
            "Support for alternate kernels has been removed; using Gaussian kernel.\n",
            "This will become an error in seaborn v0.14.0; please update your code.\n",
            "\n",
            "  sns.kdeplot(dft[0], color='blue', label='negative', kernel='epa', ax=ax)\n",
            "C:\\Users\\roman\\AppData\\Local\\Temp\\ipykernel_9304\\1324160450.py:15: UserWarning: \n",
            "\n",
            "Support for alternate kernels has been removed; using Gaussian kernel.\n",
            "This will become an error in seaborn v0.14.0; please update your code.\n",
            "\n",
            "  sns.kdeplot(dft[1], color='green', label='positive', kernel='epa', ax=ax)\n",
            "C:\\Users\\roman\\AppData\\Local\\Temp\\ipykernel_9304\\1324160450.py:30: UserWarning: \n",
            "\n",
            "Support for alternate kernels has been removed; using Gaussian kernel.\n",
            "This will become an error in seaborn v0.14.0; please update your code.\n",
            "\n",
            "  sns.kdeplot(dft[0], color='blue', label='negative', kernel='epa', ax=ax)\n",
            "C:\\Users\\roman\\AppData\\Local\\Temp\\ipykernel_9304\\1324160450.py:31: UserWarning: \n",
            "\n",
            "Support for alternate kernels has been removed; using Gaussian kernel.\n",
            "This will become an error in seaborn v0.14.0; please update your code.\n",
            "\n",
            "  sns.kdeplot(dft[1], color='green', label='positive', kernel='epa', ax=ax)\n"
          ]
        },
        {
          "data": {
            "image/png": "[encoded data removed]",
            "text/plain": [
              "<Figure size 1600x800 with 4 Axes>"
            ]
          },
          "metadata": {},
          "output_type": "display_data"
        }
      ],
      "source": [
        "fig, axs = plt.subplots(2, 2, figsize=(16, 8), gridspec_kw=dict(width_ratios=(2, 1), height_ratios=(1, 1)))\n",
        "\n",
        "ax = axs[0][0]\n",
        "\n",
        "dft = df_reviews.query('ds_part == \"train\"').groupby(['start_year', 'pos'])['pos'].count().unstack()\n",
        "dft.index = dft.index.astype('int')\n",
        "dft = dft.reindex(index=np.arange(dft.index.min(), max(dft.index.max(), 2020))).fillna(0)\n",
        "dft.plot(kind='bar', stacked=True, ax=ax)\n",
        "ax.set_title('El conjunto de entrenamiento: número de reseñas de diferentes polaridades por año')\n",
        "\n",
        "ax = axs[0][1]\n",
        "\n",
        "dft = df_reviews.query('ds_part == \"train\"').groupby(['tconst', 'pos'])['pos'].count().unstack()\n",
        "sns.kdeplot(dft[0], color='blue', label='negative', kernel='epa', ax=ax)\n",
        "sns.kdeplot(dft[1], color='green', label='positive', kernel='epa', ax=ax)\n",
        "ax.legend()\n",
        "ax.set_title('El conjunto de entrenamiento: distribución de diferentes polaridades por película')\n",
        "\n",
        "ax = axs[1][0]\n",
        "\n",
        "dft = df_reviews.query('ds_part == \"test\"').groupby(['start_year', 'pos'])['pos'].count().unstack()\n",
        "dft.index = dft.index.astype('int')\n",
        "dft = dft.reindex(index=np.arange(dft.index.min(), max(dft.index.max(), 2020))).fillna(0)\n",
        "dft.plot(kind='bar', stacked=True, ax=ax)\n",
        "ax.set_title('El conjunto de prueba: número de reseñas de diferentes polaridades por año')\n",
        "\n",
        "ax = axs[1][1]\n",
        "\n",
        "dft = df_reviews.query('ds_part == \"test\"').groupby(['tconst', 'pos'])['pos'].count().unstack()\n",
        "sns.kdeplot(dft[0], color='blue', label='negative', kernel='epa', ax=ax)\n",
        "sns.kdeplot(dft[1], color='green', label='positive', kernel='epa', ax=ax)\n",
        "ax.legend()\n",
        "ax.set_title('El conjunto de prueba: distribución de diferentes polaridades por película')\n",
        "\n",
        "fig.tight_layout()"
      ]
    },
    {
      "cell_type": "code",
      "execution_count": null,
      "metadata": {
        "id": "YQBXTLo-cfQM"
      },
      "outputs": [],
      "source": []
    },
    {
      "cell_type": "markdown",
      "metadata": {
        "id": "eFyhz3HWcfQM"
      },
      "source": [
        "## Procedimiento de evaluación"
      ]
    },
    {
      "cell_type": "markdown",
      "metadata": {
        "id": "lpGf22xycfQM"
      },
      "source": [
        "Composición de una rutina de evaluación que se pueda usar para todos los modelos en este proyecto"
      ]
    },
    {
      "cell_type": "code",
      "execution_count": 24,
      "metadata": {
        "id": "DTBNDqB_cfQM"
      },
      "outputs": [],
      "source": [
        "\n",
        "def evaluate_model(model, train_features, train_target, test_features, test_target):\n",
        "\n",
        "    eval_stats = {}\n",
        "\n",
        "    fig, axs = plt.subplots(1, 3, figsize=(20, 6))\n",
        "\n",
        "    for type, features, target in (('train', train_features, train_target), ('test', test_features, test_target)):\n",
        "\n",
        "        eval_stats[type] = {}\n",
        "\n",
        "        pred_target = model.predict(features)\n",
        "        pred_proba = model.predict_proba(features)[:, 1]\n",
        "\n",
        "        # F1\n",
        "        f1_thresholds = np.arange(0, 1.01, 0.05)\n",
        "        f1_scores = [metrics.f1_score(target, pred_proba>=threshold) for threshold in f1_thresholds]\n",
        "\n",
        "        # ROC\n",
        "        fpr, tpr, roc_thresholds = metrics.roc_curve(target, pred_proba)\n",
        "        roc_auc = metrics.roc_auc_score(target, pred_proba)\n",
        "        eval_stats[type]['ROC AUC'] = roc_auc\n",
        "\n",
        "        # PRC\n",
        "        precision, recall, pr_thresholds = metrics.precision_recall_curve(target, pred_proba)\n",
        "        aps = metrics.average_precision_score(target, pred_proba)\n",
        "        eval_stats[type]['APS'] = aps\n",
        "\n",
        "        if type == 'train':\n",
        "            color = 'blue'\n",
        "        else:\n",
        "            color = 'green'\n",
        "\n",
        "        # Valor F1\n",
        "        ax = axs[0]\n",
        "        max_f1_score_idx = np.argmax(f1_scores)\n",
        "        ax.plot(f1_thresholds, f1_scores, color=color, label=f'{type}, max={f1_scores[max_f1_score_idx]:.2f} @ {f1_thresholds[max_f1_score_idx]:.2f}')\n",
        "        # establecer cruces para algunos umbrales\n",
        "        for threshold in (0.2, 0.4, 0.5, 0.6, 0.8):\n",
        "            closest_value_idx = np.argmin(np.abs(f1_thresholds-threshold))\n",
        "            marker_color = 'orange' if threshold != 0.5 else 'red'\n",
        "            ax.plot(f1_thresholds[closest_value_idx], f1_scores[closest_value_idx], color=marker_color, marker='X', markersize=7)\n",
        "        ax.set_xlim([-0.02, 1.02])\n",
        "        ax.set_ylim([-0.02, 1.02])\n",
        "        ax.set_xlabel('threshold')\n",
        "        ax.set_ylabel('F1')\n",
        "        ax.legend(loc='lower center')\n",
        "        ax.set_title(f'Valor F1')\n",
        "\n",
        "        # ROC\n",
        "        ax = axs[1]\n",
        "        ax.plot(fpr, tpr, color=color, label=f'{type}, ROC AUC={roc_auc:.2f}')\n",
        "        # establecer cruces para algunos umbrales\n",
        "        for threshold in (0.2, 0.4, 0.5, 0.6, 0.8):\n",
        "            closest_value_idx = np.argmin(np.abs(roc_thresholds-threshold))\n",
        "            marker_color = 'orange' if threshold != 0.5 else 'red'\n",
        "            ax.plot(fpr[closest_value_idx], tpr[closest_value_idx], color=marker_color, marker='X', markersize=7)\n",
        "        ax.plot([0, 1], [0, 1], color='grey', linestyle='--')\n",
        "        ax.set_xlim([-0.02, 1.02])\n",
        "        ax.set_ylim([-0.02, 1.02])\n",
        "        ax.set_xlabel('FPR')\n",
        "        ax.set_ylabel('TPR')\n",
        "        ax.legend(loc='lower center')\n",
        "        ax.set_title(f'Curva ROC')\n",
        "\n",
        "        # PRC\n",
        "        ax = axs[2]\n",
        "        ax.plot(recall, precision, color=color, label=f'{type}, AP={aps:.2f}')\n",
        "        # establecer cruces para algunos umbrales\n",
        "        for threshold in (0.2, 0.4, 0.5, 0.6, 0.8):\n",
        "            closest_value_idx = np.argmin(np.abs(pr_thresholds-threshold))\n",
        "            marker_color = 'orange' if threshold != 0.5 else 'red'\n",
        "            ax.plot(recall[closest_value_idx], precision[closest_value_idx], color=marker_color, marker='X', markersize=7)\n",
        "        ax.set_xlim([-0.02, 1.02])\n",
        "        ax.set_ylim([-0.02, 1.02])\n",
        "        ax.set_xlabel('recall')\n",
        "        ax.set_ylabel('precision')\n",
        "        ax.legend(loc='lower center')\n",
        "        ax.set_title(f'PRC')\n",
        "\n",
        "        eval_stats[type]['Accuracy'] = metrics.accuracy_score(target, pred_target)\n",
        "        eval_stats[type]['F1'] = metrics.f1_score(target, pred_target)\n",
        "\n",
        "    df_eval_stats = pd.DataFrame(eval_stats)\n",
        "    df_eval_stats = df_eval_stats.round(2)\n",
        "    df_eval_stats = df_eval_stats.reindex(index=('Accuracy', 'F1', 'APS', 'ROC AUC'))\n",
        "\n",
        "    print(df_eval_stats)\n",
        "\n",
        "    return"
      ]
    },
    {
      "cell_type": "markdown",
      "metadata": {
        "id": "z2QcpCPpcfQN"
      },
      "source": [
        "## Normalización"
      ]
    },
    {
      "cell_type": "markdown",
      "metadata": {
        "id": "5HuGs01qcfQN"
      },
      "source": [
        "Suponemos que todos los modelos a continuación aceptan textos en minúsculas y sin dígitos, signos de puntuación, etc."
      ]
    },
    {
      "cell_type": "code",
      "execution_count": null,
      "metadata": {},
      "outputs": [
        {
          "name": "stderr",
          "output_type": "stream",
          "text": [
            "[nltk_data] Downloading package stopwords to\n",
            "[nltk_data]     C:\\Users\\roman\\AppData\\Roaming\\nltk_data...\n",
            "[nltk_data]   Package stopwords is already up-to-date!\n"
          ]
        },
        {
          "data": {
            "text/plain": [
              "True"
            ]
          },
          "execution_count": 29,
          "metadata": {},
          "output_type": "execute_result"
        }
      ],
      "source": []
    },
    {
      "cell_type": "code",
      "execution_count": null,
      "metadata": {
        "id": "BxcGV0v0cfQN"
      },
      "outputs": [
        {
          "name": "stderr",
          "output_type": "stream",
          "text": [
            "100%|██████████| 47331/47331 [00:01<00:00, 39385.36it/s]\n"
          ]
        },
        {
          "data": {
            "application/vnd.microsoft.datawrangler.viewer.v0+json": {
              "columns": [
                {
                  "name": "index",
                  "rawType": "int64",
                  "type": "integer"
                },
                {
                  "name": "review_norm",
                  "rawType": "object",
                  "type": "string"
                }
              ],
              "ref": "85b44590-dcf6-4b00-9aa5-c16ac4d68038",
              "rows": [
                [
                  "0",
                  "pakage implies warren beatty goldie hawn pulling huge bank robbery got get anything first half new character without introduction every scene first half hour completely incomprehensible rest one long annoying underlit chase scene always irritating sound background whether loud watch ticking blaring siren train whistling even horrible score quincy jones lot parts laughably bad like bad guys chasing beatty thin ice car police arriving scene roughly fifteen times really hated movie"
                ],
                [
                  "1",
                  "hell get made presenting caper comedy misbegotten essentially two hours people mumbling sentence fragments usually dependable warren beatty looks drunk usually hilarious goldie hawn acts like depressants gert frobe famous role goldfinger infinitely admirable character even guy champagne bottle lsd save litany worthlessness comparing movie plan 9 outer space thing even someone paid p9fos idiotically made ended hilarious idiotically made causes feel like brain melted ears warren beatty goldie hawn made co starred shampoo co starred dreadful town country maybe co star movies would rather skin torn watch awful maybe remake jackie chan would pay see"
                ],
                [
                  "2",
                  "real story film seems like fly wall drama documentary proper film piece may spoiler teen drama 3 young singaporean kids similar uk chavs play truant school run gangs get fights insult people street get tattoos hang nothing etc etc generally imagine hard every often shout challenging rap chants camera filmed mtv style fast cuts crazy camera angles tight close ups animation interludes dialogue might crisper original languages mandarin hokkien subtitles doubt contemporary singapore references slip western heads well cultural political context unless course familiar singapore kind teen film may first singapore done done better western countries la haine 1995 example"
                ],
                [
                  "3",
                  "um serious film troubled teens singapore country much knowledge previous wrong impression kids highly disciplined controlled family government well guess wrong like cities countries also troubled teens also lead surprising rebellious way life drugs fights bad language many obvious signs bad boy surprising part film really kids running around causing others trouble rather subtle gayness hidden behind call loyalty bond brothers may well originated unconscious gay tendency inside boys though uncommon str8 guys close friendship watch film closely entering sorts gay film festivals would surprised may win lot awards toward direction"
                ],
                [
                  "4",
                  "totally agree garryjohal singapore comments film quotation yes non singaporean see big deal film references film fly right head foreign viewers mostly singaporeans ones would actually get still quite truth malaysian chinese get although speak hokkien similar problems malaysia know really hard understand accept reality definitely real story pleased see film outside malaysia definitely banned malaysia means either get illegal copied vcds dvds hope someone kind enough share internet another violent teen drama portrays reality exists singapore malaysia interesting way sad humour little sad know film got 20 cuts censorship waste"
                ],
                [
                  "5",
                  "first movie seen singapore great know lot asia languages culture film may bit confusing non informed people asian american double majoring two asian languages one mandarin taken asian american studies classes film easier understand even without kind knowledge believe movie still accessible foreign audiences long keep mind coming age type movie film definitely worth seeing get chance see kind issues singapore young teenage boys struggling deal awesome coming age movie filmed shown artistic original way actors outstanding"
                ],
                [
                  "6",
                  "yes non singaporean see big deal film references film fly right head foreign viewers mostly singaporeans ones would actually get plead foreigner look crap churned singapore compare film like comparing mule diarhhoea chunks little diamond film first truly show singapore seedy underbelly something forces pretend exist part film gangster ah beng unique colloquial ingris curses 4 languages namely tamil english malay hokkien well truth us time sad thing viewers foreign contries easier time getting oily little claws gem country origin banned initially given r rating 20 cuts nice know one best creative edgy original films ever created would easier obtain unadulterated uncensored halfway across world nation"
                ],
                [
                  "7",
                  "true story carlson raiders army training film anything else obviously thrown together quickly miniscule budget thing recommend early performance robert mitchum decent actor cast actual footage wreckage pearl harbor gets blood boiling obviously intended"
                ],
                [
                  "8",
                  "titled balderdash little film true except name island fact submarines involved little training film quality poor camera work muddy stock footage perhaps low point stereotyping japs laughing japanese infantry laughing japanese fighter pilots one dimensional square jawed americans dying left right sixty years later unintentionally funny odd artifact opportunity see possible war fever upon plot dialogue remind playing guns summer afternoon childhood peering neighbor hedge gain fatal advantage best friend steve little brother actual fact makin island raid near total failure carlson men wandering around dark exchanging gunfire shadows finally thirsty completely disoriented looking someone surrender happened upon equally confused japanese soldiers promptly surrendered withdrawal several carlson marines ended another island abandoned film course tell story 1943 bit whimsy fabricated rushed release beating drums randolph scott jaw colonel thorwald carlson leading unit comprised almost entirely stock caricatures green recruit harry landon robert mitchum grizzled veteran j carroll naish milburn stone sam levene country bumpkin rod cameron american boy alan curtis scores sneering laughing japs yet cast nearly overcomes material almost randolph scott narrow range well suited role earnest commander supported solid group professionals best thin gruel end one note object exercise wins pretense totally abandoned close randy scott simply looks directly camera delivers stirring well sorta stirring call arms cast better material audience viewed reefer madness bottle moderately priced merlot"
                ],
                [
                  "9",
                  "movie gung ho story carlson makin island raiders made 1943 view go moral american people duration second world war shows better way cinema constitute body propaganda value film collection artistic film propaganda useless judge direction actors watch movie interested learn propaganda functions movies big fun robert mitchum small role film want see film second world war exist much better objective rated 4 10"
                ],
                [
                  "10",
                  "reading reviews became obvious everyone intellectualized work utterly boring oh good ol days nothing like comments one expressed emotion work grew end steam age cinematic gem along dan l boone graced saturday afternoon matin es annual movie made rounds filled seats gabbing yapping farting giggling snot monsters like self movie theatre filler time almost big wizard oz imdb insists every critique contains something plot problem rather template goes randolph scott cowboy hero gathers friends goes defeats evil people hooray us kids figured plot plunked quarter watch plot line every scott john wayne roy rogers film ever made take time go back review every movie ask surprises one must remember context times little tv none kids school great outdoors toy guns cyber time steam age collapsed movies provided entertainment filled imaginations young whippersnappers even girls got movie entertainment mindless anything produced today purpose originally propaganda quickly came kids movies fathers experienced real thing sam peckinpah decade later finally lavished red splashes imitation blood realistic copious quantities directorship anyone die slowly great pain miserably peckinpah war gun fights rather bloodless affair thanks sam see movie little blood adults mind tolerated think guts spraying shattering plant life movie glory none gory gung ho suitable kids see assigned four rating would well terrible movie matter love love movie brought back one happier moments childhood good movie quality terms basically gung ho transitted become romance novel children people watch course saying stay away realistically however plot simple characters shallow shoals love bad movie"
                ],
                [
                  "11",
                  "whole movie seemed suffer poor editing every scene seemed take forever unfold felt like waited long time little happen guess missed whole point movie either one"
                ],
                [
                  "12",
                  "know happened director abel ferrara ever since body snatchers remake seems lost king new york bad lieutenant remain two best films 90s searing indictments decade gone wrong films like r xmas whatever means new rose hotel seems determined disgust bore former supporters film life gets excellent performances actors projects result mishmash ideas jell whatever point new breed drug dealer less upper middle class new yawkuh gets lost mind numbing script boring direction saw opening night 4 plex downtown l lobby buying tickets surprised delighted see filled large racially mixed group men women twenties thirties started theater theater featuring 8 mile r xmas theater showing r xmas keep mind opening night total 4 people watching wife two others way go abel 2 10"
                ],
                [
                  "13",
                  "r xmas peers lives middle class married kid family narco distributors christmas holiday season story disjointed collection events ferrara seems get juxtaposition holidays home life narcotics peddling nyc jumping back forth players appear improv ing adlibing making unconvincing watch overall poor effort worth time"
                ],
                [
                  "14",
                  "good actors good director well acted well directed movie script improvised least short length movie 80 minutes including credits nothing seems happen film nothing couple small time drug dealers caught small time troubles never get clue happening even talking sequences movie tons f motherf nothing else people love abel ferrara films funeral r xmas going big disappointment thinking really think good movie made"
                ],
                [
                  "15",
                  "caught north american premiere chicago international film festival beyond disappointed mood audience one film takes long time get conflict refuses resolve opting instead tell us story continued spoiler reveal movie ending consider warning best half movie good half"
                ],
                [
                  "16",
                  "whole movie done half assed could much better movie would required write different actors compared traffic wreck glad pay spoiler point crooked cops getting arrested share guilt drug dealers make feel better pu leaze parents scum driven greed even consider harm pointed ice 2 10"
                ],
                [
                  "17",
                  "new york morning close christmas upper class father mother go bmw private school see play daughter go shopping later return fancy apartment manhattan night move simple apartment dangerous neighborhood prepare drugs distribution christmas eve buying christmas gift daughter father kidnapped wife desperately tries raise high amount money pay requested ransom r xmas deceptive movie abel ferrara lead characters names anonymous maybe intention tell breast neighbor family building may drug dealers drug dealers may also families may loving persons many dirty cops probably worse criminals simple apology crime whatever however humanization criminals horrible message really like movie brazil example many drug dealers criminals help communities due absence state poor areas slums procedure make model citizen movie see loving upper class family day providing drugs means living destruction members families shown story impossible feel sympathy characters end wished dead vote four title brazil gangues gueto gangs ghetto"
                ],
                [
                  "18",
                  "r xmas one films seen almost say simply nothing happens felt though watched drug dealing middle class couple child walk around eat smoke converse excuse swear film believe missing point think film well directed well acted although husband performance rather wooden constant feeling impending doom around every corner certainly kept viewer involved dust clears left zero boat load fade outs want car chases gun violence beatings etc fact sick violence goodness let least get bit deeper characters let get know corrupt officers little better show glancing shots street thugs dialogue juvenile everyone spoke junior high believe even side human race say something fu sh etc pacing storyline r xmas found quite interesting execution plain simple empty 4 10"
                ],
                [
                  "19",
                  "seen foxy brown coffy friday foster bucktown black mama white mama pam grier worst movie poor acting bad script boring action scenes nothing avoid rent friday foster coffy foxy brown instead"
                ],
                [
                  "20",
                  "really tried movie work action scenes dull acting surprisingly poor characters stereotypical even funny pam grier tries nothing work even considerable talent cannot prevent disaster even standards weak genre film pretty bad"
                ],
                [
                  "21",
                  "pam grier made coffy 1973 exciting though flawed film plot gritty satisfying even acting often amateurish successful american international pictures decided rehash formula following year foxy brown bad film certainly almost like coffy ii year later studio apparently given creating anything new ms grier sheba baby essentially plot coffy foxy brown yet idea recycled acting acting tired low energy really scraping bottom blaxploitation barrel exactly like films sheba baby begins local black mobsters pressuring eventually killing someone pam grier loves past drug dealers pimps mobsters trying run loan companies pawn shops town corner market like films pam one woman hit squad dispensing justice good butt whoopin like films cat fight pam white lady right front mr big like films mr big white guy pulling strings like films captured mr big like films immediately kill gives ample opportunity escape leaving knife conveniently lying around like films eventually gets free kills jive formula seem interesting 1973 film frankly predictable bore even seen films still bad action slow punching kicking seemed slow staged could said gun play one scene four guys machine guns ar 15 shotguns attack pam responds opening fire 357 revolver killing 3 4 getting surrender even good shot rather slow guys seemed wait killed plus even world champion shooter rambo succeeded one sided odds guys impressive weapons already pointed cleverly whipped pistol easily dispatched professional hit men addition slow lame action scenes compared blaxpoitation film movie many logical gaps show writing terrible studio care one case boyfriend williams knew yacht nu tronic end film pam never told know another cops approach boat filled hoods hood immediately open fire however cops evidence anything happening crooks began firing little provocation crooks 30 caliber machine guns amazingly powerful weapons many cases killed cops wielding snub nosed 38s bottom line great example done whole lot better love blaxploitation films one dopey slow merit watching except devoted fans genre"
                ],
                [
                  "22",
                  "sheba shayne pam grier receives telegram informing father may trouble sheba private investigator former cop goes father aid someone stop nothing run father business attempt show muscle goes awry sheba father gunned cold blood guys messed wrong woman describe sheba baby best come pam grier lite really bad acting pam grier film sheba baby incredibly tame nowhere near violent earlier films gone top images pam placing small revolver razor blades afro pilot urville martin crew hold candle real villains pam faced previous movies strictly numbers almost made tv feel bad acting baddies pam faces unnatural sounding delivery seen result characters like pilot come across threatening need movie work say moments elements sheba baby enjoy pam wetsuit pam brandishing spear gun compared pam films like coffy foxy brown even friday foster movie fails one final observation maybe sensitive things post 9 11 remember time even security lax 70s could take suitcase full guns airplane sheba flies father aid got arsenal packed luggage"
                ],
                [
                  "23",
                  "average blaxpoitation action melodrama lovely ms grier plays private eye comes aid father rudy challenger partner austin stoker original assault precinct 13 whose loan business threatened frank agree user comments movie sheba baby less satisfying script direction particularly distinguished action scenes moderately entertaining best one ms grier nondescript supporting casts although important supporting role urville martin also familiar name blaxpoitation get feeling routine movie may put together quickly merely cash enormous popularity sure cool seeing stoker although ms grier good role dialog films although best playing sassy sexy sister mission vengeance non stop soul funk soundtrack enjoyable least mostly recommended wish see everything pam grier film repertoire 4 10"
                ],
                [
                  "24",
                  "anything william girdler opportunist wanted piece action regards whatever popular time mean blaxploitation flick louisville kentucky would thunk imagine enthusiasm must getting pam grier quite hot item star picture pretty familiar genre girdler sheba baby necessarily stray far formula despite change venue film still deals ruthless businessman nicknamed shark muscles loan companies using stooges threaten order get signatures grier sheba shayne former louisville cop working chicago returns home request father partner brick austin stoker assault precinct 13 sheba father despite shark bullying tactics man town pilot wannabe gangster equipped stooges menacing rather buffoonish nature thin skinned hire hit men outside town shoot shayne loan building give company eventually costs life warning use brute force leads killed sheba get revenge responsible father death words shark ass grass dig seeing grier magnum enough sell particular film novelty setting louisville part package even get see speedboat chase grier shootouts gangsters necessarily polished kind one might accustomed seeing chicago new york period blaxploitation lots blood spurting bullet riddled bodies torn apart gun fire colorful characters wimpy loan shark pimp dress named walker pilot one least scary mobsters likely see show film misfortune coming contact angry sheba plot nothing special grier always worth watching girdler orchestrates plenty action sequences keep target audience entertained modest success girdler one accomplished films"
                ],
                [
                  "25",
                  "pistol packing pam grier takes names kicks butt heroine asylum satan director william girdler entertaining blaxploitation actioneer sheba baby co starring urville martin austin stoker sheba baby one several tough chick flicks grier appeared 1970s including coffy foxy brown friday foster short lived girdler co wrote thoroughly routine private eye potboiler producer david shelton one night features headstrong female shamus refuses rely man help take care business unfortunately sheba baby nearly good blaxploitation movies grier made supervision director jack hill hill helmed african american north carolina native coffy foxy brown big bird cage big doll house anybody analyzes images african american women cinema familiar epics chief problem sheba baby heroine gets many convenient breaks naturally secondary villains trigger happy clowns hit side barn howitzer main antagonist dick merrifield qualifies egotistical well smarmy villain choice lines like anything worth worth stealing additionally composer monk huggins provide strong atmospheric orchestral soundtrack best song barbara mason warbling good man gone sheba baby casts grier stylist chicago gumshoe sheba shayne leaves windy city return hometown louisville kentucky help father arrives louisville sheba learns father andy rudy challenger detroit 9000 trouble local black gangster nicknamed pilot cigar chomping urville martin hammer demands andy sell loan company pilot die initially pilot dispatches goon squad trash andy office heroine father catches act turn sheba father punching bag interestingly fight scene girdler rarely shows fists smashing flesh earlier andy right hand man brick williams austin stoker horror high sent sheba telegram requesting return louisville receive immediately thanks lazy partner know find brick sheba hook rekindle romantic flames share night sack brick spends time urging sheba remain calm face adversity former louisville kentucky police woman sheba prefers shoot first ask questions second arrives home sheba borrows father car barely escapes blown bits walking door get father car andy receives another harassing call pilot previously andy refused discuss prospect selling loan company pilot andy changes mind agrees talk hoodlum gratified pilot warns andy dynamite attached ignition delayed action fuse words cranking car trigger explosion explosion comes ten seconds later andy brick rescue sheba car blows earlier sheba agreed let father handle problems without interference dad know think man job going sit sidelines woman sheba tells near death experience sheba vows learn sabotaged father car grilles old contact days cop threatens guy gun extract information sheba ground guy face bucket chlorine dust relent tell pay town railroad museum brick accompanies sheba shooting ensues flustered pilot getting away skin chin later pilot sends quintet town contract thugs armed teeth trash andy office gunsels ignore kill orders shoot loan company office ribbons also blast sheba dad shotgun sheba retaliates short order wielding nickel plated revolver guns three four assailants dirty harry style last hit man discards weapon pleads mercy sheba finger trigger homicide detective phil jackson charles kissinger abby uniform cop arrive scene hospital andy shayne dies holding daughter hand naturally pilot furious revelation fury borders apoplexy afterward sheba tracks loan shark walker christopher joy cleopatra jones pries information pilot holds gunpoint car wash one better staged scenes lots ominous shots car wash equipment whirling humming walker warns pilot sheba pilot henchmen confront sheba parking lot swap lead sheba flees foot nearby carnival police corner one pilot men deals others pilot shoots one accidentally sheba runs pins pilot roller coaster track threatens hold roller coaster cuts head pilot manages escape spilled guts sheba identity phone number big man shark dick merrifield hellcats whose reputation immaculate detective jackson describes guy right answers sheba baby top notch pam grier however idea heroine handle everything without help guys makes interesting well entertaining chick flick"
                ],
                [
                  "26",
                  "sheba baby always underrated likely pg rating instead usual r rating grier movie gets pg means pam take top takes top every movie though exciting coffy action takes slow time screen thrills started like dolemite urville martin heavy trying get sheba father wages one woman war martin gang cronies best scene stupid pimp car still laughing thought would stupid pg rating wrong replaces sex violence blaxplotation film good"
                ],
                [
                  "27",
                  "sheba baby another pam grier blaxploitation film one pam less visceral films genre pam plays sheba shane chicago gumshoe sheba father owner small loan company missouri local mobsters try run father business sheba goes bad guys pam grier already made mark blaxploitation films time sheba baby came along fans coffy foxy brown know pam capable explosive intensity actress sheba baby fiery performance viewers come expect pam evident film pam kick butt sheba baby much runaway train vigilante previous blaxploitation films supporting cast film distinct disappointment sheba baby pam film though pam bit subdued films still gives compelling performance sheba baby film definitely worth time ardent pam grier fan"
                ],
                [
                  "28",
                  "yeah guess movie kinda dull compared pam grier films plot overly familiar dialog stilted acting good worth seeing lengthy stretch near end film see ms grier sexy blue wetsuit zipper half unzipped yeah seems like frivolous point discussing actress pam grier talent also happens extremely gorgeous woman back day body quit nice see showcased tight wetsuit rent dvd tell wrong know right yes really give 10 wetsuit scenes"
                ],
                [
                  "29",
                  "til one worst films ever seen fails every respect jeanne tripplehorn better actress waterworld comparison film dungworld character stumbles even twice course film one understand jeanne character falls trips stumbles often might bit jerry lewis defence prat fall probably blocked choreographed rehearsed rehearsed although bad enough film actors dylan mcdermott jeanne tripplehorn seem spend plot going smoke trying find place smoke film diatribe place smoke ok however long film runs long 10 minutes past running time oh jeanne tripplehorn almost acts public forum meeting almost see break life character oh almost convincing scene yelling michael douglas basic instinct hmm second thought really film avoid costs unless need cigarette trapped nicotine addicts anonymous forced watch outtakes hooper burt reynolds even toss coin go sleep"
                ],
                [
                  "30",
                  "beginning til right track setting big finish would come together thing found ending extremely disappointing maybe someway right ending little realistic could say judge"
                ],
                [
                  "31",
                  "film weird annoying characters strange unexplainable slapstick insurmountable amount dialogue smoking movie contrived plot bitchy empty headed woman jeanne tripplehorn search love although would ever like jeanne character personality reading dialogue really cannot say except likes smoke sarah jessica parker gives interesting character performance likes smoke dylan mcdermott best look pretty soulful smokes hey jennifer aniston oh really enough anyone care likes smoke waste anyone time even know able sit much movie even believe spent time write except warn others banality anyone need cigarette"
                ],
                [
                  "32",
                  "spoilers night mother story jesse sissy spacek divorced epileptic woman calmly announces brash mother anne bancroft going commit suicide fascinating premise drained vitality excitement brilliant hook turns cheat story follows lacking substance gravity revelatory value shocks surprises mother daughter may last conversation lives secrets revealed confessions fantasies regrets painted dull color keeps emotion background celebrates genius playwright marsha norman expense everything else result film exhausting endurance test let preface comments saying find sissy spacek one greatest actresses history motion pictures woman magnetic natural continues surprise amaze twenty years stardom brings touch class magic everything seen rescue one film recycling bin angelic face vulnerable eyes soft voice sweet smile great spacek watched film first place one movies terrible fail significant way film fails two first foremost film adapted faithfully pulitzer winning stage play claustrophobic repetitive entire movie two woman dialogue jesse mother worked stage middle aged mother daughter argue two hours small house dies film play matter great needs adapted screen self indulgent arrogant believe dialogue perfect word altered screenplay film could shortened thirty forty pages knowing screenwriter would given brilliant spacek competent bancroft physical sequences facial reactions something break wall wall yak fest prison like single set wonder screenplay adapted original playwright marsha norman may know theater reveals clueless film cannot emphasize effect stage play script film watching jesse mother argue jesse impending suicide redundant dull women walk living room kitchen den back living room start tiny midwestern house ideal location single set film director never tries anything clever original never tries break monotony exterior shot cutaway flashback anything music characters stories two women covering couch cushions arguing opinions reverence given play sickening even shakespeare solemn classics get shaken screen commitment original play seems almost spiteful film made document dramatic treasure stage play audience afterthought reason film fails anne bancroft may good stage actress film presence 80 performance rarely seems fit certainly fit playing midwestern grandmother looking like mrs robinson morning coffee chases jesse around house looking aggravated astounded seems extraordinarily unsympathetic even lines convey loving flawed woman sissy spacek great always honest open good actually understand agree character choice sissy lets us see jesse flat tire wrong turn woman every bad break made many wrong choices never control life suicide way finally saying get puts anyway spacek speaks listen proves films good actress behave like man bluff bravado borrowed testosterone films like coal miner daughter quietly demonstrates soft strength quiet depth impressive hypnotic help fall love hard watch night mother spacek wasted stilted stunt film never serves engage even distract would recommend movie anyone except die hard fans sissy like even disappointed give film entire letter grade bonus ending courageous enough let lead character right pander hackneyed happy ending grade c"
                ],
                [
                  "33",
                  "privilege seeing powerful play broadway kathy bates lead saw one play 1970 1990 emotional impact like play really looked forward play made movie disappointed learned kathy bates reprise role film well known broadway time producers must wanted star power suppose cast sissy spacek instead sissy adequate job lead role measure kathy bates way love anne bancroft seemed young role movie plot true play anyone ever contemplates suicide watch movie realize devastation left behind"
                ],
                [
                  "34",
                  "rented movie local library without prior knowledge book based movie purely based chance one rare overlooked gems one discover time time really enjoy unfortunately one movies sure movie driven sentimentality worse deliberate agenda certain elements made impossible immerse supposed portray struggling immigrant worker community tries cope difficult realities life fine premise could made gripping story execution made alternate getting annoyed amused ridiculousness community simple farm workers migrated us search employment get used abused repeatedly evil white men say evil mean evil white people movie sinful racist sadistic abusive devils whose sole purpose life sexual depravity intertwined exploiting poor immigrants would sad story unintentionally grotesque therefore hilarious portrayal immigrants also poster worthy example exaggeration except goes opposite direction immigrants saintly clean could serve ointment boo boos ouies world help laugh saw field workers presumably digging ditches day notoriously clean clothes chiseled hair cuts top notch hair salon little restraint unbiased hand helm could made much better movie evoking intended emotion rather sarcastic snickers"
                ],
                [
                  "35",
                  "movie earth swallow based book tomas rivera eye opening movie people talks exploitation migrant farmworkers go order survive sergio perez uses impressionistic techniques depict rivera story uses sienna gray scale effects depict scenes uses specific photographic techniques make scenes look like took place 1950s perez also gives life film using time appropriate music including balladeering guitar playing feel good film view shows detail migrant farmworkers live entertainment beliefs"
                ],
                [
                  "36",
                  "moved young life experiences man rose high academic world hard life surrounded love close family extended family companion workers created person able succeed world part hispanic culture shown always observed admired hardworking optimistic truly family oriented points religious superstition quite authentic catholic church without doubt actress played mother deserves academy award prayers missing son moved tears recommend stunningly thoughtful film friends family"
                ],
                [
                  "37",
                  "recently finally available dvd 11 11 08 severo p rez film earth swallow 1994 based one highly regarded discussed novels chicano literature tom rivera se lo trag la tierra earth devour 1972 still generally acknowledged many critics serious readers classic chicano novel originally written spanish characteristic south texas also translated english rivera novel continues indispensable presence within chicano literary landscape perez film originally made highly rated american playhouse pbs production taken time released dvd one wonder matter high quality issue film dvd however remains far know cinematic adaptation chicano novel clearly tribute earth incredible staying power cinematic version also strikes exceptionally deep rooted nerve maintain specifically ethnic yet also generally universal doubts earth perhaps might arisen ethnic alien basic american mainstream much foreign art indie limited economic resources yet perez version art opinion connects effectively artistically creates sharply etched portrayal chicano migrant collectivity focuses daily family life far production done relatively limited economic resources lovely cinematographic work haunting music go much beyond available funding simply viewing film makes manifest film dvd artistic value briefly earth swallow portrays neo naturalistic way plight suffering despair chicano migrant laborers follow crops northward south texas minnesota 1952 local priests bless beat overstuffed vehicles chicano laborers longer find work area must follow agricultural trail migrant worker northward chicano collectivity like depression era joads steinbeck grapes wrath forms epic tide driven economic need survival instinct anguished despair ultimately barely flickering faith tribute people earth collective hero dvd centered focal family especially emblematic young protagonist within family boy perhaps twelve work also functions bildungsroman ultimately viewer sense identification generated experiences subjectivity struggles protagonist poverty alienation child labor illness sunstroke pregnancy death discrimination school absenteeism boy escapism bullies discrimination spent lying lovely peaceful cemetery laid bare matter fact yet also symbolically worse still problematic conflict youngster mother goes beyond socio economics political conflict deeper realms psychology metaphysics desperate artistically rendered struggle youth battles mother archetypical mexican american traditionalist representative god content prayer resignation consolation acceptance rebellious youth cannot believe god would permit evil suffering visited upon god cruel asks since little sister certainly purely innocent come serious illness fields point boy must overcome obstacles even daunting poverty discrimination issues include death doubt despair lack meaning resources available strength character power intelligence powerful survival instinct desperate artistically rendered struggle unnamed youngster central figure feels necessity enduring achieving heightened sense meaning viewer hopes renewed strengthened life force serve inspiration chicanos others stark battle makes use plot device touched original work tie episodic work together missing immigrant laborers mexico leave trace upon death although dvd deals mexican mexican american migrant laborers highly existential work anguish despair quest focus project redemption auspices free spite deterministic socio economic religious circumstances perez long list credits basically documentary filmmaker many awards confirmatory producer paul espinosa also well known likewise honored work 1994 film fact deserved number awards first place audience favorite santa barbara film festival 1995 first place cairo film festival number well deserved awards opinion film dvd earth perez best chicano film made"
                ],
                [
                  "38",
                  "know episode stuff apart going discuss fact think virtues example fact given negative opinion jin seeing sun flashbacks house rising sun get see jin side things get new balanced understanding life element story made deeply uncomfortable greatly dampened enjoyment whole episode scene jin appeared blood hands shirt hinted sun father someone getting rich shady illegal methods thought maybe mob boss even mobs operate korea like almost every country world reasonable possibility however episode learn sun father fact boss top executive korean automotive company jin physically attacking government official actually going murdered behalf may especially touchy happen work automotive industry would say spectacularly offensive racist even suggest kind thing goes korea huge serious companies like hyundai kia must model fictitious car company ones actually exist reality operate mafia like methods instead like normal automotive company west unbelievable writers would gall write something like story uproar korea feels like extraneous buy american propaganda portraying foreign car companies criminal untrustworthy third world outfits"
                ],
                [
                  "39",
                  "sorry cannot even partly agree comments awful piece sh english native language german citizen please blame inappropriate grammar structures something gg cannot understand movie got high rating 6 3 kidding movie completely sense even seem good acting looked comments da vinci code think nearly rating bang head table watched 00 schneider directly sakrileg oh god worlds majority posters board tears every hyped movie pieces rating crime movie making 6 3 denominates helge genius course knows make money think main aspect opinions fact german native language ignore rather notice bunch crap said sentences ok must confess scenes funny 6 3 much compatriot"
                ],
                [
                  "40",
                  "consider movie one interesting funny movies time much highly intelligent thoughts anybody thinks movie awful get able recognize really deep philosophical themes 3 schneider movies without doubt several universities germany throughout europe made studies schneider way seeing things way helge schneider intelligent sensitive person jazz musicions germany maybe europe mostly inspired great davis monk like ok please try convince others might stupid cheap boring funny face opinion discussion willing really look art h schneider would surrender"
                ],
                [
                  "41",
                  "helges best movie far funny surrealistic bunuel made movie starring buster keaton krusty clown would look like brilliant performances cast already know schneider movies especially helmut k rschgen sidekick 00schneider andreas kunze plays wife one bit annoying though course helge nihil baxter absolutely incredible p movie proper merchandising would really like buy replica holz ist painting"
                ],
                [
                  "42",
                  "phenomenon helge schneider defies easy description quick categorization yet international audience acquainted one could say something like crude mix weird al yankovich andy kaufman adding foible jazz music 70s outfits stage performances already eccentric movie works simply hilariously outrageous 00 schneider opinion helge best movie stars two leading roles police detective kommissar 00 schneider murderer villain nihil baxter also precious smaller role physician dr hasenbein opening scene see modern art loving baxter accidentally kills circus clown bratislav metulskie bought malfunctioning used jaguar beloved sculpture slips baxter hands fatally hitting metulskie upon reading incident newspaper 00 comes back retirement investigate case support loyal sidekick lt koerschgen played elderly actor bearing name pick baxter track quickly interrogate weirdly decorated mansion one movie best scenes initially fail gather proof story winds many turns several scenes always really contribute progress plot hilariously funny daydream 00 including unusual view running man brief clad crotch movie history police department party koerschgen gets row chief hospitalized visit already mentioned dr hasenbein baxter finally caught attempting escape rio de janeiro plane always worth special mention andreas kunze case plays 00 wife usually appearing drag performing women roles helge movies folks looking new laughs strongly recommend movie catch understand german doubt english version around"
                ],
                [
                  "43",
                  "watching movie came script movie called making 10 items less producer got good news bad news good news get morgan freeman writer great bad news producer afford hire one day guess get someone else writer hire one day movie hour half long work day eight hours long fail see problem producer spend time getting character writer play character essentially producer still need understand motivation saying play big name actor low budget movie writer producer ridiculous fine least morgan freeman movie guess set movie los angeles writer course producer script load crap better make money case morgan freeman character plug wal mart target one stores least someone want sell dvds writer sure thing producer wait second tiny bodega ten items less express lane writer oh guess pretty weird change title doubt script actually bears much resemblance reality neither 10 items less case good acting bad writing hate see happen watching independent movie expect try convey sort message think might trying tired old let anything hold back message done death much better films case 10 items less message got look look morgan freeman"
                ],
                [
                  "44",
                  "love morgan freeman paz vega attractive appealing talented actress sure would good movie anything happened nothing short less 90 minutes 75 minutes long hour frustration scanned remaining 20 odd minutes excruciating freeman plays actor worked researching part might play checkout clerk supermarket visits supermarket works nothing happens decides give ride home go arby target car wash nothing happens converse lives nothing happens ever get also get bill murray flicks lost translation broken flowers like movies maybe like lots people find movies like whimsical charming reasons escape find dialog fascinating common device movies ilk long take stillness silence actor delivers line supposed meaningful know meaningful followed two minutes nothing screen sorry must philistine get kinds movies funny charming thought provoking boring comedy drama tension laughs suspense action nothing watch short none things go movies bored free see oddball quirky characters real life go target fast food restaurants car washes elements movie make even stars stuff pay entertained crazy morgan freeman like hear ramble nothing fun wanna drool paz vega look listen nothing happens promise total snoozefest"
                ],
                [
                  "45",
                  "watched movie came imdb read reviews compared lost translation lite read immediately could see reviewers point movie poor attempt similar theme interestingly format movie nearly identical pacing incredibly different 10 items rushes viewer 1 day time line movie whereas better planned lost seems stretch long days sure people see morgan freeman disappointed seems better roles days supporting roles big blockbusters rather leading roles sub 10mil limited release movies indie films"
                ],
                [
                  "46",
                  "really spoilers opinion wanted cover nevertheless executive producer morgan freeman wants audience ignore numerous absurdities character 10 items less movie intentional indie feel absorbed mentor theme plays alternate universe semi washed version real morgan freeman chauffeured old econovan kid way carson ca brentwood research next movie role carson mystery cal residents could saved trip gone anywhere san fernando valley found elements paz vega pretty watch cross salma hayek penelope cruz playing disgruntled grocery checker large slow local market apparently ultimate source moragn freeman research character known allude actors regarded encountered real life average people psst etc unfortunately distracted kinds worldly wisdom advice reliable return back home brentwood carried cash debit card wisdom keep cell phone one high opinion self believe possess answer everything like gotta see cash blackberry displays intelligence good survival instincts preserve big ego definitely nothing really happens movie believe either main character substantially changed encounter flirts idea adultery thought fizzles similar steve martin shopgirl without sexual affair self indulgent freeman unconvincing audience"
                ],
                [
                  "47",
                  "still famous decadent actor morgan freeman filmed four years invited participate new project asks clumsy cousin director drop poor latin neighborhood carlson research work manager small supermarket sees gorgeous spanish cashier scarlet paz vega becomes attracted ability driver never returns catch scarlet gives ride actor first job interview position secretary construction company actor helps prepared spend afternoon together pleasant time big fan morgan freeman paz vega however pointless 10 items less absolutely disappointing low budget movie seem storyline supported chemistry improvisations morgan freeman paz vega actually nothing happens along 82 minutes ambiguous open conclusion simply ridiculous character morgan freeman returning silver spoon world telling simple worker would never see afraid love affair destroy perfect world family clash classes realizes fancy neighborhood would adequate simple worker lower classes vote four title brazil um astro em minha vida star life"
                ],
                [
                  "48",
                  "movie great first time saw called lost translation somehow bill murray turned eccentric black man played morgan freeman scarlett johansson turned cranky latino woman played paz vega tokyo japan turned carson california instead meaningful conversations silence enjoyed translation get meaningless blabbering 10 items verges annoying instead characters pensive introspective translation get characters spew pointless advice topics clue character wears hundred dollar shirts never inside target department store expect give advice working class woman prepare job interview administrative assistant think stops giving clothing advice telling eat annoying part movie supposedly hurry make appointment yet characters keep finding time run another errand washing car stopping arby laying around list 10 items less lists things love hate kept wanting yell saying say somewhere heck minute ago practically late eating roast beef pondering lives saw movie never truly understood something could insist upon think movie exactly undeservedly dialogue makes characters cheesy unsympathetic exception felt sorry actors signed onto project"
                ],
                [
                  "49",
                  "high expectations indie perused many thumbs reviews additional two cents already posted excellent lost translation review premise morgan stuck dusty small town meets lovely scarlet working local supermarket morgan help elevate lovely scarlet trailer trash life realistic dialog shopping target first freeman looks target interior walked harrods bowled shirt rack confirming never store visited lovely scarlet morgan detached aspects scarlet reality portrayed gleeful ignorance everyone everything scarlet life one reviewer enjoyed scarlet ex hubby fight scene survival car instance requires physically attack ex hubbie freeman run defense naw cowering disbelief totally incapable dealing blunt aspect real sorry lot life freeman character believes car wash new revealing tight fitting blouse key scarlet job interview another sign freeman clueless freeman endless stage talk aspects scarlet reality reduced one another stage related freeman experience irritating freeman right emphasize scarlet young future ahead conveniently ignores brick walls faces vis vis uneducated white collar skills experience poor family support lifetime low self esteem scarlet learns life lessons freeman people pay 100 shirt revealing blouse may open doors lieu lack education white collar job skills end freeman offers scarlet little strange diversion star even paying gas scarlet dead night return unchanged life town name freeman cares know"
                ]
              ],
              "shape": {
                "columns": 1,
                "rows": 47331
              }
            },
            "text/plain": [
              "0        pakage implies warren beatty goldie hawn pulli...\n",
              "1        hell get made presenting caper comedy misbegot...\n",
              "2        real story film seems like fly wall drama docu...\n",
              "3        um serious film troubled teens singapore count...\n",
              "4        totally agree garryjohal singapore comments fi...\n",
              "                               ...                        \n",
              "47326    another favorite columbos sports top notch cas...\n",
              "47327    talk boring got expecting fascinating insight ...\n",
              "47328    never thought say biopic near abundance charac...\n",
              "47329    spirit chaos artistic biopic miyazawa kenji ja...\n",
              "47330    make brief joy watch may may effective charact...\n",
              "Name: review_norm, Length: 47331, dtype: object"
            ]
          },
          "execution_count": 30,
          "metadata": {},
          "output_type": "execute_result"
        }
      ],
      "source": [
        "\n",
        "\n",
        "\n",
        "df_reviews['review_norm'] = df_reviews['review'].str.lower().str.replace(r'[^a-z0-9\\s]', ' ', regex=True).str.replace(r'\\s+', ' ', regex=True).str.strip()\n",
        "\n"
      ]
    },
    {
      "cell_type": "code",
      "execution_count": null,
      "metadata": {},
      "outputs": [],
      "source": []
    },
    {
      "cell_type": "markdown",
      "metadata": {
        "id": "hFLVNj9GcfQN"
      },
      "source": [
        "## División entrenamiento / prueba"
      ]
    },
    {
      "cell_type": "markdown",
      "metadata": {
        "id": "_4mIx2RBcfQN"
      },
      "source": [
        "Por fortuna, todo el conjunto de datos ya está dividido en partes de entrenamiento/prueba; 'ds_part' es el indicador correspondiente."
      ]
    },
    {
      "cell_type": "code",
      "execution_count": 32,
      "metadata": {
        "id": "9_ghGy0icfQN",
        "outputId": "53a1ab2e-ef13-42e6-d9a5-3446069db818"
      },
      "outputs": [
        {
          "name": "stdout",
          "output_type": "stream",
          "text": [
            "(23796, 18)\n",
            "(23535, 18)\n"
          ]
        }
      ],
      "source": [
        "df_reviews_train = df_reviews.query('ds_part == \"train\"').copy()\n",
        "df_reviews_test = df_reviews.query('ds_part == \"test\"').copy()\n",
        "\n",
        "train_target = df_reviews_train['pos']\n",
        "test_target = df_reviews_test['pos']\n",
        "\n",
        "print(df_reviews_train.shape)\n",
        "print(df_reviews_test.shape)"
      ]
    },
    {
      "cell_type": "markdown",
      "metadata": {
        "id": "6ICBFHsjcfQN"
      },
      "source": [
        "## Trabajar con modelos"
      ]
    },
    {
      "cell_type": "markdown",
      "metadata": {
        "id": "eXm9IdrLcfQO"
      },
      "source": [
        "### Modelo 0 - Constante"
      ]
    },
    {
      "cell_type": "code",
      "execution_count": 33,
      "metadata": {
        "id": "O2WRy_ZucfQO"
      },
      "outputs": [
        {
          "name": "stdout",
          "output_type": "stream",
          "text": [
            "          train  test\n",
            "Accuracy    0.5   0.5\n",
            "F1          0.0   0.0\n",
            "APS         0.5   0.5\n",
            "ROC AUC     0.5   0.5\n"
          ]
        },
        {
          "data": {
            "image/png": "[encoded data removed]",
            "text/plain": [
              "<Figure size 2000x600 with 3 Axes>"
            ]
          },
          "metadata": {},
          "output_type": "display_data"
        }
      ],
      "source": [
        "from sklearn.dummy import DummyClassifier\n",
        "dummy_model = DummyClassifier(strategy='most_frequent')\n",
        "dummy_model.fit(df_reviews_train['review_norm'], train_target)\n",
        "evaluate_model(dummy_model, df_reviews_train['review_norm'], train_target, df_reviews_test['review_norm'], test_target)\n"
      ]
    },
    {
      "cell_type": "code",
      "execution_count": null,
      "metadata": {
        "id": "sEF-UYsGcfQO"
      },
      "outputs": [],
      "source": []
    },
    {
      "cell_type": "code",
      "execution_count": null,
      "metadata": {
        "id": "kcV8ecnlcfQO"
      },
      "outputs": [],
      "source": []
    },
    {
      "cell_type": "code",
      "execution_count": null,
      "metadata": {
        "id": "RoM6y3SicfQO"
      },
      "outputs": [],
      "source": []
    },
    {
      "cell_type": "markdown",
      "metadata": {
        "id": "nuYWGBKBcfQO"
      },
      "source": [
        "### Modelo 1 - NLTK, TF-IDF y LR"
      ]
    },
    {
      "cell_type": "markdown",
      "metadata": {
        "id": "zgoQwY4rcfQQ"
      },
      "source": [
        "TF-IDF"
      ]
    },
    {
      "cell_type": "code",
      "execution_count": 34,
      "metadata": {
        "id": "SA8Q9A9wcfQQ"
      },
      "outputs": [],
      "source": [
        "import nltk\n",
        "\n",
        "from sklearn.feature_extraction.text import TfidfVectorizer\n",
        "from sklearn.linear_model import LogisticRegression\n",
        "\n",
        "from nltk.corpus import stopwords"
      ]
    },
    {
      "cell_type": "code",
      "execution_count": 35,
      "metadata": {},
      "outputs": [
        {
          "name": "stderr",
          "output_type": "stream",
          "text": [
            "[nltk_data] Downloading package stopwords to\n",
            "[nltk_data]     C:\\Users\\roman\\AppData\\Roaming\\nltk_data...\n",
            "[nltk_data]   Package stopwords is already up-to-date!\n"
          ]
        },
        {
          "data": {
            "text/plain": [
              "True"
            ]
          },
          "execution_count": 35,
          "metadata": {},
          "output_type": "execute_result"
        }
      ],
      "source": [
        "nltk.download('stopwords')"
      ]
    },
    {
      "cell_type": "code",
      "execution_count": 38,
      "metadata": {
        "id": "88hKBTl6cfQQ"
      },
      "outputs": [
        {
          "name": "stderr",
          "output_type": "stream",
          "text": [
            "100%|██████████| 47331/47331 [00:00<00:00, 49288.51it/s]\n"
          ]
        },
        {
          "data": {
            "application/vnd.microsoft.datawrangler.viewer.v0+json": {
              "columns": [
                {
                  "name": "index",
                  "rawType": "int64",
                  "type": "integer"
                },
                {
                  "name": "review_norm",
                  "rawType": "object",
                  "type": "string"
                }
              ],
              "ref": "a6f0458a-3fc9-4e11-a978-750cc3ab480d",
              "rows": [
                [
                  "0",
                  "pakage implies warren beatty goldie hawn pulling huge bank robbery got get anything first half new character without introduction every scene first half hour completely incomprehensible rest one long annoying underlit chase scene always irritating sound background whether loud watch ticking blaring siren train whistling even horrible score quincy jones lot parts laughably bad like bad guys chasing beatty thin ice car police arriving scene roughly fifteen times really hated movie"
                ],
                [
                  "1",
                  "hell get made presenting caper comedy misbegotten essentially two hours people mumbling sentence fragments usually dependable warren beatty looks drunk usually hilarious goldie hawn acts like depressants gert frobe famous role goldfinger infinitely admirable character even guy champagne bottle lsd save litany worthlessness comparing movie plan 9 outer space thing even someone paid p9fos idiotically made ended hilarious idiotically made causes feel like brain melted ears warren beatty goldie hawn made co starred shampoo co starred dreadful town country maybe co star movies would rather skin torn watch awful maybe remake jackie chan would pay see"
                ],
                [
                  "2",
                  "real story film seems like fly wall drama documentary proper film piece may spoiler teen drama 3 young singaporean kids similar uk chavs play truant school run gangs get fights insult people street get tattoos hang nothing etc etc generally imagine hard every often shout challenging rap chants camera filmed mtv style fast cuts crazy camera angles tight close ups animation interludes dialogue might crisper original languages mandarin hokkien subtitles doubt contemporary singapore references slip western heads well cultural political context unless course familiar singapore kind teen film may first singapore done done better western countries la haine 1995 example"
                ],
                [
                  "3",
                  "um serious film troubled teens singapore country much knowledge previous wrong impression kids highly disciplined controlled family government well guess wrong like cities countries also troubled teens also lead surprising rebellious way life drugs fights bad language many obvious signs bad boy surprising part film really kids running around causing others trouble rather subtle gayness hidden behind call loyalty bond brothers may well originated unconscious gay tendency inside boys though uncommon str8 guys close friendship watch film closely entering sorts gay film festivals would surprised may win lot awards toward direction"
                ],
                [
                  "4",
                  "totally agree garryjohal singapore comments film quotation yes non singaporean see big deal film references film fly right head foreign viewers mostly singaporeans ones would actually get still quite truth malaysian chinese get although speak hokkien similar problems malaysia know really hard understand accept reality definitely real story pleased see film outside malaysia definitely banned malaysia means either get illegal copied vcds dvds hope someone kind enough share internet another violent teen drama portrays reality exists singapore malaysia interesting way sad humour little sad know film got 20 cuts censorship waste"
                ],
                [
                  "5",
                  "first movie seen singapore great know lot asia languages culture film may bit confusing non informed people asian american double majoring two asian languages one mandarin taken asian american studies classes film easier understand even without kind knowledge believe movie still accessible foreign audiences long keep mind coming age type movie film definitely worth seeing get chance see kind issues singapore young teenage boys struggling deal awesome coming age movie filmed shown artistic original way actors outstanding"
                ],
                [
                  "6",
                  "yes non singaporean see big deal film references film fly right head foreign viewers mostly singaporeans ones would actually get plead foreigner look crap churned singapore compare film like comparing mule diarhhoea chunks little diamond film first truly show singapore seedy underbelly something forces pretend exist part film gangster ah beng unique colloquial ingris curses 4 languages namely tamil english malay hokkien well truth us time sad thing viewers foreign contries easier time getting oily little claws gem country origin banned initially given r rating 20 cuts nice know one best creative edgy original films ever created would easier obtain unadulterated uncensored halfway across world nation"
                ],
                [
                  "7",
                  "true story carlson raiders army training film anything else obviously thrown together quickly miniscule budget thing recommend early performance robert mitchum decent actor cast actual footage wreckage pearl harbor gets blood boiling obviously intended"
                ],
                [
                  "8",
                  "titled balderdash little film true except name island fact submarines involved little training film quality poor camera work muddy stock footage perhaps low point stereotyping japs laughing japanese infantry laughing japanese fighter pilots one dimensional square jawed americans dying left right sixty years later unintentionally funny odd artifact opportunity see possible war fever upon plot dialogue remind playing guns summer afternoon childhood peering neighbor hedge gain fatal advantage best friend steve little brother actual fact makin island raid near total failure carlson men wandering around dark exchanging gunfire shadows finally thirsty completely disoriented looking someone surrender happened upon equally confused japanese soldiers promptly surrendered withdrawal several carlson marines ended another island abandoned film course tell story 1943 bit whimsy fabricated rushed release beating drums randolph scott jaw colonel thorwald carlson leading unit comprised almost entirely stock caricatures green recruit harry landon robert mitchum grizzled veteran j carroll naish milburn stone sam levene country bumpkin rod cameron american boy alan curtis scores sneering laughing japs yet cast nearly overcomes material almost randolph scott narrow range well suited role earnest commander supported solid group professionals best thin gruel end one note object exercise wins pretense totally abandoned close randy scott simply looks directly camera delivers stirring well sorta stirring call arms cast better material audience viewed reefer madness bottle moderately priced merlot"
                ],
                [
                  "9",
                  "movie gung ho story carlson makin island raiders made 1943 view go moral american people duration second world war shows better way cinema constitute body propaganda value film collection artistic film propaganda useless judge direction actors watch movie interested learn propaganda functions movies big fun robert mitchum small role film want see film second world war exist much better objective rated 4 10"
                ],
                [
                  "10",
                  "reading reviews became obvious everyone intellectualized work utterly boring oh good ol days nothing like comments one expressed emotion work grew end steam age cinematic gem along dan l boone graced saturday afternoon matin es annual movie made rounds filled seats gabbing yapping farting giggling snot monsters like self movie theatre filler time almost big wizard oz imdb insists every critique contains something plot problem rather template goes randolph scott cowboy hero gathers friends goes defeats evil people hooray us kids figured plot plunked quarter watch plot line every scott john wayne roy rogers film ever made take time go back review every movie ask surprises one must remember context times little tv none kids school great outdoors toy guns cyber time steam age collapsed movies provided entertainment filled imaginations young whippersnappers even girls got movie entertainment mindless anything produced today purpose originally propaganda quickly came kids movies fathers experienced real thing sam peckinpah decade later finally lavished red splashes imitation blood realistic copious quantities directorship anyone die slowly great pain miserably peckinpah war gun fights rather bloodless affair thanks sam see movie little blood adults mind tolerated think guts spraying shattering plant life movie glory none gory gung ho suitable kids see assigned four rating would well terrible movie matter love love movie brought back one happier moments childhood good movie quality terms basically gung ho transitted become romance novel children people watch course saying stay away realistically however plot simple characters shallow shoals love bad movie"
                ],
                [
                  "11",
                  "whole movie seemed suffer poor editing every scene seemed take forever unfold felt like waited long time little happen guess missed whole point movie either one"
                ],
                [
                  "12",
                  "know happened director abel ferrara ever since body snatchers remake seems lost king new york bad lieutenant remain two best films 90s searing indictments decade gone wrong films like r xmas whatever means new rose hotel seems determined disgust bore former supporters film life gets excellent performances actors projects result mishmash ideas jell whatever point new breed drug dealer less upper middle class new yawkuh gets lost mind numbing script boring direction saw opening night 4 plex downtown l lobby buying tickets surprised delighted see filled large racially mixed group men women twenties thirties started theater theater featuring 8 mile r xmas theater showing r xmas keep mind opening night total 4 people watching wife two others way go abel 2 10"
                ],
                [
                  "13",
                  "r xmas peers lives middle class married kid family narco distributors christmas holiday season story disjointed collection events ferrara seems get juxtaposition holidays home life narcotics peddling nyc jumping back forth players appear improv ing adlibing making unconvincing watch overall poor effort worth time"
                ],
                [
                  "14",
                  "good actors good director well acted well directed movie script improvised least short length movie 80 minutes including credits nothing seems happen film nothing couple small time drug dealers caught small time troubles never get clue happening even talking sequences movie tons f motherf nothing else people love abel ferrara films funeral r xmas going big disappointment thinking really think good movie made"
                ],
                [
                  "15",
                  "caught north american premiere chicago international film festival beyond disappointed mood audience one film takes long time get conflict refuses resolve opting instead tell us story continued spoiler reveal movie ending consider warning best half movie good half"
                ],
                [
                  "16",
                  "whole movie done half assed could much better movie would required write different actors compared traffic wreck glad pay spoiler point crooked cops getting arrested share guilt drug dealers make feel better pu leaze parents scum driven greed even consider harm pointed ice 2 10"
                ],
                [
                  "17",
                  "new york morning close christmas upper class father mother go bmw private school see play daughter go shopping later return fancy apartment manhattan night move simple apartment dangerous neighborhood prepare drugs distribution christmas eve buying christmas gift daughter father kidnapped wife desperately tries raise high amount money pay requested ransom r xmas deceptive movie abel ferrara lead characters names anonymous maybe intention tell breast neighbor family building may drug dealers drug dealers may also families may loving persons many dirty cops probably worse criminals simple apology crime whatever however humanization criminals horrible message really like movie brazil example many drug dealers criminals help communities due absence state poor areas slums procedure make model citizen movie see loving upper class family day providing drugs means living destruction members families shown story impossible feel sympathy characters end wished dead vote four title brazil gangues gueto gangs ghetto"
                ],
                [
                  "18",
                  "r xmas one films seen almost say simply nothing happens felt though watched drug dealing middle class couple child walk around eat smoke converse excuse swear film believe missing point think film well directed well acted although husband performance rather wooden constant feeling impending doom around every corner certainly kept viewer involved dust clears left zero boat load fade outs want car chases gun violence beatings etc fact sick violence goodness let least get bit deeper characters let get know corrupt officers little better show glancing shots street thugs dialogue juvenile everyone spoke junior high believe even side human race say something fu sh etc pacing storyline r xmas found quite interesting execution plain simple empty 4 10"
                ],
                [
                  "19",
                  "seen foxy brown coffy friday foster bucktown black mama white mama pam grier worst movie poor acting bad script boring action scenes nothing avoid rent friday foster coffy foxy brown instead"
                ],
                [
                  "20",
                  "really tried movie work action scenes dull acting surprisingly poor characters stereotypical even funny pam grier tries nothing work even considerable talent cannot prevent disaster even standards weak genre film pretty bad"
                ],
                [
                  "21",
                  "pam grier made coffy 1973 exciting though flawed film plot gritty satisfying even acting often amateurish successful american international pictures decided rehash formula following year foxy brown bad film certainly almost like coffy ii year later studio apparently given creating anything new ms grier sheba baby essentially plot coffy foxy brown yet idea recycled acting acting tired low energy really scraping bottom blaxploitation barrel exactly like films sheba baby begins local black mobsters pressuring eventually killing someone pam grier loves past drug dealers pimps mobsters trying run loan companies pawn shops town corner market like films pam one woman hit squad dispensing justice good butt whoopin like films cat fight pam white lady right front mr big like films mr big white guy pulling strings like films captured mr big like films immediately kill gives ample opportunity escape leaving knife conveniently lying around like films eventually gets free kills jive formula seem interesting 1973 film frankly predictable bore even seen films still bad action slow punching kicking seemed slow staged could said gun play one scene four guys machine guns ar 15 shotguns attack pam responds opening fire 357 revolver killing 3 4 getting surrender even good shot rather slow guys seemed wait killed plus even world champion shooter rambo succeeded one sided odds guys impressive weapons already pointed cleverly whipped pistol easily dispatched professional hit men addition slow lame action scenes compared blaxpoitation film movie many logical gaps show writing terrible studio care one case boyfriend williams knew yacht nu tronic end film pam never told know another cops approach boat filled hoods hood immediately open fire however cops evidence anything happening crooks began firing little provocation crooks 30 caliber machine guns amazingly powerful weapons many cases killed cops wielding snub nosed 38s bottom line great example done whole lot better love blaxploitation films one dopey slow merit watching except devoted fans genre"
                ],
                [
                  "22",
                  "sheba shayne pam grier receives telegram informing father may trouble sheba private investigator former cop goes father aid someone stop nothing run father business attempt show muscle goes awry sheba father gunned cold blood guys messed wrong woman describe sheba baby best come pam grier lite really bad acting pam grier film sheba baby incredibly tame nowhere near violent earlier films gone top images pam placing small revolver razor blades afro pilot urville martin crew hold candle real villains pam faced previous movies strictly numbers almost made tv feel bad acting baddies pam faces unnatural sounding delivery seen result characters like pilot come across threatening need movie work say moments elements sheba baby enjoy pam wetsuit pam brandishing spear gun compared pam films like coffy foxy brown even friday foster movie fails one final observation maybe sensitive things post 9 11 remember time even security lax 70s could take suitcase full guns airplane sheba flies father aid got arsenal packed luggage"
                ],
                [
                  "23",
                  "average blaxpoitation action melodrama lovely ms grier plays private eye comes aid father rudy challenger partner austin stoker original assault precinct 13 whose loan business threatened frank agree user comments movie sheba baby less satisfying script direction particularly distinguished action scenes moderately entertaining best one ms grier nondescript supporting casts although important supporting role urville martin also familiar name blaxpoitation get feeling routine movie may put together quickly merely cash enormous popularity sure cool seeing stoker although ms grier good role dialog films although best playing sassy sexy sister mission vengeance non stop soul funk soundtrack enjoyable least mostly recommended wish see everything pam grier film repertoire 4 10"
                ],
                [
                  "24",
                  "anything william girdler opportunist wanted piece action regards whatever popular time mean blaxploitation flick louisville kentucky would thunk imagine enthusiasm must getting pam grier quite hot item star picture pretty familiar genre girdler sheba baby necessarily stray far formula despite change venue film still deals ruthless businessman nicknamed shark muscles loan companies using stooges threaten order get signatures grier sheba shayne former louisville cop working chicago returns home request father partner brick austin stoker assault precinct 13 sheba father despite shark bullying tactics man town pilot wannabe gangster equipped stooges menacing rather buffoonish nature thin skinned hire hit men outside town shoot shayne loan building give company eventually costs life warning use brute force leads killed sheba get revenge responsible father death words shark ass grass dig seeing grier magnum enough sell particular film novelty setting louisville part package even get see speedboat chase grier shootouts gangsters necessarily polished kind one might accustomed seeing chicago new york period blaxploitation lots blood spurting bullet riddled bodies torn apart gun fire colorful characters wimpy loan shark pimp dress named walker pilot one least scary mobsters likely see show film misfortune coming contact angry sheba plot nothing special grier always worth watching girdler orchestrates plenty action sequences keep target audience entertained modest success girdler one accomplished films"
                ],
                [
                  "25",
                  "pistol packing pam grier takes names kicks butt heroine asylum satan director william girdler entertaining blaxploitation actioneer sheba baby co starring urville martin austin stoker sheba baby one several tough chick flicks grier appeared 1970s including coffy foxy brown friday foster short lived girdler co wrote thoroughly routine private eye potboiler producer david shelton one night features headstrong female shamus refuses rely man help take care business unfortunately sheba baby nearly good blaxploitation movies grier made supervision director jack hill hill helmed african american north carolina native coffy foxy brown big bird cage big doll house anybody analyzes images african american women cinema familiar epics chief problem sheba baby heroine gets many convenient breaks naturally secondary villains trigger happy clowns hit side barn howitzer main antagonist dick merrifield qualifies egotistical well smarmy villain choice lines like anything worth worth stealing additionally composer monk huggins provide strong atmospheric orchestral soundtrack best song barbara mason warbling good man gone sheba baby casts grier stylist chicago gumshoe sheba shayne leaves windy city return hometown louisville kentucky help father arrives louisville sheba learns father andy rudy challenger detroit 9000 trouble local black gangster nicknamed pilot cigar chomping urville martin hammer demands andy sell loan company pilot die initially pilot dispatches goon squad trash andy office heroine father catches act turn sheba father punching bag interestingly fight scene girdler rarely shows fists smashing flesh earlier andy right hand man brick williams austin stoker horror high sent sheba telegram requesting return louisville receive immediately thanks lazy partner know find brick sheba hook rekindle romantic flames share night sack brick spends time urging sheba remain calm face adversity former louisville kentucky police woman sheba prefers shoot first ask questions second arrives home sheba borrows father car barely escapes blown bits walking door get father car andy receives another harassing call pilot previously andy refused discuss prospect selling loan company pilot andy changes mind agrees talk hoodlum gratified pilot warns andy dynamite attached ignition delayed action fuse words cranking car trigger explosion explosion comes ten seconds later andy brick rescue sheba car blows earlier sheba agreed let father handle problems without interference dad know think man job going sit sidelines woman sheba tells near death experience sheba vows learn sabotaged father car grilles old contact days cop threatens guy gun extract information sheba ground guy face bucket chlorine dust relent tell pay town railroad museum brick accompanies sheba shooting ensues flustered pilot getting away skin chin later pilot sends quintet town contract thugs armed teeth trash andy office gunsels ignore kill orders shoot loan company office ribbons also blast sheba dad shotgun sheba retaliates short order wielding nickel plated revolver guns three four assailants dirty harry style last hit man discards weapon pleads mercy sheba finger trigger homicide detective phil jackson charles kissinger abby uniform cop arrive scene hospital andy shayne dies holding daughter hand naturally pilot furious revelation fury borders apoplexy afterward sheba tracks loan shark walker christopher joy cleopatra jones pries information pilot holds gunpoint car wash one better staged scenes lots ominous shots car wash equipment whirling humming walker warns pilot sheba pilot henchmen confront sheba parking lot swap lead sheba flees foot nearby carnival police corner one pilot men deals others pilot shoots one accidentally sheba runs pins pilot roller coaster track threatens hold roller coaster cuts head pilot manages escape spilled guts sheba identity phone number big man shark dick merrifield hellcats whose reputation immaculate detective jackson describes guy right answers sheba baby top notch pam grier however idea heroine handle everything without help guys makes interesting well entertaining chick flick"
                ],
                [
                  "26",
                  "sheba baby always underrated likely pg rating instead usual r rating grier movie gets pg means pam take top takes top every movie though exciting coffy action takes slow time screen thrills started like dolemite urville martin heavy trying get sheba father wages one woman war martin gang cronies best scene stupid pimp car still laughing thought would stupid pg rating wrong replaces sex violence blaxplotation film good"
                ],
                [
                  "27",
                  "sheba baby another pam grier blaxploitation film one pam less visceral films genre pam plays sheba shane chicago gumshoe sheba father owner small loan company missouri local mobsters try run father business sheba goes bad guys pam grier already made mark blaxploitation films time sheba baby came along fans coffy foxy brown know pam capable explosive intensity actress sheba baby fiery performance viewers come expect pam evident film pam kick butt sheba baby much runaway train vigilante previous blaxploitation films supporting cast film distinct disappointment sheba baby pam film though pam bit subdued films still gives compelling performance sheba baby film definitely worth time ardent pam grier fan"
                ],
                [
                  "28",
                  "yeah guess movie kinda dull compared pam grier films plot overly familiar dialog stilted acting good worth seeing lengthy stretch near end film see ms grier sexy blue wetsuit zipper half unzipped yeah seems like frivolous point discussing actress pam grier talent also happens extremely gorgeous woman back day body quit nice see showcased tight wetsuit rent dvd tell wrong know right yes really give 10 wetsuit scenes"
                ],
                [
                  "29",
                  "til one worst films ever seen fails every respect jeanne tripplehorn better actress waterworld comparison film dungworld character stumbles even twice course film one understand jeanne character falls trips stumbles often might bit jerry lewis defence prat fall probably blocked choreographed rehearsed rehearsed although bad enough film actors dylan mcdermott jeanne tripplehorn seem spend plot going smoke trying find place smoke film diatribe place smoke ok however long film runs long 10 minutes past running time oh jeanne tripplehorn almost acts public forum meeting almost see break life character oh almost convincing scene yelling michael douglas basic instinct hmm second thought really film avoid costs unless need cigarette trapped nicotine addicts anonymous forced watch outtakes hooper burt reynolds even toss coin go sleep"
                ],
                [
                  "30",
                  "beginning til right track setting big finish would come together thing found ending extremely disappointing maybe someway right ending little realistic could say judge"
                ],
                [
                  "31",
                  "film weird annoying characters strange unexplainable slapstick insurmountable amount dialogue smoking movie contrived plot bitchy empty headed woman jeanne tripplehorn search love although would ever like jeanne character personality reading dialogue really cannot say except likes smoke sarah jessica parker gives interesting character performance likes smoke dylan mcdermott best look pretty soulful smokes hey jennifer aniston oh really enough anyone care likes smoke waste anyone time even know able sit much movie even believe spent time write except warn others banality anyone need cigarette"
                ],
                [
                  "32",
                  "spoilers night mother story jesse sissy spacek divorced epileptic woman calmly announces brash mother anne bancroft going commit suicide fascinating premise drained vitality excitement brilliant hook turns cheat story follows lacking substance gravity revelatory value shocks surprises mother daughter may last conversation lives secrets revealed confessions fantasies regrets painted dull color keeps emotion background celebrates genius playwright marsha norman expense everything else result film exhausting endurance test let preface comments saying find sissy spacek one greatest actresses history motion pictures woman magnetic natural continues surprise amaze twenty years stardom brings touch class magic everything seen rescue one film recycling bin angelic face vulnerable eyes soft voice sweet smile great spacek watched film first place one movies terrible fail significant way film fails two first foremost film adapted faithfully pulitzer winning stage play claustrophobic repetitive entire movie two woman dialogue jesse mother worked stage middle aged mother daughter argue two hours small house dies film play matter great needs adapted screen self indulgent arrogant believe dialogue perfect word altered screenplay film could shortened thirty forty pages knowing screenwriter would given brilliant spacek competent bancroft physical sequences facial reactions something break wall wall yak fest prison like single set wonder screenplay adapted original playwright marsha norman may know theater reveals clueless film cannot emphasize effect stage play script film watching jesse mother argue jesse impending suicide redundant dull women walk living room kitchen den back living room start tiny midwestern house ideal location single set film director never tries anything clever original never tries break monotony exterior shot cutaway flashback anything music characters stories two women covering couch cushions arguing opinions reverence given play sickening even shakespeare solemn classics get shaken screen commitment original play seems almost spiteful film made document dramatic treasure stage play audience afterthought reason film fails anne bancroft may good stage actress film presence 80 performance rarely seems fit certainly fit playing midwestern grandmother looking like mrs robinson morning coffee chases jesse around house looking aggravated astounded seems extraordinarily unsympathetic even lines convey loving flawed woman sissy spacek great always honest open good actually understand agree character choice sissy lets us see jesse flat tire wrong turn woman every bad break made many wrong choices never control life suicide way finally saying get puts anyway spacek speaks listen proves films good actress behave like man bluff bravado borrowed testosterone films like coal miner daughter quietly demonstrates soft strength quiet depth impressive hypnotic help fall love hard watch night mother spacek wasted stilted stunt film never serves engage even distract would recommend movie anyone except die hard fans sissy like even disappointed give film entire letter grade bonus ending courageous enough let lead character right pander hackneyed happy ending grade c"
                ],
                [
                  "33",
                  "privilege seeing powerful play broadway kathy bates lead saw one play 1970 1990 emotional impact like play really looked forward play made movie disappointed learned kathy bates reprise role film well known broadway time producers must wanted star power suppose cast sissy spacek instead sissy adequate job lead role measure kathy bates way love anne bancroft seemed young role movie plot true play anyone ever contemplates suicide watch movie realize devastation left behind"
                ],
                [
                  "34",
                  "rented movie local library without prior knowledge book based movie purely based chance one rare overlooked gems one discover time time really enjoy unfortunately one movies sure movie driven sentimentality worse deliberate agenda certain elements made impossible immerse supposed portray struggling immigrant worker community tries cope difficult realities life fine premise could made gripping story execution made alternate getting annoyed amused ridiculousness community simple farm workers migrated us search employment get used abused repeatedly evil white men say evil mean evil white people movie sinful racist sadistic abusive devils whose sole purpose life sexual depravity intertwined exploiting poor immigrants would sad story unintentionally grotesque therefore hilarious portrayal immigrants also poster worthy example exaggeration except goes opposite direction immigrants saintly clean could serve ointment boo boos ouies world help laugh saw field workers presumably digging ditches day notoriously clean clothes chiseled hair cuts top notch hair salon little restraint unbiased hand helm could made much better movie evoking intended emotion rather sarcastic snickers"
                ],
                [
                  "35",
                  "movie earth swallow based book tomas rivera eye opening movie people talks exploitation migrant farmworkers go order survive sergio perez uses impressionistic techniques depict rivera story uses sienna gray scale effects depict scenes uses specific photographic techniques make scenes look like took place 1950s perez also gives life film using time appropriate music including balladeering guitar playing feel good film view shows detail migrant farmworkers live entertainment beliefs"
                ],
                [
                  "36",
                  "moved young life experiences man rose high academic world hard life surrounded love close family extended family companion workers created person able succeed world part hispanic culture shown always observed admired hardworking optimistic truly family oriented points religious superstition quite authentic catholic church without doubt actress played mother deserves academy award prayers missing son moved tears recommend stunningly thoughtful film friends family"
                ],
                [
                  "37",
                  "recently finally available dvd 11 11 08 severo p rez film earth swallow 1994 based one highly regarded discussed novels chicano literature tom rivera se lo trag la tierra earth devour 1972 still generally acknowledged many critics serious readers classic chicano novel originally written spanish characteristic south texas also translated english rivera novel continues indispensable presence within chicano literary landscape perez film originally made highly rated american playhouse pbs production taken time released dvd one wonder matter high quality issue film dvd however remains far know cinematic adaptation chicano novel clearly tribute earth incredible staying power cinematic version also strikes exceptionally deep rooted nerve maintain specifically ethnic yet also generally universal doubts earth perhaps might arisen ethnic alien basic american mainstream much foreign art indie limited economic resources yet perez version art opinion connects effectively artistically creates sharply etched portrayal chicano migrant collectivity focuses daily family life far production done relatively limited economic resources lovely cinematographic work haunting music go much beyond available funding simply viewing film makes manifest film dvd artistic value briefly earth swallow portrays neo naturalistic way plight suffering despair chicano migrant laborers follow crops northward south texas minnesota 1952 local priests bless beat overstuffed vehicles chicano laborers longer find work area must follow agricultural trail migrant worker northward chicano collectivity like depression era joads steinbeck grapes wrath forms epic tide driven economic need survival instinct anguished despair ultimately barely flickering faith tribute people earth collective hero dvd centered focal family especially emblematic young protagonist within family boy perhaps twelve work also functions bildungsroman ultimately viewer sense identification generated experiences subjectivity struggles protagonist poverty alienation child labor illness sunstroke pregnancy death discrimination school absenteeism boy escapism bullies discrimination spent lying lovely peaceful cemetery laid bare matter fact yet also symbolically worse still problematic conflict youngster mother goes beyond socio economics political conflict deeper realms psychology metaphysics desperate artistically rendered struggle youth battles mother archetypical mexican american traditionalist representative god content prayer resignation consolation acceptance rebellious youth cannot believe god would permit evil suffering visited upon god cruel asks since little sister certainly purely innocent come serious illness fields point boy must overcome obstacles even daunting poverty discrimination issues include death doubt despair lack meaning resources available strength character power intelligence powerful survival instinct desperate artistically rendered struggle unnamed youngster central figure feels necessity enduring achieving heightened sense meaning viewer hopes renewed strengthened life force serve inspiration chicanos others stark battle makes use plot device touched original work tie episodic work together missing immigrant laborers mexico leave trace upon death although dvd deals mexican mexican american migrant laborers highly existential work anguish despair quest focus project redemption auspices free spite deterministic socio economic religious circumstances perez long list credits basically documentary filmmaker many awards confirmatory producer paul espinosa also well known likewise honored work 1994 film fact deserved number awards first place audience favorite santa barbara film festival 1995 first place cairo film festival number well deserved awards opinion film dvd earth perez best chicano film made"
                ],
                [
                  "38",
                  "know episode stuff apart going discuss fact think virtues example fact given negative opinion jin seeing sun flashbacks house rising sun get see jin side things get new balanced understanding life element story made deeply uncomfortable greatly dampened enjoyment whole episode scene jin appeared blood hands shirt hinted sun father someone getting rich shady illegal methods thought maybe mob boss even mobs operate korea like almost every country world reasonable possibility however episode learn sun father fact boss top executive korean automotive company jin physically attacking government official actually going murdered behalf may especially touchy happen work automotive industry would say spectacularly offensive racist even suggest kind thing goes korea huge serious companies like hyundai kia must model fictitious car company ones actually exist reality operate mafia like methods instead like normal automotive company west unbelievable writers would gall write something like story uproar korea feels like extraneous buy american propaganda portraying foreign car companies criminal untrustworthy third world outfits"
                ],
                [
                  "39",
                  "sorry cannot even partly agree comments awful piece sh english native language german citizen please blame inappropriate grammar structures something gg cannot understand movie got high rating 6 3 kidding movie completely sense even seem good acting looked comments da vinci code think nearly rating bang head table watched 00 schneider directly sakrileg oh god worlds majority posters board tears every hyped movie pieces rating crime movie making 6 3 denominates helge genius course knows make money think main aspect opinions fact german native language ignore rather notice bunch crap said sentences ok must confess scenes funny 6 3 much compatriot"
                ],
                [
                  "40",
                  "consider movie one interesting funny movies time much highly intelligent thoughts anybody thinks movie awful get able recognize really deep philosophical themes 3 schneider movies without doubt several universities germany throughout europe made studies schneider way seeing things way helge schneider intelligent sensitive person jazz musicions germany maybe europe mostly inspired great davis monk like ok please try convince others might stupid cheap boring funny face opinion discussion willing really look art h schneider would surrender"
                ],
                [
                  "41",
                  "helges best movie far funny surrealistic bunuel made movie starring buster keaton krusty clown would look like brilliant performances cast already know schneider movies especially helmut k rschgen sidekick 00schneider andreas kunze plays wife one bit annoying though course helge nihil baxter absolutely incredible p movie proper merchandising would really like buy replica holz ist painting"
                ],
                [
                  "42",
                  "phenomenon helge schneider defies easy description quick categorization yet international audience acquainted one could say something like crude mix weird al yankovich andy kaufman adding foible jazz music 70s outfits stage performances already eccentric movie works simply hilariously outrageous 00 schneider opinion helge best movie stars two leading roles police detective kommissar 00 schneider murderer villain nihil baxter also precious smaller role physician dr hasenbein opening scene see modern art loving baxter accidentally kills circus clown bratislav metulskie bought malfunctioning used jaguar beloved sculpture slips baxter hands fatally hitting metulskie upon reading incident newspaper 00 comes back retirement investigate case support loyal sidekick lt koerschgen played elderly actor bearing name pick baxter track quickly interrogate weirdly decorated mansion one movie best scenes initially fail gather proof story winds many turns several scenes always really contribute progress plot hilariously funny daydream 00 including unusual view running man brief clad crotch movie history police department party koerschgen gets row chief hospitalized visit already mentioned dr hasenbein baxter finally caught attempting escape rio de janeiro plane always worth special mention andreas kunze case plays 00 wife usually appearing drag performing women roles helge movies folks looking new laughs strongly recommend movie catch understand german doubt english version around"
                ],
                [
                  "43",
                  "watching movie came script movie called making 10 items less producer got good news bad news good news get morgan freeman writer great bad news producer afford hire one day guess get someone else writer hire one day movie hour half long work day eight hours long fail see problem producer spend time getting character writer play character essentially producer still need understand motivation saying play big name actor low budget movie writer producer ridiculous fine least morgan freeman movie guess set movie los angeles writer course producer script load crap better make money case morgan freeman character plug wal mart target one stores least someone want sell dvds writer sure thing producer wait second tiny bodega ten items less express lane writer oh guess pretty weird change title doubt script actually bears much resemblance reality neither 10 items less case good acting bad writing hate see happen watching independent movie expect try convey sort message think might trying tired old let anything hold back message done death much better films case 10 items less message got look look morgan freeman"
                ],
                [
                  "44",
                  "love morgan freeman paz vega attractive appealing talented actress sure would good movie anything happened nothing short less 90 minutes 75 minutes long hour frustration scanned remaining 20 odd minutes excruciating freeman plays actor worked researching part might play checkout clerk supermarket visits supermarket works nothing happens decides give ride home go arby target car wash nothing happens converse lives nothing happens ever get also get bill murray flicks lost translation broken flowers like movies maybe like lots people find movies like whimsical charming reasons escape find dialog fascinating common device movies ilk long take stillness silence actor delivers line supposed meaningful know meaningful followed two minutes nothing screen sorry must philistine get kinds movies funny charming thought provoking boring comedy drama tension laughs suspense action nothing watch short none things go movies bored free see oddball quirky characters real life go target fast food restaurants car washes elements movie make even stars stuff pay entertained crazy morgan freeman like hear ramble nothing fun wanna drool paz vega look listen nothing happens promise total snoozefest"
                ],
                [
                  "45",
                  "watched movie came imdb read reviews compared lost translation lite read immediately could see reviewers point movie poor attempt similar theme interestingly format movie nearly identical pacing incredibly different 10 items rushes viewer 1 day time line movie whereas better planned lost seems stretch long days sure people see morgan freeman disappointed seems better roles days supporting roles big blockbusters rather leading roles sub 10mil limited release movies indie films"
                ],
                [
                  "46",
                  "really spoilers opinion wanted cover nevertheless executive producer morgan freeman wants audience ignore numerous absurdities character 10 items less movie intentional indie feel absorbed mentor theme plays alternate universe semi washed version real morgan freeman chauffeured old econovan kid way carson ca brentwood research next movie role carson mystery cal residents could saved trip gone anywhere san fernando valley found elements paz vega pretty watch cross salma hayek penelope cruz playing disgruntled grocery checker large slow local market apparently ultimate source moragn freeman research character known allude actors regarded encountered real life average people psst etc unfortunately distracted kinds worldly wisdom advice reliable return back home brentwood carried cash debit card wisdom keep cell phone one high opinion self believe possess answer everything like gotta see cash blackberry displays intelligence good survival instincts preserve big ego definitely nothing really happens movie believe either main character substantially changed encounter flirts idea adultery thought fizzles similar steve martin shopgirl without sexual affair self indulgent freeman unconvincing audience"
                ],
                [
                  "47",
                  "still famous decadent actor morgan freeman filmed four years invited participate new project asks clumsy cousin director drop poor latin neighborhood carlson research work manager small supermarket sees gorgeous spanish cashier scarlet paz vega becomes attracted ability driver never returns catch scarlet gives ride actor first job interview position secretary construction company actor helps prepared spend afternoon together pleasant time big fan morgan freeman paz vega however pointless 10 items less absolutely disappointing low budget movie seem storyline supported chemistry improvisations morgan freeman paz vega actually nothing happens along 82 minutes ambiguous open conclusion simply ridiculous character morgan freeman returning silver spoon world telling simple worker would never see afraid love affair destroy perfect world family clash classes realizes fancy neighborhood would adequate simple worker lower classes vote four title brazil um astro em minha vida star life"
                ],
                [
                  "48",
                  "movie great first time saw called lost translation somehow bill murray turned eccentric black man played morgan freeman scarlett johansson turned cranky latino woman played paz vega tokyo japan turned carson california instead meaningful conversations silence enjoyed translation get meaningless blabbering 10 items verges annoying instead characters pensive introspective translation get characters spew pointless advice topics clue character wears hundred dollar shirts never inside target department store expect give advice working class woman prepare job interview administrative assistant think stops giving clothing advice telling eat annoying part movie supposedly hurry make appointment yet characters keep finding time run another errand washing car stopping arby laying around list 10 items less lists things love hate kept wanting yell saying say somewhere heck minute ago practically late eating roast beef pondering lives saw movie never truly understood something could insist upon think movie exactly undeservedly dialogue makes characters cheesy unsympathetic exception felt sorry actors signed onto project"
                ],
                [
                  "49",
                  "high expectations indie perused many thumbs reviews additional two cents already posted excellent lost translation review premise morgan stuck dusty small town meets lovely scarlet working local supermarket morgan help elevate lovely scarlet trailer trash life realistic dialog shopping target first freeman looks target interior walked harrods bowled shirt rack confirming never store visited lovely scarlet morgan detached aspects scarlet reality portrayed gleeful ignorance everyone everything scarlet life one reviewer enjoyed scarlet ex hubby fight scene survival car instance requires physically attack ex hubbie freeman run defense naw cowering disbelief totally incapable dealing blunt aspect real sorry lot life freeman character believes car wash new revealing tight fitting blouse key scarlet job interview another sign freeman clueless freeman endless stage talk aspects scarlet reality reduced one another stage related freeman experience irritating freeman right emphasize scarlet young future ahead conveniently ignores brick walls faces vis vis uneducated white collar skills experience poor family support lifetime low self esteem scarlet learns life lessons freeman people pay 100 shirt revealing blouse may open doors lieu lack education white collar job skills end freeman offers scarlet little strange diversion star even paying gas scarlet dead night return unchanged life town name freeman cares know"
                ]
              ],
              "shape": {
                "columns": 1,
                "rows": 47331
              }
            },
            "text/plain": [
              "0        pakage implies warren beatty goldie hawn pulli...\n",
              "1        hell get made presenting caper comedy misbegot...\n",
              "2        real story film seems like fly wall drama docu...\n",
              "3        um serious film troubled teens singapore count...\n",
              "4        totally agree garryjohal singapore comments fi...\n",
              "                               ...                        \n",
              "47326    another favorite columbos sports top notch cas...\n",
              "47327    talk boring got expecting fascinating insight ...\n",
              "47328    never thought say biopic near abundance charac...\n",
              "47329    spirit chaos artistic biopic miyazawa kenji ja...\n",
              "47330    make brief joy watch may may effective charact...\n",
              "Name: review_norm, Length: 47331, dtype: object"
            ]
          },
          "execution_count": 38,
          "metadata": {},
          "output_type": "execute_result"
        }
      ],
      "source": [
        "\n",
        "STOPWORDS = set(stopwords.words('english'))\n",
        "\n",
        "df_reviews['review_norm'] = df_reviews['review_norm'].progress_apply(lambda x: ' '.join([word for word in x.split() if word not in STOPWORDS])) \n",
        "df_reviews['review_norm']"
      ]
    },
    {
      "cell_type": "code",
      "execution_count": 41,
      "metadata": {
        "id": "ujWoCzbwcfQQ"
      },
      "outputs": [
        {
          "data": {
            "text/plain": [
              "((23796, 72697), (23535, 72697))"
            ]
          },
          "execution_count": 41,
          "metadata": {},
          "output_type": "execute_result"
        }
      ],
      "source": [
        "count_tf_idf = TfidfVectorizer(stop_words=list(STOPWORDS))\n",
        "X_train_tf_idf = count_tf_idf.fit_transform(df_reviews_train['review_norm'])\n",
        "X_test_tf_idf = count_tf_idf.transform(df_reviews_test['review_norm'])  \n",
        "X_train_tf_idf.shape, X_test_tf_idf.shape\n",
        "\n"
      ]
    },
    {
      "cell_type": "code",
      "execution_count": 42,
      "metadata": {},
      "outputs": [
        {
          "data": {
            "text/html": [
              "<style>#sk-container-id-1 {\n",
              "  /* Definition of color scheme common for light and dark mode */\n",
              "  --sklearn-color-text: #000;\n",
              "  --sklearn-color-text-muted: #666;\n",
              "  --sklearn-color-line: gray;\n",
              "  /* Definition of color scheme for unfitted estimators */\n",
              "  --sklearn-color-unfitted-level-0: #fff5e6;\n",
              "  --sklearn-color-unfitted-level-1: #f6e4d2;\n",
              "  --sklearn-color-unfitted-level-2: #ffe0b3;\n",
              "  --sklearn-color-unfitted-level-3: chocolate;\n",
              "  /* Definition of color scheme for fitted estimators */\n",
              "  --sklearn-color-fitted-level-0: #f0f8ff;\n",
              "  --sklearn-color-fitted-level-1: #d4ebff;\n",
              "  --sklearn-color-fitted-level-2: #b3dbfd;\n",
              "  --sklearn-color-fitted-level-3: cornflowerblue;\n",
              "\n",
              "  /* Specific color for light theme */\n",
              "  --sklearn-color-text-on-default-background: var(--sg-text-color, var(--theme-code-foreground, var(--jp-content-font-color1, black)));\n",
              "  --sklearn-color-background: var(--sg-background-color, var(--theme-background, var(--jp-layout-color0, white)));\n",
              "  --sklearn-color-border-box: var(--sg-text-color, var(--theme-code-foreground, var(--jp-content-font-color1, black)));\n",
              "  --sklearn-color-icon: #696969;\n",
              "\n",
              "  @media (prefers-color-scheme: dark) {\n",
              "    /* Redefinition of color scheme for dark theme */\n",
              "    --sklearn-color-text-on-default-background: var(--sg-text-color, var(--theme-code-foreground, var(--jp-content-font-color1, white)));\n",
              "    --sklearn-color-background: var(--sg-background-color, var(--theme-background, var(--jp-layout-color0, #111)));\n",
              "    --sklearn-color-border-box: var(--sg-text-color, var(--theme-code-foreground, var(--jp-content-font-color1, white)));\n",
              "    --sklearn-color-icon: #878787;\n",
              "  }\n",
              "}\n",
              "\n",
              "#sk-container-id-1 {\n",
              "  color: var(--sklearn-color-text);\n",
              "}\n",
              "\n",
              "#sk-container-id-1 pre {\n",
              "  padding: 0;\n",
              "}\n",
              "\n",
              "#sk-container-id-1 input.sk-hidden--visually {\n",
              "  border: 0;\n",
              "  clip: rect(1px 1px 1px 1px);\n",
              "  clip: rect(1px, 1px, 1px, 1px);\n",
              "  height: 1px;\n",
              "  margin: -1px;\n",
              "  overflow: hidden;\n",
              "  padding: 0;\n",
              "  position: absolute;\n",
              "  width: 1px;\n",
              "}\n",
              "\n",
              "#sk-container-id-1 div.sk-dashed-wrapped {\n",
              "  border: 1px dashed var(--sklearn-color-line);\n",
              "  margin: 0 0.4em 0.5em 0.4em;\n",
              "  box-sizing: border-box;\n",
              "  padding-bottom: 0.4em;\n",
              "  background-color: var(--sklearn-color-background);\n",
              "}\n",
              "\n",
              "#sk-container-id-1 div.sk-container {\n",
              "  /* jupyter's `normalize.less` sets `[hidden] { display: none; }`\n",
              "     but bootstrap.min.css set `[hidden] { display: none !important; }`\n",
              "     so we also need the `!important` here to be able to override the\n",
              "     default hidden behavior on the sphinx rendered scikit-learn.org.\n",
              "     See: https://github.com/scikit-learn/scikit-learn/issues/21755 */\n",
              "  display: inline-block !important;\n",
              "  position: relative;\n",
              "}\n",
              "\n",
              "#sk-container-id-1 div.sk-text-repr-fallback {\n",
              "  display: none;\n",
              "}\n",
              "\n",
              "div.sk-parallel-item,\n",
              "div.sk-serial,\n",
              "div.sk-item {\n",
              "  /* draw centered vertical line to link estimators */\n",
              "  background-image: linear-gradient(var(--sklearn-color-text-on-default-background), var(--sklearn-color-text-on-default-background));\n",
              "  background-size: 2px 100%;\n",
              "  background-repeat: no-repeat;\n",
              "  background-position: center center;\n",
              "}\n",
              "\n",
              "/* Parallel-specific style estimator block */\n",
              "\n",
              "#sk-container-id-1 div.sk-parallel-item::after {\n",
              "  content: \"\";\n",
              "  width: 100%;\n",
              "  border-bottom: 2px solid var(--sklearn-color-text-on-default-background);\n",
              "  flex-grow: 1;\n",
              "}\n",
              "\n",
              "#sk-container-id-1 div.sk-parallel {\n",
              "  display: flex;\n",
              "  align-items: stretch;\n",
              "  justify-content: center;\n",
              "  background-color: var(--sklearn-color-background);\n",
              "  position: relative;\n",
              "}\n",
              "\n",
              "#sk-container-id-1 div.sk-parallel-item {\n",
              "  display: flex;\n",
              "  flex-direction: column;\n",
              "}\n",
              "\n",
              "#sk-container-id-1 div.sk-parallel-item:first-child::after {\n",
              "  align-self: flex-end;\n",
              "  width: 50%;\n",
              "}\n",
              "\n",
              "#sk-container-id-1 div.sk-parallel-item:last-child::after {\n",
              "  align-self: flex-start;\n",
              "  width: 50%;\n",
              "}\n",
              "\n",
              "#sk-container-id-1 div.sk-parallel-item:only-child::after {\n",
              "  width: 0;\n",
              "}\n",
              "\n",
              "/* Serial-specific style estimator block */\n",
              "\n",
              "#sk-container-id-1 div.sk-serial {\n",
              "  display: flex;\n",
              "  flex-direction: column;\n",
              "  align-items: center;\n",
              "  background-color: var(--sklearn-color-background);\n",
              "  padding-right: 1em;\n",
              "  padding-left: 1em;\n",
              "}\n",
              "\n",
              "\n",
              "/* Toggleable style: style used for estimator/Pipeline/ColumnTransformer box that is\n",
              "clickable and can be expanded/collapsed.\n",
              "- Pipeline and ColumnTransformer use this feature and define the default style\n",
              "- Estimators will overwrite some part of the style using the `sk-estimator` class\n",
              "*/\n",
              "\n",
              "/* Pipeline and ColumnTransformer style (default) */\n",
              "\n",
              "#sk-container-id-1 div.sk-toggleable {\n",
              "  /* Default theme specific background. It is overwritten whether we have a\n",
              "  specific estimator or a Pipeline/ColumnTransformer */\n",
              "  background-color: var(--sklearn-color-background);\n",
              "}\n",
              "\n",
              "/* Toggleable label */\n",
              "#sk-container-id-1 label.sk-toggleable__label {\n",
              "  cursor: pointer;\n",
              "  display: flex;\n",
              "  width: 100%;\n",
              "  margin-bottom: 0;\n",
              "  padding: 0.5em;\n",
              "  box-sizing: border-box;\n",
              "  text-align: center;\n",
              "  align-items: start;\n",
              "  justify-content: space-between;\n",
              "  gap: 0.5em;\n",
              "}\n",
              "\n",
              "#sk-container-id-1 label.sk-toggleable__label .caption {\n",
              "  font-size: 0.6rem;\n",
              "  font-weight: lighter;\n",
              "  color: var(--sklearn-color-text-muted);\n",
              "}\n",
              "\n",
              "#sk-container-id-1 label.sk-toggleable__label-arrow:before {\n",
              "  /* Arrow on the left of the label */\n",
              "  content: \"▸\";\n",
              "  float: left;\n",
              "  margin-right: 0.25em;\n",
              "  color: var(--sklearn-color-icon);\n",
              "}\n",
              "\n",
              "#sk-container-id-1 label.sk-toggleable__label-arrow:hover:before {\n",
              "  color: var(--sklearn-color-text);\n",
              "}\n",
              "\n",
              "/* Toggleable content - dropdown */\n",
              "\n",
              "#sk-container-id-1 div.sk-toggleable__content {\n",
              "  display: none;\n",
              "  text-align: left;\n",
              "  /* unfitted */\n",
              "  background-color: var(--sklearn-color-unfitted-level-0);\n",
              "}\n",
              "\n",
              "#sk-container-id-1 div.sk-toggleable__content.fitted {\n",
              "  /* fitted */\n",
              "  background-color: var(--sklearn-color-fitted-level-0);\n",
              "}\n",
              "\n",
              "#sk-container-id-1 div.sk-toggleable__content pre {\n",
              "  margin: 0.2em;\n",
              "  border-radius: 0.25em;\n",
              "  color: var(--sklearn-color-text);\n",
              "  /* unfitted */\n",
              "  background-color: var(--sklearn-color-unfitted-level-0);\n",
              "}\n",
              "\n",
              "#sk-container-id-1 div.sk-toggleable__content.fitted pre {\n",
              "  /* unfitted */\n",
              "  background-color: var(--sklearn-color-fitted-level-0);\n",
              "}\n",
              "\n",
              "#sk-container-id-1 input.sk-toggleable__control:checked~div.sk-toggleable__content {\n",
              "  /* Expand drop-down */\n",
              "  display: block;\n",
              "  width: 100%;\n",
              "  overflow: visible;\n",
              "}\n",
              "\n",
              "#sk-container-id-1 input.sk-toggleable__control:checked~label.sk-toggleable__label-arrow:before {\n",
              "  content: \"▾\";\n",
              "}\n",
              "\n",
              "/* Pipeline/ColumnTransformer-specific style */\n",
              "\n",
              "#sk-container-id-1 div.sk-label input.sk-toggleable__control:checked~label.sk-toggleable__label {\n",
              "  color: var(--sklearn-color-text);\n",
              "  background-color: var(--sklearn-color-unfitted-level-2);\n",
              "}\n",
              "\n",
              "#sk-container-id-1 div.sk-label.fitted input.sk-toggleable__control:checked~label.sk-toggleable__label {\n",
              "  background-color: var(--sklearn-color-fitted-level-2);\n",
              "}\n",
              "\n",
              "/* Estimator-specific style */\n",
              "\n",
              "/* Colorize estimator box */\n",
              "#sk-container-id-1 div.sk-estimator input.sk-toggleable__control:checked~label.sk-toggleable__label {\n",
              "  /* unfitted */\n",
              "  background-color: var(--sklearn-color-unfitted-level-2);\n",
              "}\n",
              "\n",
              "#sk-container-id-1 div.sk-estimator.fitted input.sk-toggleable__control:checked~label.sk-toggleable__label {\n",
              "  /* fitted */\n",
              "  background-color: var(--sklearn-color-fitted-level-2);\n",
              "}\n",
              "\n",
              "#sk-container-id-1 div.sk-label label.sk-toggleable__label,\n",
              "#sk-container-id-1 div.sk-label label {\n",
              "  /* The background is the default theme color */\n",
              "  color: var(--sklearn-color-text-on-default-background);\n",
              "}\n",
              "\n",
              "/* On hover, darken the color of the background */\n",
              "#sk-container-id-1 div.sk-label:hover label.sk-toggleable__label {\n",
              "  color: var(--sklearn-color-text);\n",
              "  background-color: var(--sklearn-color-unfitted-level-2);\n",
              "}\n",
              "\n",
              "/* Label box, darken color on hover, fitted */\n",
              "#sk-container-id-1 div.sk-label.fitted:hover label.sk-toggleable__label.fitted {\n",
              "  color: var(--sklearn-color-text);\n",
              "  background-color: var(--sklearn-color-fitted-level-2);\n",
              "}\n",
              "\n",
              "/* Estimator label */\n",
              "\n",
              "#sk-container-id-1 div.sk-label label {\n",
              "  font-family: monospace;\n",
              "  font-weight: bold;\n",
              "  display: inline-block;\n",
              "  line-height: 1.2em;\n",
              "}\n",
              "\n",
              "#sk-container-id-1 div.sk-label-container {\n",
              "  text-align: center;\n",
              "}\n",
              "\n",
              "/* Estimator-specific */\n",
              "#sk-container-id-1 div.sk-estimator {\n",
              "  font-family: monospace;\n",
              "  border: 1px dotted var(--sklearn-color-border-box);\n",
              "  border-radius: 0.25em;\n",
              "  box-sizing: border-box;\n",
              "  margin-bottom: 0.5em;\n",
              "  /* unfitted */\n",
              "  background-color: var(--sklearn-color-unfitted-level-0);\n",
              "}\n",
              "\n",
              "#sk-container-id-1 div.sk-estimator.fitted {\n",
              "  /* fitted */\n",
              "  background-color: var(--sklearn-color-fitted-level-0);\n",
              "}\n",
              "\n",
              "/* on hover */\n",
              "#sk-container-id-1 div.sk-estimator:hover {\n",
              "  /* unfitted */\n",
              "  background-color: var(--sklearn-color-unfitted-level-2);\n",
              "}\n",
              "\n",
              "#sk-container-id-1 div.sk-estimator.fitted:hover {\n",
              "  /* fitted */\n",
              "  background-color: var(--sklearn-color-fitted-level-2);\n",
              "}\n",
              "\n",
              "/* Specification for estimator info (e.g. \"i\" and \"?\") */\n",
              "\n",
              "/* Common style for \"i\" and \"?\" */\n",
              "\n",
              ".sk-estimator-doc-link,\n",
              "a:link.sk-estimator-doc-link,\n",
              "a:visited.sk-estimator-doc-link {\n",
              "  float: right;\n",
              "  font-size: smaller;\n",
              "  line-height: 1em;\n",
              "  font-family: monospace;\n",
              "  background-color: var(--sklearn-color-background);\n",
              "  border-radius: 1em;\n",
              "  height: 1em;\n",
              "  width: 1em;\n",
              "  text-decoration: none !important;\n",
              "  margin-left: 0.5em;\n",
              "  text-align: center;\n",
              "  /* unfitted */\n",
              "  border: var(--sklearn-color-unfitted-level-1) 1pt solid;\n",
              "  color: var(--sklearn-color-unfitted-level-1);\n",
              "}\n",
              "\n",
              ".sk-estimator-doc-link.fitted,\n",
              "a:link.sk-estimator-doc-link.fitted,\n",
              "a:visited.sk-estimator-doc-link.fitted {\n",
              "  /* fitted */\n",
              "  border: var(--sklearn-color-fitted-level-1) 1pt solid;\n",
              "  color: var(--sklearn-color-fitted-level-1);\n",
              "}\n",
              "\n",
              "/* On hover */\n",
              "div.sk-estimator:hover .sk-estimator-doc-link:hover,\n",
              ".sk-estimator-doc-link:hover,\n",
              "div.sk-label-container:hover .sk-estimator-doc-link:hover,\n",
              ".sk-estimator-doc-link:hover {\n",
              "  /* unfitted */\n",
              "  background-color: var(--sklearn-color-unfitted-level-3);\n",
              "  color: var(--sklearn-color-background);\n",
              "  text-decoration: none;\n",
              "}\n",
              "\n",
              "div.sk-estimator.fitted:hover .sk-estimator-doc-link.fitted:hover,\n",
              ".sk-estimator-doc-link.fitted:hover,\n",
              "div.sk-label-container:hover .sk-estimator-doc-link.fitted:hover,\n",
              ".sk-estimator-doc-link.fitted:hover {\n",
              "  /* fitted */\n",
              "  background-color: var(--sklearn-color-fitted-level-3);\n",
              "  color: var(--sklearn-color-background);\n",
              "  text-decoration: none;\n",
              "}\n",
              "\n",
              "/* Span, style for the box shown on hovering the info icon */\n",
              ".sk-estimator-doc-link span {\n",
              "  display: none;\n",
              "  z-index: 9999;\n",
              "  position: relative;\n",
              "  font-weight: normal;\n",
              "  right: .2ex;\n",
              "  padding: .5ex;\n",
              "  margin: .5ex;\n",
              "  width: min-content;\n",
              "  min-width: 20ex;\n",
              "  max-width: 50ex;\n",
              "  color: var(--sklearn-color-text);\n",
              "  box-shadow: 2pt 2pt 4pt #999;\n",
              "  /* unfitted */\n",
              "  background: var(--sklearn-color-unfitted-level-0);\n",
              "  border: .5pt solid var(--sklearn-color-unfitted-level-3);\n",
              "}\n",
              "\n",
              ".sk-estimator-doc-link.fitted span {\n",
              "  /* fitted */\n",
              "  background: var(--sklearn-color-fitted-level-0);\n",
              "  border: var(--sklearn-color-fitted-level-3);\n",
              "}\n",
              "\n",
              ".sk-estimator-doc-link:hover span {\n",
              "  display: block;\n",
              "}\n",
              "\n",
              "/* \"?\"-specific style due to the `<a>` HTML tag */\n",
              "\n",
              "#sk-container-id-1 a.estimator_doc_link {\n",
              "  float: right;\n",
              "  font-size: 1rem;\n",
              "  line-height: 1em;\n",
              "  font-family: monospace;\n",
              "  background-color: var(--sklearn-color-background);\n",
              "  border-radius: 1rem;\n",
              "  height: 1rem;\n",
              "  width: 1rem;\n",
              "  text-decoration: none;\n",
              "  /* unfitted */\n",
              "  color: var(--sklearn-color-unfitted-level-1);\n",
              "  border: var(--sklearn-color-unfitted-level-1) 1pt solid;\n",
              "}\n",
              "\n",
              "#sk-container-id-1 a.estimator_doc_link.fitted {\n",
              "  /* fitted */\n",
              "  border: var(--sklearn-color-fitted-level-1) 1pt solid;\n",
              "  color: var(--sklearn-color-fitted-level-1);\n",
              "}\n",
              "\n",
              "/* On hover */\n",
              "#sk-container-id-1 a.estimator_doc_link:hover {\n",
              "  /* unfitted */\n",
              "  background-color: var(--sklearn-color-unfitted-level-3);\n",
              "  color: var(--sklearn-color-background);\n",
              "  text-decoration: none;\n",
              "}\n",
              "\n",
              "#sk-container-id-1 a.estimator_doc_link.fitted:hover {\n",
              "  /* fitted */\n",
              "  background-color: var(--sklearn-color-fitted-level-3);\n",
              "}\n",
              "\n",
              ".estimator-table summary {\n",
              "    padding: .5rem;\n",
              "    font-family: monospace;\n",
              "    cursor: pointer;\n",
              "}\n",
              "\n",
              ".estimator-table details[open] {\n",
              "    padding-left: 0.1rem;\n",
              "    padding-right: 0.1rem;\n",
              "    padding-bottom: 0.3rem;\n",
              "}\n",
              "\n",
              ".estimator-table .parameters-table {\n",
              "    margin-left: auto !important;\n",
              "    margin-right: auto !important;\n",
              "}\n",
              "\n",
              ".estimator-table .parameters-table tr:nth-child(odd) {\n",
              "    background-color: #fff;\n",
              "}\n",
              "\n",
              ".estimator-table .parameters-table tr:nth-child(even) {\n",
              "    background-color: #f6f6f6;\n",
              "}\n",
              "\n",
              ".estimator-table .parameters-table tr:hover {\n",
              "    background-color: #e0e0e0;\n",
              "}\n",
              "\n",
              ".estimator-table table td {\n",
              "    border: 1px solid rgba(106, 105, 104, 0.232);\n",
              "}\n",
              "\n",
              ".user-set td {\n",
              "    color:rgb(255, 94, 0);\n",
              "    text-align: left;\n",
              "}\n",
              "\n",
              ".user-set td.value pre {\n",
              "    color:rgb(255, 94, 0) !important;\n",
              "    background-color: transparent !important;\n",
              "}\n",
              "\n",
              ".default td {\n",
              "    color: black;\n",
              "    text-align: left;\n",
              "}\n",
              "\n",
              ".user-set td i,\n",
              ".default td i {\n",
              "    color: black;\n",
              "}\n",
              "\n",
              ".copy-paste-icon {\n",
              "    background-image: url(data:image/svg+xml;base64,PHN2ZyB4bWxucz0iaHR0cDovL3d3dy53My5vcmcvMjAwMC9zdmciIHZpZXdCb3g9IjAgMCA0NDggNTEyIj48IS0tIUZvbnQgQXdlc29tZSBGcmVlIDYuNy4yIGJ5IEBmb250YXdlc29tZSAtIGh0dHBzOi8vZm9udGF3ZXNvbWUuY29tIExpY2Vuc2UgLSBodHRwczovL2ZvbnRhd2Vzb21lLmNvbS9saWNlbnNlL2ZyZWUgQ29weXJpZ2h0IDIwMjUgRm9udGljb25zLCBJbmMuLS0+PHBhdGggZD0iTTIwOCAwTDMzMi4xIDBjMTIuNyAwIDI0LjkgNS4xIDMzLjkgMTQuMWw2Ny45IDY3LjljOSA5IDE0LjEgMjEuMiAxNC4xIDMzLjlMNDQ4IDMzNmMwIDI2LjUtMjEuNSA0OC00OCA0OGwtMTkyIDBjLTI2LjUgMC00OC0yMS41LTQ4LTQ4bDAtMjg4YzAtMjYuNSAyMS41LTQ4IDQ4LTQ4ek00OCAxMjhsODAgMCAwIDY0LTY0IDAgMCAyNTYgMTkyIDAgMC0zMiA2NCAwIDAgNDhjMCAyNi41LTIxLjUgNDgtNDggNDhMNDggNTEyYy0yNi41IDAtNDgtMjEuNS00OC00OEwwIDE3NmMwLTI2LjUgMjEuNS00OCA0OC00OHoiLz48L3N2Zz4=);\n",
              "    background-repeat: no-repeat;\n",
              "    background-size: 14px 14px;\n",
              "    background-position: 0;\n",
              "    display: inline-block;\n",
              "    width: 14px;\n",
              "    height: 14px;\n",
              "    cursor: pointer;\n",
              "}\n",
              "</style><body><div id=\"sk-container-id-1\" class=\"sk-top-container\"><div class=\"sk-text-repr-fallback\"><pre>LogisticRegression(max_iter=1000, random_state=12345)</pre><b>In a Jupyter environment, please rerun this cell to show the HTML representation or trust the notebook. <br />On GitHub, the HTML representation is unable to render, please try loading this page with nbviewer.org.</b></div><div class=\"sk-container\" hidden><div class=\"sk-item\"><div class=\"sk-estimator fitted sk-toggleable\"><input class=\"sk-toggleable__control sk-hidden--visually\" id=\"sk-estimator-id-1\" type=\"checkbox\" checked><label for=\"sk-estimator-id-1\" class=\"sk-toggleable__label fitted sk-toggleable__label-arrow\"><div><div>LogisticRegression</div></div><div><a class=\"sk-estimator-doc-link fitted\" rel=\"noreferrer\" target=\"_blank\" href=\"https://scikit-learn.org/1.7/modules/generated/sklearn.linear_model.LogisticRegression.html\">?<span>Documentation for LogisticRegression</span></a><span class=\"sk-estimator-doc-link fitted\">i<span>Fitted</span></span></div></label><div class=\"sk-toggleable__content fitted\" data-param-prefix=\"\">\n",
              "        <div class=\"estimator-table\">\n",
              "            <details>\n",
              "                <summary>Parameters</summary>\n",
              "                <table class=\"parameters-table\">\n",
              "                  <tbody>\n",
              "                    \n",
              "        <tr class=\"default\">\n",
              "            <td><i class=\"copy-paste-icon\"\n",
              "                 onclick=\"copyToClipboard('penalty',\n",
              "                          this.parentElement.nextElementSibling)\"\n",
              "            ></i></td>\n",
              "            <td class=\"param\">penalty&nbsp;</td>\n",
              "            <td class=\"value\">&#x27;l2&#x27;</td>\n",
              "        </tr>\n",
              "    \n",
              "\n",
              "        <tr class=\"default\">\n",
              "            <td><i class=\"copy-paste-icon\"\n",
              "                 onclick=\"copyToClipboard('dual',\n",
              "                          this.parentElement.nextElementSibling)\"\n",
              "            ></i></td>\n",
              "            <td class=\"param\">dual&nbsp;</td>\n",
              "            <td class=\"value\">False</td>\n",
              "        </tr>\n",
              "    \n",
              "\n",
              "        <tr class=\"default\">\n",
              "            <td><i class=\"copy-paste-icon\"\n",
              "                 onclick=\"copyToClipboard('tol',\n",
              "                          this.parentElement.nextElementSibling)\"\n",
              "            ></i></td>\n",
              "            <td class=\"param\">tol&nbsp;</td>\n",
              "            <td class=\"value\">0.0001</td>\n",
              "        </tr>\n",
              "    \n",
              "\n",
              "        <tr class=\"default\">\n",
              "            <td><i class=\"copy-paste-icon\"\n",
              "                 onclick=\"copyToClipboard('C',\n",
              "                          this.parentElement.nextElementSibling)\"\n",
              "            ></i></td>\n",
              "            <td class=\"param\">C&nbsp;</td>\n",
              "            <td class=\"value\">1.0</td>\n",
              "        </tr>\n",
              "    \n",
              "\n",
              "        <tr class=\"default\">\n",
              "            <td><i class=\"copy-paste-icon\"\n",
              "                 onclick=\"copyToClipboard('fit_intercept',\n",
              "                          this.parentElement.nextElementSibling)\"\n",
              "            ></i></td>\n",
              "            <td class=\"param\">fit_intercept&nbsp;</td>\n",
              "            <td class=\"value\">True</td>\n",
              "        </tr>\n",
              "    \n",
              "\n",
              "        <tr class=\"default\">\n",
              "            <td><i class=\"copy-paste-icon\"\n",
              "                 onclick=\"copyToClipboard('intercept_scaling',\n",
              "                          this.parentElement.nextElementSibling)\"\n",
              "            ></i></td>\n",
              "            <td class=\"param\">intercept_scaling&nbsp;</td>\n",
              "            <td class=\"value\">1</td>\n",
              "        </tr>\n",
              "    \n",
              "\n",
              "        <tr class=\"default\">\n",
              "            <td><i class=\"copy-paste-icon\"\n",
              "                 onclick=\"copyToClipboard('class_weight',\n",
              "                          this.parentElement.nextElementSibling)\"\n",
              "            ></i></td>\n",
              "            <td class=\"param\">class_weight&nbsp;</td>\n",
              "            <td class=\"value\">None</td>\n",
              "        </tr>\n",
              "    \n",
              "\n",
              "        <tr class=\"user-set\">\n",
              "            <td><i class=\"copy-paste-icon\"\n",
              "                 onclick=\"copyToClipboard('random_state',\n",
              "                          this.parentElement.nextElementSibling)\"\n",
              "            ></i></td>\n",
              "            <td class=\"param\">random_state&nbsp;</td>\n",
              "            <td class=\"value\">12345</td>\n",
              "        </tr>\n",
              "    \n",
              "\n",
              "        <tr class=\"default\">\n",
              "            <td><i class=\"copy-paste-icon\"\n",
              "                 onclick=\"copyToClipboard('solver',\n",
              "                          this.parentElement.nextElementSibling)\"\n",
              "            ></i></td>\n",
              "            <td class=\"param\">solver&nbsp;</td>\n",
              "            <td class=\"value\">&#x27;lbfgs&#x27;</td>\n",
              "        </tr>\n",
              "    \n",
              "\n",
              "        <tr class=\"user-set\">\n",
              "            <td><i class=\"copy-paste-icon\"\n",
              "                 onclick=\"copyToClipboard('max_iter',\n",
              "                          this.parentElement.nextElementSibling)\"\n",
              "            ></i></td>\n",
              "            <td class=\"param\">max_iter&nbsp;</td>\n",
              "            <td class=\"value\">1000</td>\n",
              "        </tr>\n",
              "    \n",
              "\n",
              "        <tr class=\"default\">\n",
              "            <td><i class=\"copy-paste-icon\"\n",
              "                 onclick=\"copyToClipboard('multi_class',\n",
              "                          this.parentElement.nextElementSibling)\"\n",
              "            ></i></td>\n",
              "            <td class=\"param\">multi_class&nbsp;</td>\n",
              "            <td class=\"value\">&#x27;deprecated&#x27;</td>\n",
              "        </tr>\n",
              "    \n",
              "\n",
              "        <tr class=\"default\">\n",
              "            <td><i class=\"copy-paste-icon\"\n",
              "                 onclick=\"copyToClipboard('verbose',\n",
              "                          this.parentElement.nextElementSibling)\"\n",
              "            ></i></td>\n",
              "            <td class=\"param\">verbose&nbsp;</td>\n",
              "            <td class=\"value\">0</td>\n",
              "        </tr>\n",
              "    \n",
              "\n",
              "        <tr class=\"default\">\n",
              "            <td><i class=\"copy-paste-icon\"\n",
              "                 onclick=\"copyToClipboard('warm_start',\n",
              "                          this.parentElement.nextElementSibling)\"\n",
              "            ></i></td>\n",
              "            <td class=\"param\">warm_start&nbsp;</td>\n",
              "            <td class=\"value\">False</td>\n",
              "        </tr>\n",
              "    \n",
              "\n",
              "        <tr class=\"default\">\n",
              "            <td><i class=\"copy-paste-icon\"\n",
              "                 onclick=\"copyToClipboard('n_jobs',\n",
              "                          this.parentElement.nextElementSibling)\"\n",
              "            ></i></td>\n",
              "            <td class=\"param\">n_jobs&nbsp;</td>\n",
              "            <td class=\"value\">None</td>\n",
              "        </tr>\n",
              "    \n",
              "\n",
              "        <tr class=\"default\">\n",
              "            <td><i class=\"copy-paste-icon\"\n",
              "                 onclick=\"copyToClipboard('l1_ratio',\n",
              "                          this.parentElement.nextElementSibling)\"\n",
              "            ></i></td>\n",
              "            <td class=\"param\">l1_ratio&nbsp;</td>\n",
              "            <td class=\"value\">None</td>\n",
              "        </tr>\n",
              "    \n",
              "                  </tbody>\n",
              "                </table>\n",
              "            </details>\n",
              "        </div>\n",
              "    </div></div></div></div></div><script>function copyToClipboard(text, element) {\n",
              "    // Get the parameter prefix from the closest toggleable content\n",
              "    const toggleableContent = element.closest('.sk-toggleable__content');\n",
              "    const paramPrefix = toggleableContent ? toggleableContent.dataset.paramPrefix : '';\n",
              "    const fullParamName = paramPrefix ? `${paramPrefix}${text}` : text;\n",
              "\n",
              "    const originalStyle = element.style;\n",
              "    const computedStyle = window.getComputedStyle(element);\n",
              "    const originalWidth = computedStyle.width;\n",
              "    const originalHTML = element.innerHTML.replace('Copied!', '');\n",
              "\n",
              "    navigator.clipboard.writeText(fullParamName)\n",
              "        .then(() => {\n",
              "            element.style.width = originalWidth;\n",
              "            element.style.color = 'green';\n",
              "            element.innerHTML = \"Copied!\";\n",
              "\n",
              "            setTimeout(() => {\n",
              "                element.innerHTML = originalHTML;\n",
              "                element.style = originalStyle;\n",
              "            }, 2000);\n",
              "        })\n",
              "        .catch(err => {\n",
              "            console.error('Failed to copy:', err);\n",
              "            element.style.color = 'red';\n",
              "            element.innerHTML = \"Failed!\";\n",
              "            setTimeout(() => {\n",
              "                element.innerHTML = originalHTML;\n",
              "                element.style = originalStyle;\n",
              "            }, 2000);\n",
              "        });\n",
              "    return false;\n",
              "}\n",
              "\n",
              "document.querySelectorAll('.fa-regular.fa-copy').forEach(function(element) {\n",
              "    const toggleableContent = element.closest('.sk-toggleable__content');\n",
              "    const paramPrefix = toggleableContent ? toggleableContent.dataset.paramPrefix : '';\n",
              "    const paramName = element.parentElement.nextElementSibling.textContent.trim();\n",
              "    const fullParamName = paramPrefix ? `${paramPrefix}${paramName}` : paramName;\n",
              "\n",
              "    element.setAttribute('title', fullParamName);\n",
              "});\n",
              "</script></body>"
            ],
            "text/plain": [
              "LogisticRegression(max_iter=1000, random_state=12345)"
            ]
          },
          "execution_count": 42,
          "metadata": {},
          "output_type": "execute_result"
        }
      ],
      "source": [
        "model_a = LogisticRegression(max_iter=1000, random_state=12345)\n",
        "model_a.fit(X_train_tf_idf, df_reviews_train['pos'])"
      ]
    },
    {
      "cell_type": "code",
      "execution_count": 43,
      "metadata": {
        "id": "aO0ZqZ16cfQQ"
      },
      "outputs": [
        {
          "name": "stdout",
          "output_type": "stream",
          "text": [
            "          train  test\n",
            "Accuracy   0.94  0.88\n",
            "F1         0.94  0.88\n",
            "APS        0.98  0.95\n",
            "ROC AUC    0.98  0.95\n"
          ]
        },
        {
          "data": {
            "image/png": "[encoded data removed]",
            "text/plain": [
              "<Figure size 2000x600 with 3 Axes>"
            ]
          },
          "metadata": {},
          "output_type": "display_data"
        }
      ],
      "source": [
        "evaluate_model(model_a, X_train_tf_idf, df_reviews_train['pos'], X_test_tf_idf, df_reviews_test['pos'])"
      ]
    },
    {
      "cell_type": "markdown",
      "metadata": {
        "id": "teD9phjPcfQQ"
      },
      "source": [
        "### Modelo 3 - spaCy, TF-IDF y LR"
      ]
    },
    {
      "cell_type": "code",
      "execution_count": null,
      "metadata": {
        "id": "SEoEV9oGcfQR"
      },
      "outputs": [],
      "source": [
        "import spacy\n",
        "\n",
        "nlp = spacy.load('en_core_web_sm', disable=['parser', 'ner'])"
      ]
    },
    {
      "cell_type": "code",
      "execution_count": null,
      "metadata": {
        "id": "EkP85DpacfQR"
      },
      "outputs": [],
      "source": [
        "def text_preprocessing_3(text):\n",
        "\n",
        "    doc = nlp(text)\n",
        "    #tokens = [token.lemma_ for token in doc if not token.is_stop]\n",
        "    tokens = [token.lemma_ for token in doc]\n",
        "\n",
        "    return ' '.join(tokens)"
      ]
    },
    {
      "cell_type": "code",
      "execution_count": null,
      "metadata": {
        "id": "JkBym00-cfQR"
      },
      "outputs": [],
      "source": []
    },
    {
      "cell_type": "code",
      "execution_count": null,
      "metadata": {
        "id": "Wk2NkxWDcfQR"
      },
      "outputs": [],
      "source": []
    },
    {
      "cell_type": "code",
      "execution_count": null,
      "metadata": {
        "id": "1ccJH__fcfQR"
      },
      "outputs": [],
      "source": []
    },
    {
      "cell_type": "markdown",
      "metadata": {
        "id": "H0VlSM5YcfQR"
      },
      "source": [
        "### Modelo 4 - spaCy, TF-IDF y LGBMClassifier"
      ]
    },
    {
      "cell_type": "code",
      "execution_count": null,
      "metadata": {
        "id": "jAE0JqmdcfQR"
      },
      "outputs": [],
      "source": [
        "from lightgbm import LGBMClassifier"
      ]
    },
    {
      "cell_type": "code",
      "execution_count": null,
      "metadata": {
        "id": "lHOkVoQQcfQR"
      },
      "outputs": [],
      "source": []
    },
    {
      "cell_type": "code",
      "execution_count": null,
      "metadata": {
        "id": "oq6FV6MccfQS"
      },
      "outputs": [],
      "source": []
    },
    {
      "cell_type": "code",
      "execution_count": null,
      "metadata": {
        "id": "GNhAabEVcfQS"
      },
      "outputs": [],
      "source": []
    },
    {
      "cell_type": "markdown",
      "metadata": {
        "id": "DlQhUM51cfQS"
      },
      "source": [
        "###  Modelo 9 - BERT"
      ]
    },
    {
      "cell_type": "code",
      "execution_count": null,
      "metadata": {
        "id": "V9HAU_V-cfQS"
      },
      "outputs": [],
      "source": [
        "import torch\n",
        "import transformers"
      ]
    },
    {
      "cell_type": "code",
      "execution_count": null,
      "metadata": {
        "id": "fn8vtxEdcfQS"
      },
      "outputs": [],
      "source": [
        "tokenizer = transformers.BertTokenizer.from_pretrained('bert-base-uncased')\n",
        "config = transformers.BertConfig.from_pretrained('bert-base-uncased')\n",
        "model = transformers.BertModel.from_pretrained('bert-base-uncased')"
      ]
    },
    {
      "cell_type": "code",
      "execution_count": null,
      "metadata": {
        "id": "OZZvlCcdcfQS"
      },
      "outputs": [],
      "source": [
        "def BERT_text_to_embeddings(texts, max_length=512, batch_size=100, force_device=None, disable_progress_bar=False):\n",
        "\n",
        "    ids_list = []\n",
        "    attention_mask_list = []\n",
        "\n",
        "    # texto al id de relleno de tokens junto con sus máscaras de atención\n",
        "\n",
        "    # <escribe tu código aquí para crear ids_list y attention_mask_list>\n",
        "\n",
        "    if force_device is not None:\n",
        "        device = torch.device(force_device)\n",
        "    else:\n",
        "        device = torch.device('cuda' if torch.cuda.is_available() else 'cpu')\n",
        "\n",
        "    model.to(device)\n",
        "    if not disable_progress_bar:\n",
        "        print(f'Uso del dispositivo {device}.')\n",
        "\n",
        "    # obtener insertados en lotes\n",
        "\n",
        "    embeddings = []\n",
        "\n",
        "    for i in tqdm(range(math.ceil(len(ids_list)/batch_size)), disable=disable_progress_bar):\n",
        "\n",
        "        ids_batch = torch.LongTensor(ids_list[batch_size*i:batch_size*(i+1)]).to(device)\n",
        "        # <escribe tu código aquí para crear attention_mask_batch\n",
        "\n",
        "        with torch.no_grad():\n",
        "            model.eval()\n",
        "            batch_embeddings = model(input_ids=ids_batch, attention_mask=attention_mask_batch)\n",
        "        embeddings.append(batch_embeddings[0][:,0,:].detach().cpu().numpy())\n",
        "\n",
        "    return np.concatenate(embeddings)"
      ]
    },
    {
      "cell_type": "code",
      "execution_count": null,
      "metadata": {
        "id": "w7_j9A3RcfQT"
      },
      "outputs": [],
      "source": [
        "# ¡Atención! La ejecución de BERT para miles de textos puede llevar mucho tiempo en la CPU, al menos varias horas\n",
        "train_features_9 = BERT_text_to_embeddings(df_reviews_train['review_norm'], force_device='cuda')"
      ]
    },
    {
      "cell_type": "code",
      "execution_count": null,
      "metadata": {
        "id": "SX-B1Nx3cfQT"
      },
      "outputs": [],
      "source": [
        "print(df_reviews_train['review_norm'].shape)\n",
        "print(train_features_9.shape)\n",
        "print(train_target.shape)"
      ]
    },
    {
      "cell_type": "code",
      "execution_count": null,
      "metadata": {
        "id": "A0GZf3_tcfQT"
      },
      "outputs": [],
      "source": []
    },
    {
      "cell_type": "code",
      "execution_count": null,
      "metadata": {
        "id": "c4zAVV0OcfQT"
      },
      "outputs": [],
      "source": []
    },
    {
      "cell_type": "code",
      "execution_count": null,
      "metadata": {
        "id": "d8K-bgFdcfQT"
      },
      "outputs": [],
      "source": []
    },
    {
      "cell_type": "code",
      "execution_count": null,
      "metadata": {
        "id": "ILDmo2e-cfQT"
      },
      "outputs": [],
      "source": [
        "# si ya obtuviste los insertados, te recomendamos guardarlos para tenerlos listos si\n",
        "# np.savez_compressed('features_9.npz', train_features_9=train_features_9, test_features_9=test_features_9)\n",
        "\n",
        "# y cargar...\n",
        "# with np.load('features_9.npz') as data:\n",
        "#     train_features_9 = data['train_features_9']\n",
        "#     test_features_9 = data['test_features_9']"
      ]
    },
    {
      "cell_type": "code",
      "execution_count": null,
      "metadata": {
        "id": "ORIOeTPIcfQU"
      },
      "outputs": [],
      "source": []
    },
    {
      "cell_type": "code",
      "execution_count": null,
      "metadata": {
        "id": "OBTKE_eXcfQU"
      },
      "outputs": [],
      "source": []
    },
    {
      "cell_type": "code",
      "execution_count": null,
      "metadata": {
        "id": "gSnjixtxcfQU"
      },
      "outputs": [],
      "source": []
    },
    {
      "cell_type": "markdown",
      "metadata": {
        "id": "BpLOym4JcfQU"
      },
      "source": [
        "## Mis reseñas"
      ]
    },
    {
      "cell_type": "code",
      "execution_count": null,
      "metadata": {
        "id": "JizwXLEGcfQU"
      },
      "outputs": [],
      "source": [
        "# puedes eliminar por completo estas reseñas y probar tus modelos en tus propias reseñas; las que se muestran a continuación son solo ejemplos\n",
        "\n",
        "my_reviews = pd.DataFrame([\n",
        "    'I did not simply like it, not my kind of movie.',\n",
        "    'Well, I was bored and felt asleep in the middle of the movie.',\n",
        "    'I was really fascinated with the movie',\n",
        "    'Even the actors looked really old and disinterested, and they got paid to be in the movie. What a soulless cash grab.',\n",
        "    'I didn\\'t expect the reboot to be so good! Writers really cared about the source material',\n",
        "    'The movie had its upsides and downsides, but I feel like overall it\\'s a decent flick. I could see myself going to see it again.',\n",
        "    'What a rotten attempt at a comedy. Not a single joke lands, everyone acts annoying and loud, even kids won\\'t like this!',\n",
        "    'Launching on Netflix was a brave move & I really appreciate being able to binge on episode after episode, of this exciting intelligent new drama.'\n",
        "], columns=['review'])\n",
        "\n",
        "\"\"\"\n",
        "my_reviews = pd.DataFrame([\n",
        "    'Simplemente no me gustó, no es mi tipo de película.',\n",
        "    'Bueno, estaba aburrido y me quedé dormido a media película.',\n",
        "    'Estaba realmente fascinada con la película',\n",
        "    'Hasta los actores parecían muy viejos y desinteresados, y les pagaron por estar en la película. Qué robo tan desalmado.',\n",
        "    '¡No esperaba que el relanzamiento fuera tan bueno! Los escritores realmente se preocuparon por el material original',\n",
        "    'La película tuvo sus altibajos, pero siento que, en general, es una película decente. Sí la volvería a ver',\n",
        "    'Qué pésimo intento de comedia. Ni una sola broma tiene sentido, todos actúan de forma irritante y ruidosa, ¡ni siquiera a los niños les gustará esto!',\n",
        "    'Fue muy valiente el lanzamiento en Netflix y realmente aprecio poder seguir viendo episodio tras episodio de este nuevo drama tan emocionante e inteligente.'\n",
        "], columns=['review'])\n",
        "\"\"\"\n",
        "\n",
        "my_reviews['review_norm'] = ...# <escribe aquí la misma lógica de normalización que para el conjunto de datos principal>\n",
        "\n",
        "my_reviews"
      ]
    },
    {
      "cell_type": "markdown",
      "metadata": {
        "id": "mT_niSv7cfQU"
      },
      "source": [
        "### Modelo 2"
      ]
    },
    {
      "cell_type": "code",
      "execution_count": null,
      "metadata": {
        "id": "hXQtndPLcfQU",
        "outputId": "eaaf8c57-1a9f-42ff-e35f-554ab2acdb32"
      },
      "outputs": [
        {
          "name": "stdout",
          "output_type": "stream",
          "text": [
            "0.14:  simplemente no me gustó no es mi tipo de película\n",
            "0.16:  bueno estaba aburrido y me quedé dormido a media película \n",
            "0.54:  estaba realmente fascinada con la película\n",
            "0.11:  hasta los actores parecían muy viejos y desinteresados y les pagaron por estar en la película qué\n",
            "0.31:  no esperaba que el relanzamiento fuera tan bueno los escritores realmente se preocuparon por el material original\n",
            "0.47:  la película tuvo sus altibajos pero siento que en general es una película decente sí la volvería\n",
            "0.04:  qué pésimo intento de comedia ni una sola broma tiene sentido todos actúan de forma irritante y ruidosa ni siquiera a los ni\n",
            "0.82:  fue muy valiente el lanzamiento en netflix realmente aprecio poder seguir viendo episodio tras epi\n"
          ]
        }
      ],
      "source": [
        "texts = my_reviews['review_norm']\n",
        "\n",
        "my_reviews_pred_prob = model_2.predict_proba(tfidf_vectorizer_2.transform(texts))[:, 1]\n",
        "\n",
        "for i, review in enumerate(texts.str.slice(0, 100)):\n",
        "    print(f'{my_reviews_pred_prob[i]:.2f}:  {review}')"
      ]
    },
    {
      "cell_type": "markdown",
      "metadata": {
        "id": "V8Gn5GJ-cfQV"
      },
      "source": [
        "### Modelo 3"
      ]
    },
    {
      "cell_type": "code",
      "execution_count": null,
      "metadata": {
        "id": "uraMvt2vcfQV"
      },
      "outputs": [],
      "source": [
        "texts = my_reviews['review_norm']\n",
        "\n",
        "my_reviews_pred_prob = model_3.predict_proba(tfidf_vectorizer_3.transform(texts.apply(lambda x: text_preprocessing_3(x))))[:, 1]\n",
        "\n",
        "for i, review in enumerate(texts.str.slice(0, 100)):\n",
        "    print(f'{my_reviews_pred_prob[i]:.2f}:  {review}')"
      ]
    },
    {
      "cell_type": "markdown",
      "metadata": {
        "id": "Q4jdHbHocfQV"
      },
      "source": [
        "### Modelo 4"
      ]
    },
    {
      "cell_type": "code",
      "execution_count": null,
      "metadata": {
        "id": "uJrFDahgcfQV"
      },
      "outputs": [],
      "source": [
        "texts = my_reviews['review_norm']\n",
        "\n",
        "tfidf_vectorizer_4 = tfidf_vectorizer_3\n",
        "my_reviews_pred_prob = model_4.predict_proba(tfidf_vectorizer_4.transform(texts.apply(lambda x: text_preprocessing_3(x))))[:, 1]\n",
        "\n",
        "for i, review in enumerate(texts.str.slice(0, 100)):\n",
        "    print(f'{my_reviews_pred_prob[i]:.2f}:  {review}')"
      ]
    },
    {
      "cell_type": "markdown",
      "metadata": {
        "id": "t1NGuHk6cfQV"
      },
      "source": [
        "### Modelo 9"
      ]
    },
    {
      "cell_type": "code",
      "execution_count": null,
      "metadata": {
        "id": "KeYHpAnRcfQW"
      },
      "outputs": [],
      "source": [
        "texts = my_reviews['review_norm']\n",
        "\n",
        "my_reviews_features_9 = BERT_text_to_embeddings(texts, disable_progress_bar=True)\n",
        "\n",
        "my_reviews_pred_prob = model_9.predict_proba(my_reviews_features_9)[:, 1]\n",
        "\n",
        "for i, review in enumerate(texts.str.slice(0, 100)):\n",
        "    print(f'{my_reviews_pred_prob[i]:.2f}:  {review}')"
      ]
    },
    {
      "cell_type": "markdown",
      "metadata": {
        "id": "4CyDGAfwcfQW"
      },
      "source": [
        "## Conclusiones"
      ]
    },
    {
      "cell_type": "code",
      "execution_count": null,
      "metadata": {
        "id": "Nz5mKqducfQW"
      },
      "outputs": [],
      "source": []
    },
    {
      "cell_type": "code",
      "execution_count": null,
      "metadata": {
        "id": "v_AegW5GcfQW"
      },
      "outputs": [],
      "source": []
    },
    {
      "cell_type": "code",
      "execution_count": null,
      "metadata": {
        "id": "C63VgO6PcfQW"
      },
      "outputs": [],
      "source": []
    },
    {
      "cell_type": "markdown",
      "metadata": {
        "id": "lNnjnRjycfQW"
      },
      "source": [
        "# Lista de comprobación"
      ]
    },
    {
      "cell_type": "markdown",
      "metadata": {
        "id": "j373G2ZNcfQW"
      },
      "source": [
        "- [x]  Abriste el notebook\n",
        "- [ ]  Cargaste y preprocesaste los datos de texto para su vectorización\n",
        "- [ ]  Transformaste los datos de texto en vectores\n",
        "- [ ]  Entrenaste y probaste los modelos\n",
        "- [ ]  Se alcanzó el umbral de la métrica\n",
        "- [ ]  Colocaste todas las celdas de código en el orden de su ejecución\n",
        "- [ ]  Puedes ejecutar sin errores todas las celdas de código\n",
        "- [ ]  Hay conclusiones"
      ]
    },
    {
      "cell_type": "code",
      "execution_count": null,
      "metadata": {
        "id": "J6rEwAhhcfQW"
      },
      "outputs": [],
      "source": []
    }
  ],
  "metadata": {
    "colab": {
      "provenance": []
    },
    "kernelspec": {
      "display_name": "venv",
      "language": "python",
      "name": "python3"
    },
    "language_info": {
      "codemirror_mode": {
        "name": "ipython",
        "version": 3
      },
      "file_extension": ".py",
      "mimetype": "text/x-python",
      "name": "python",
      "nbconvert_exporter": "python",
      "pygments_lexer": "ipython3",
      "version": "3.13.4"
    },
    "toc": {
      "base_numbering": 1,
      "nav_menu": {},
      "number_sections": true,
      "sideBar": true,
      "skip_h1_title": true,
      "title_cell": "Table of Contents",
      "title_sidebar": "Contents",
      "toc_cell": false,
      "toc_position": {},
      "toc_section_display": true,
      "toc_window_display": false
    }
  },
  "nbformat": 4,
  "nbformat_minor": 0
}
